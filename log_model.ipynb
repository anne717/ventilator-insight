{
 "cells": [
  {
   "cell_type": "markdown",
   "metadata": {},
   "source": [
    "## logistic regression model\n",
    "\n",
    "#### import libraries"
   ]
  },
  {
   "cell_type": "code",
   "execution_count": 1,
   "metadata": {},
   "outputs": [],
   "source": [
    "import pandas as pd\n",
    "import numpy as np\n",
    "import seaborn as sns\n",
    "import matplotlib.pyplot as plt"
   ]
  },
  {
   "cell_type": "markdown",
   "metadata": {},
   "source": [
    "#### load cleaned feature data table"
   ]
  },
  {
   "cell_type": "code",
   "execution_count": 4,
   "metadata": {},
   "outputs": [],
   "source": [
    "df = pd.read_csv('clean_ft_table.csv')"
   ]
  },
  {
   "cell_type": "code",
   "execution_count": 20,
   "metadata": {},
   "outputs": [
    {
     "data": {
      "text/html": [
       "<div>\n",
       "<style scoped>\n",
       "    .dataframe tbody tr th:only-of-type {\n",
       "        vertical-align: middle;\n",
       "    }\n",
       "\n",
       "    .dataframe tbody tr th {\n",
       "        vertical-align: top;\n",
       "    }\n",
       "\n",
       "    .dataframe thead th {\n",
       "        text-align: right;\n",
       "    }\n",
       "</style>\n",
       "<table border=\"1\" class=\"dataframe\">\n",
       "  <thead>\n",
       "    <tr style=\"text-align: right;\">\n",
       "      <th></th>\n",
       "      <th>spontRR</th>\n",
       "      <th>stdABP</th>\n",
       "      <th>meanABP</th>\n",
       "      <th>stdSpontRR</th>\n",
       "      <th>pulseox</th>\n",
       "      <th>stdPulseox</th>\n",
       "      <th>temp</th>\n",
       "      <th>heartRate</th>\n",
       "      <th>stdHeartRate</th>\n",
       "      <th>weight</th>\n",
       "      <th>height</th>\n",
       "      <th>re_intub_class</th>\n",
       "      <th>anchor_age</th>\n",
       "      <th>time_on_vent</th>\n",
       "      <th>adm_type_ELECTIVE</th>\n",
       "      <th>adm_type_EW EMER.</th>\n",
       "      <th>adm_type_OBSERVATION ADMIT</th>\n",
       "      <th>adm_type_SURGICAL SAME DAY ADMISSION</th>\n",
       "      <th>adm_type_URGENT</th>\n",
       "      <th>gender_M</th>\n",
       "    </tr>\n",
       "  </thead>\n",
       "  <tbody>\n",
       "    <tr>\n",
       "      <th>10637</th>\n",
       "      <td>17.0</td>\n",
       "      <td>6.260990</td>\n",
       "      <td>80.0</td>\n",
       "      <td>3.204164</td>\n",
       "      <td>95.0</td>\n",
       "      <td>2.280351</td>\n",
       "      <td>36.888889</td>\n",
       "      <td>81.0</td>\n",
       "      <td>5.750362</td>\n",
       "      <td>196.700000</td>\n",
       "      <td>70.039370</td>\n",
       "      <td>1</td>\n",
       "      <td>61</td>\n",
       "      <td>25.500000</td>\n",
       "      <td>0</td>\n",
       "      <td>0</td>\n",
       "      <td>1</td>\n",
       "      <td>0</td>\n",
       "      <td>0</td>\n",
       "      <td>1</td>\n",
       "    </tr>\n",
       "    <tr>\n",
       "      <th>10638</th>\n",
       "      <td>32.0</td>\n",
       "      <td>12.722683</td>\n",
       "      <td>106.0</td>\n",
       "      <td>4.855042</td>\n",
       "      <td>90.0</td>\n",
       "      <td>1.861899</td>\n",
       "      <td>37.166667</td>\n",
       "      <td>121.0</td>\n",
       "      <td>10.962056</td>\n",
       "      <td>88.950000</td>\n",
       "      <td>55.952756</td>\n",
       "      <td>1</td>\n",
       "      <td>58</td>\n",
       "      <td>93.116667</td>\n",
       "      <td>0</td>\n",
       "      <td>0</td>\n",
       "      <td>1</td>\n",
       "      <td>0</td>\n",
       "      <td>0</td>\n",
       "      <td>0</td>\n",
       "    </tr>\n",
       "    <tr>\n",
       "      <th>10639</th>\n",
       "      <td>20.0</td>\n",
       "      <td>5.167204</td>\n",
       "      <td>59.0</td>\n",
       "      <td>1.516575</td>\n",
       "      <td>99.0</td>\n",
       "      <td>1.095445</td>\n",
       "      <td>36.222222</td>\n",
       "      <td>81.0</td>\n",
       "      <td>6.580274</td>\n",
       "      <td>166.100000</td>\n",
       "      <td>61.011811</td>\n",
       "      <td>1</td>\n",
       "      <td>85</td>\n",
       "      <td>29.833333</td>\n",
       "      <td>0</td>\n",
       "      <td>0</td>\n",
       "      <td>0</td>\n",
       "      <td>0</td>\n",
       "      <td>1</td>\n",
       "      <td>0</td>\n",
       "    </tr>\n",
       "    <tr>\n",
       "      <th>10640</th>\n",
       "      <td>15.0</td>\n",
       "      <td>10.788883</td>\n",
       "      <td>93.0</td>\n",
       "      <td>3.082207</td>\n",
       "      <td>98.0</td>\n",
       "      <td>0.816497</td>\n",
       "      <td>37.666667</td>\n",
       "      <td>101.0</td>\n",
       "      <td>11.545562</td>\n",
       "      <td>156.860000</td>\n",
       "      <td>68.055118</td>\n",
       "      <td>1</td>\n",
       "      <td>42</td>\n",
       "      <td>100.500000</td>\n",
       "      <td>0</td>\n",
       "      <td>0</td>\n",
       "      <td>1</td>\n",
       "      <td>0</td>\n",
       "      <td>0</td>\n",
       "      <td>1</td>\n",
       "    </tr>\n",
       "    <tr>\n",
       "      <th>10641</th>\n",
       "      <td>12.0</td>\n",
       "      <td>22.793182</td>\n",
       "      <td>74.0</td>\n",
       "      <td>6.209152</td>\n",
       "      <td>97.0</td>\n",
       "      <td>2.632835</td>\n",
       "      <td>36.900000</td>\n",
       "      <td>53.0</td>\n",
       "      <td>3.869069</td>\n",
       "      <td>193.600000</td>\n",
       "      <td>73.561024</td>\n",
       "      <td>1</td>\n",
       "      <td>61</td>\n",
       "      <td>6.150000</td>\n",
       "      <td>0</td>\n",
       "      <td>0</td>\n",
       "      <td>0</td>\n",
       "      <td>1</td>\n",
       "      <td>0</td>\n",
       "      <td>1</td>\n",
       "    </tr>\n",
       "    <tr>\n",
       "      <th>...</th>\n",
       "      <td>...</td>\n",
       "      <td>...</td>\n",
       "      <td>...</td>\n",
       "      <td>...</td>\n",
       "      <td>...</td>\n",
       "      <td>...</td>\n",
       "      <td>...</td>\n",
       "      <td>...</td>\n",
       "      <td>...</td>\n",
       "      <td>...</td>\n",
       "      <td>...</td>\n",
       "      <td>...</td>\n",
       "      <td>...</td>\n",
       "      <td>...</td>\n",
       "      <td>...</td>\n",
       "      <td>...</td>\n",
       "      <td>...</td>\n",
       "      <td>...</td>\n",
       "      <td>...</td>\n",
       "      <td>...</td>\n",
       "    </tr>\n",
       "    <tr>\n",
       "      <th>11633</th>\n",
       "      <td>22.0</td>\n",
       "      <td>5.902481</td>\n",
       "      <td>84.0</td>\n",
       "      <td>2.326094</td>\n",
       "      <td>100.0</td>\n",
       "      <td>0.000000</td>\n",
       "      <td>37.722222</td>\n",
       "      <td>75.0</td>\n",
       "      <td>3.352327</td>\n",
       "      <td>189.200000</td>\n",
       "      <td>70.039370</td>\n",
       "      <td>1</td>\n",
       "      <td>65</td>\n",
       "      <td>14.783333</td>\n",
       "      <td>0</td>\n",
       "      <td>1</td>\n",
       "      <td>0</td>\n",
       "      <td>0</td>\n",
       "      <td>0</td>\n",
       "      <td>1</td>\n",
       "    </tr>\n",
       "    <tr>\n",
       "      <th>11634</th>\n",
       "      <td>13.0</td>\n",
       "      <td>3.761299</td>\n",
       "      <td>64.5</td>\n",
       "      <td>1.863525</td>\n",
       "      <td>96.0</td>\n",
       "      <td>1.354006</td>\n",
       "      <td>37.055556</td>\n",
       "      <td>94.0</td>\n",
       "      <td>2.321398</td>\n",
       "      <td>139.000000</td>\n",
       "      <td>61.011811</td>\n",
       "      <td>1</td>\n",
       "      <td>65</td>\n",
       "      <td>73.466667</td>\n",
       "      <td>0</td>\n",
       "      <td>0</td>\n",
       "      <td>0</td>\n",
       "      <td>0</td>\n",
       "      <td>0</td>\n",
       "      <td>0</td>\n",
       "    </tr>\n",
       "    <tr>\n",
       "      <th>11635</th>\n",
       "      <td>17.0</td>\n",
       "      <td>12.378938</td>\n",
       "      <td>71.0</td>\n",
       "      <td>1.772811</td>\n",
       "      <td>100.0</td>\n",
       "      <td>0.000000</td>\n",
       "      <td>36.888889</td>\n",
       "      <td>80.0</td>\n",
       "      <td>2.483277</td>\n",
       "      <td>160.600000</td>\n",
       "      <td>64.086614</td>\n",
       "      <td>1</td>\n",
       "      <td>53</td>\n",
       "      <td>218.083333</td>\n",
       "      <td>0</td>\n",
       "      <td>1</td>\n",
       "      <td>0</td>\n",
       "      <td>0</td>\n",
       "      <td>0</td>\n",
       "      <td>0</td>\n",
       "    </tr>\n",
       "    <tr>\n",
       "      <th>11636</th>\n",
       "      <td>21.0</td>\n",
       "      <td>296.433466</td>\n",
       "      <td>73.0</td>\n",
       "      <td>8.952254</td>\n",
       "      <td>100.0</td>\n",
       "      <td>1.549193</td>\n",
       "      <td>36.888889</td>\n",
       "      <td>71.0</td>\n",
       "      <td>14.052283</td>\n",
       "      <td>236.133333</td>\n",
       "      <td>70.039370</td>\n",
       "      <td>1</td>\n",
       "      <td>72</td>\n",
       "      <td>98.900000</td>\n",
       "      <td>0</td>\n",
       "      <td>1</td>\n",
       "      <td>0</td>\n",
       "      <td>0</td>\n",
       "      <td>0</td>\n",
       "      <td>1</td>\n",
       "    </tr>\n",
       "    <tr>\n",
       "      <th>11637</th>\n",
       "      <td>12.0</td>\n",
       "      <td>7.949843</td>\n",
       "      <td>122.0</td>\n",
       "      <td>4.527693</td>\n",
       "      <td>99.0</td>\n",
       "      <td>0.547723</td>\n",
       "      <td>36.722222</td>\n",
       "      <td>88.0</td>\n",
       "      <td>4.472136</td>\n",
       "      <td>147.400000</td>\n",
       "      <td>59.921260</td>\n",
       "      <td>1</td>\n",
       "      <td>43</td>\n",
       "      <td>44.000000</td>\n",
       "      <td>0</td>\n",
       "      <td>0</td>\n",
       "      <td>0</td>\n",
       "      <td>0</td>\n",
       "      <td>1</td>\n",
       "      <td>0</td>\n",
       "    </tr>\n",
       "  </tbody>\n",
       "</table>\n",
       "<p>1001 rows × 20 columns</p>\n",
       "</div>"
      ],
      "text/plain": [
       "       spontRR      stdABP  meanABP  stdSpontRR  pulseox  stdPulseox  \\\n",
       "10637     17.0    6.260990     80.0    3.204164     95.0    2.280351   \n",
       "10638     32.0   12.722683    106.0    4.855042     90.0    1.861899   \n",
       "10639     20.0    5.167204     59.0    1.516575     99.0    1.095445   \n",
       "10640     15.0   10.788883     93.0    3.082207     98.0    0.816497   \n",
       "10641     12.0   22.793182     74.0    6.209152     97.0    2.632835   \n",
       "...        ...         ...      ...         ...      ...         ...   \n",
       "11633     22.0    5.902481     84.0    2.326094    100.0    0.000000   \n",
       "11634     13.0    3.761299     64.5    1.863525     96.0    1.354006   \n",
       "11635     17.0   12.378938     71.0    1.772811    100.0    0.000000   \n",
       "11636     21.0  296.433466     73.0    8.952254    100.0    1.549193   \n",
       "11637     12.0    7.949843    122.0    4.527693     99.0    0.547723   \n",
       "\n",
       "            temp  heartRate  stdHeartRate      weight     height  \\\n",
       "10637  36.888889       81.0      5.750362  196.700000  70.039370   \n",
       "10638  37.166667      121.0     10.962056   88.950000  55.952756   \n",
       "10639  36.222222       81.0      6.580274  166.100000  61.011811   \n",
       "10640  37.666667      101.0     11.545562  156.860000  68.055118   \n",
       "10641  36.900000       53.0      3.869069  193.600000  73.561024   \n",
       "...          ...        ...           ...         ...        ...   \n",
       "11633  37.722222       75.0      3.352327  189.200000  70.039370   \n",
       "11634  37.055556       94.0      2.321398  139.000000  61.011811   \n",
       "11635  36.888889       80.0      2.483277  160.600000  64.086614   \n",
       "11636  36.888889       71.0     14.052283  236.133333  70.039370   \n",
       "11637  36.722222       88.0      4.472136  147.400000  59.921260   \n",
       "\n",
       "       re_intub_class  anchor_age  time_on_vent  adm_type_ELECTIVE  \\\n",
       "10637               1          61     25.500000                  0   \n",
       "10638               1          58     93.116667                  0   \n",
       "10639               1          85     29.833333                  0   \n",
       "10640               1          42    100.500000                  0   \n",
       "10641               1          61      6.150000                  0   \n",
       "...               ...         ...           ...                ...   \n",
       "11633               1          65     14.783333                  0   \n",
       "11634               1          65     73.466667                  0   \n",
       "11635               1          53    218.083333                  0   \n",
       "11636               1          72     98.900000                  0   \n",
       "11637               1          43     44.000000                  0   \n",
       "\n",
       "       adm_type_EW EMER.  adm_type_OBSERVATION ADMIT  \\\n",
       "10637                  0                           1   \n",
       "10638                  0                           1   \n",
       "10639                  0                           0   \n",
       "10640                  0                           1   \n",
       "10641                  0                           0   \n",
       "...                  ...                         ...   \n",
       "11633                  1                           0   \n",
       "11634                  0                           0   \n",
       "11635                  1                           0   \n",
       "11636                  1                           0   \n",
       "11637                  0                           0   \n",
       "\n",
       "       adm_type_SURGICAL SAME DAY ADMISSION  adm_type_URGENT  gender_M  \n",
       "10637                                     0                0         1  \n",
       "10638                                     0                0         0  \n",
       "10639                                     0                1         0  \n",
       "10640                                     0                0         1  \n",
       "10641                                     1                0         1  \n",
       "...                                     ...              ...       ...  \n",
       "11633                                     0                0         1  \n",
       "11634                                     0                0         0  \n",
       "11635                                     0                0         0  \n",
       "11636                                     0                0         1  \n",
       "11637                                     0                1         0  \n",
       "\n",
       "[1001 rows x 20 columns]"
      ]
     },
     "execution_count": 20,
     "metadata": {},
     "output_type": "execute_result"
    }
   ],
   "source": [
    "df[df['re_intub_class']==1]"
   ]
  },
  {
   "cell_type": "markdown",
   "metadata": {},
   "source": [
    "## Train model\n",
    "\n",
    "### perform train test split"
   ]
  },
  {
   "cell_type": "code",
   "execution_count": 35,
   "metadata": {},
   "outputs": [],
   "source": [
    "X = df[df.columns.drop('re_intub_class')]\n",
    "y = df['re_intub_class']"
   ]
  },
  {
   "cell_type": "code",
   "execution_count": 36,
   "metadata": {},
   "outputs": [],
   "source": [
    "from sklearn.model_selection import train_test_split\n",
    "X_train, X_test, y_train, y_test = train_test_split(X, y, test_size=0.3, random_state=42)"
   ]
  },
  {
   "cell_type": "markdown",
   "metadata": {},
   "source": [
    "#### 2. Perform feature scaling\n",
    "\n",
    "Because the range of values in the features are not necessarily in the same order of magnitude, we will scale the feature data prior to training the model.\n",
    "\n",
    "* actually... they might not be far off! "
   ]
  },
  {
   "cell_type": "code",
   "execution_count": 37,
   "metadata": {},
   "outputs": [
    {
     "data": {
      "text/plain": [
       "StandardScaler()"
      ]
     },
     "execution_count": 37,
     "metadata": {},
     "output_type": "execute_result"
    }
   ],
   "source": [
    "from sklearn.preprocessing import StandardScaler\n",
    "scaler = StandardScaler()\n",
    "scaler.fit(X_train)"
   ]
  },
  {
   "cell_type": "code",
   "execution_count": 38,
   "metadata": {},
   "outputs": [],
   "source": [
    "X_train = scaler.transform(X_train)\n",
    "X_test = scaler.transform(X_test)"
   ]
  },
  {
   "cell_type": "markdown",
   "metadata": {},
   "source": [
    "#### 3. SMOTE it!"
   ]
  },
  {
   "cell_type": "code",
   "execution_count": 43,
   "metadata": {},
   "outputs": [
    {
     "name": "stdout",
     "output_type": "stream",
     "text": [
      "Counter({0: 7423, 1: 723})\n"
     ]
    }
   ],
   "source": [
    "from collections import Counter\n",
    "counter = Counter(y_train)\n",
    "print(counter)"
   ]
  },
  {
   "cell_type": "code",
   "execution_count": 40,
   "metadata": {},
   "outputs": [
    {
     "name": "stdout",
     "output_type": "stream",
     "text": [
      "0.7.0\n"
     ]
    }
   ],
   "source": [
    "import imblearn\n",
    "print(imblearn.__version__)"
   ]
  },
  {
   "cell_type": "code",
   "execution_count": 41,
   "metadata": {},
   "outputs": [],
   "source": [
    "from imblearn.over_sampling import SMOTE"
   ]
  },
  {
   "cell_type": "code",
   "execution_count": 42,
   "metadata": {},
   "outputs": [],
   "source": [
    "# transform the dataset\n",
    "oversample = SMOTE(random_state = 101)"
   ]
  },
  {
   "cell_type": "code",
   "execution_count": 44,
   "metadata": {},
   "outputs": [],
   "source": [
    "X_smote, y_smote = oversample.fit_resample(X_train, y_train)"
   ]
  },
  {
   "cell_type": "code",
   "execution_count": 45,
   "metadata": {},
   "outputs": [
    {
     "name": "stdout",
     "output_type": "stream",
     "text": [
      "Counter({0: 7423, 1: 7423})\n"
     ]
    }
   ],
   "source": [
    "counter = Counter(y_smote)\n",
    "print(counter)"
   ]
  },
  {
   "cell_type": "markdown",
   "metadata": {},
   "source": [
    "#### 4. Do logistic regression model"
   ]
  },
  {
   "cell_type": "code",
   "execution_count": 46,
   "metadata": {},
   "outputs": [],
   "source": [
    "from sklearn.linear_model import LogisticRegression"
   ]
  },
  {
   "cell_type": "code",
   "execution_count": 47,
   "metadata": {},
   "outputs": [
    {
     "data": {
      "text/plain": [
       "LogisticRegression()"
      ]
     },
     "execution_count": 47,
     "metadata": {},
     "output_type": "execute_result"
    }
   ],
   "source": [
    "logmodel = LogisticRegression()\n",
    "logmodel.fit(X_smote,y_smote)"
   ]
  },
  {
   "cell_type": "code",
   "execution_count": 48,
   "metadata": {},
   "outputs": [],
   "source": [
    "predictions = logmodel.predict(X_test)"
   ]
  },
  {
   "cell_type": "markdown",
   "metadata": {},
   "source": [
    "#### 5. Evaulate model"
   ]
  },
  {
   "cell_type": "code",
   "execution_count": 49,
   "metadata": {},
   "outputs": [],
   "source": [
    "from sklearn.metrics import classification_report, confusion_matrix"
   ]
  },
  {
   "cell_type": "code",
   "execution_count": 50,
   "metadata": {},
   "outputs": [
    {
     "name": "stdout",
     "output_type": "stream",
     "text": [
      "              precision    recall  f1-score   support\n",
      "\n",
      "           0       0.95      0.58      0.72      3214\n",
      "           1       0.11      0.62      0.19       278\n",
      "\n",
      "    accuracy                           0.58      3492\n",
      "   macro avg       0.53      0.60      0.46      3492\n",
      "weighted avg       0.88      0.58      0.68      3492\n",
      "\n"
     ]
    }
   ],
   "source": [
    "print(classification_report(y_test,predictions))"
   ]
  },
  {
   "cell_type": "code",
   "execution_count": 51,
   "metadata": {},
   "outputs": [
    {
     "name": "stdout",
     "output_type": "stream",
     "text": [
      "[[1865 1349]\n",
      " [ 106  172]]\n"
     ]
    }
   ],
   "source": [
    "print(confusion_matrix(y_test,predictions))"
   ]
  },
  {
   "cell_type": "code",
   "execution_count": null,
   "metadata": {},
   "outputs": [],
   "source": []
  },
  {
   "cell_type": "code",
   "execution_count": null,
   "metadata": {},
   "outputs": [],
   "source": []
  }
 ],
 "metadata": {
  "kernelspec": {
   "display_name": "Python 3",
   "language": "python",
   "name": "python3"
  },
  "language_info": {
   "codemirror_mode": {
    "name": "ipython",
    "version": 3
   },
   "file_extension": ".py",
   "mimetype": "text/x-python",
   "name": "python",
   "nbconvert_exporter": "python",
   "pygments_lexer": "ipython3",
   "version": "3.8.5"
  }
 },
 "nbformat": 4,
 "nbformat_minor": 4
}
