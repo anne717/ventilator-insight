{
 "cells": [
  {
   "cell_type": "markdown",
   "metadata": {},
   "source": [
    "## logistic regression model\n",
    "\n",
    "#### import libraries"
   ]
  },
  {
   "cell_type": "code",
   "execution_count": 1,
   "metadata": {},
   "outputs": [],
   "source": [
    "import pandas as pd\n",
    "import numpy as np\n",
    "import seaborn as sns\n",
    "import matplotlib.pyplot as plt"
   ]
  },
  {
   "cell_type": "markdown",
   "metadata": {},
   "source": [
    "#### load cleaned feature data table"
   ]
  },
  {
   "cell_type": "code",
   "execution_count": 2,
   "metadata": {},
   "outputs": [],
   "source": [
    "df = pd.read_feather('../data/processed/df_to_model')"
   ]
  },
  {
   "cell_type": "code",
   "execution_count": 3,
   "metadata": {},
   "outputs": [
    {
     "data": {
      "text/plain": [
       "Index(['time_on_vent', 'anchor_age', 'spontrr', 'heartrate', 'std_spontrr',\n",
       "       'weight', 'bloodpressure', 'std_pulseox', 'std_heartrate', 'height',\n",
       "       'tidalvolume', 'temp', 'std_bloodpressure', 'pulseox', 're_intub_class',\n",
       "       'gender', 'admission_type', 'newpulse'],\n",
       "      dtype='object')"
      ]
     },
     "execution_count": 3,
     "metadata": {},
     "output_type": "execute_result"
    }
   ],
   "source": [
    "df.columns"
   ]
  },
  {
   "cell_type": "code",
   "execution_count": 4,
   "metadata": {},
   "outputs": [
    {
     "data": {
      "text/html": [
       "<div>\n",
       "<style scoped>\n",
       "    .dataframe tbody tr th:only-of-type {\n",
       "        vertical-align: middle;\n",
       "    }\n",
       "\n",
       "    .dataframe tbody tr th {\n",
       "        vertical-align: top;\n",
       "    }\n",
       "\n",
       "    .dataframe thead th {\n",
       "        text-align: right;\n",
       "    }\n",
       "</style>\n",
       "<table border=\"1\" class=\"dataframe\">\n",
       "  <thead>\n",
       "    <tr style=\"text-align: right;\">\n",
       "      <th></th>\n",
       "      <th>time_on_vent</th>\n",
       "      <th>anchor_age</th>\n",
       "      <th>spontrr</th>\n",
       "      <th>heartrate</th>\n",
       "      <th>std_spontrr</th>\n",
       "      <th>weight</th>\n",
       "      <th>bloodpressure</th>\n",
       "      <th>std_pulseox</th>\n",
       "      <th>std_heartrate</th>\n",
       "      <th>height</th>\n",
       "      <th>tidalvolume</th>\n",
       "      <th>temp</th>\n",
       "      <th>std_bloodpressure</th>\n",
       "      <th>pulseox</th>\n",
       "      <th>re_intub_class</th>\n",
       "      <th>gender</th>\n",
       "      <th>admission_type</th>\n",
       "      <th>newpulse</th>\n",
       "    </tr>\n",
       "  </thead>\n",
       "  <tbody>\n",
       "    <tr>\n",
       "      <th>0</th>\n",
       "      <td>3.257455</td>\n",
       "      <td>5184.0</td>\n",
       "      <td>19.0</td>\n",
       "      <td>79.0</td>\n",
       "      <td>1.551546</td>\n",
       "      <td>123.2</td>\n",
       "      <td>62.0</td>\n",
       "      <td>0.000000</td>\n",
       "      <td>1.088973</td>\n",
       "      <td>59.921260</td>\n",
       "      <td>387.0</td>\n",
       "      <td>36.444444</td>\n",
       "      <td>3.060937</td>\n",
       "      <td>100.0</td>\n",
       "      <td>0</td>\n",
       "      <td>F</td>\n",
       "      <td>EW EMER.</td>\n",
       "      <td>100.0</td>\n",
       "    </tr>\n",
       "    <tr>\n",
       "      <th>1</th>\n",
       "      <td>2.833213</td>\n",
       "      <td>529.0</td>\n",
       "      <td>33.0</td>\n",
       "      <td>122.0</td>\n",
       "      <td>1.521199</td>\n",
       "      <td>264.0</td>\n",
       "      <td>101.0</td>\n",
       "      <td>1.025631</td>\n",
       "      <td>2.692730</td>\n",
       "      <td>70.933071</td>\n",
       "      <td>527.0</td>\n",
       "      <td>39.166667</td>\n",
       "      <td>1.994816</td>\n",
       "      <td>96.0</td>\n",
       "      <td>0</td>\n",
       "      <td>M</td>\n",
       "      <td>EW EMER.</td>\n",
       "      <td>96.0</td>\n",
       "    </tr>\n",
       "    <tr>\n",
       "      <th>2</th>\n",
       "      <td>6.363430</td>\n",
       "      <td>6561.0</td>\n",
       "      <td>24.0</td>\n",
       "      <td>63.0</td>\n",
       "      <td>1.025631</td>\n",
       "      <td>198.0</td>\n",
       "      <td>79.0</td>\n",
       "      <td>0.983321</td>\n",
       "      <td>1.672291</td>\n",
       "      <td>61.905512</td>\n",
       "      <td>437.0</td>\n",
       "      <td>36.833333</td>\n",
       "      <td>2.004007</td>\n",
       "      <td>96.0</td>\n",
       "      <td>0</td>\n",
       "      <td>F</td>\n",
       "      <td>EW EMER.</td>\n",
       "      <td>96.0</td>\n",
       "    </tr>\n",
       "    <tr>\n",
       "      <th>3</th>\n",
       "      <td>5.135798</td>\n",
       "      <td>4225.0</td>\n",
       "      <td>15.0</td>\n",
       "      <td>80.0</td>\n",
       "      <td>1.198942</td>\n",
       "      <td>205.9</td>\n",
       "      <td>105.0</td>\n",
       "      <td>0.455746</td>\n",
       "      <td>1.533244</td>\n",
       "      <td>61.905512</td>\n",
       "      <td>614.0</td>\n",
       "      <td>37.333333</td>\n",
       "      <td>1.705757</td>\n",
       "      <td>100.0</td>\n",
       "      <td>0</td>\n",
       "      <td>F</td>\n",
       "      <td>URGENT</td>\n",
       "      <td>100.0</td>\n",
       "    </tr>\n",
       "    <tr>\n",
       "      <th>4</th>\n",
       "      <td>4.429228</td>\n",
       "      <td>3721.0</td>\n",
       "      <td>18.0</td>\n",
       "      <td>73.0</td>\n",
       "      <td>2.246625</td>\n",
       "      <td>199.5</td>\n",
       "      <td>87.0</td>\n",
       "      <td>0.000000</td>\n",
       "      <td>2.162651</td>\n",
       "      <td>66.070866</td>\n",
       "      <td>556.0</td>\n",
       "      <td>36.444444</td>\n",
       "      <td>2.124247</td>\n",
       "      <td>100.0</td>\n",
       "      <td>0</td>\n",
       "      <td>F</td>\n",
       "      <td>EW EMER.</td>\n",
       "      <td>100.0</td>\n",
       "    </tr>\n",
       "    <tr>\n",
       "      <th>...</th>\n",
       "      <td>...</td>\n",
       "      <td>...</td>\n",
       "      <td>...</td>\n",
       "      <td>...</td>\n",
       "      <td>...</td>\n",
       "      <td>...</td>\n",
       "      <td>...</td>\n",
       "      <td>...</td>\n",
       "      <td>...</td>\n",
       "      <td>...</td>\n",
       "      <td>...</td>\n",
       "      <td>...</td>\n",
       "      <td>...</td>\n",
       "      <td>...</td>\n",
       "      <td>...</td>\n",
       "      <td>...</td>\n",
       "      <td>...</td>\n",
       "      <td>...</td>\n",
       "    </tr>\n",
       "    <tr>\n",
       "      <th>6783</th>\n",
       "      <td>3.100843</td>\n",
       "      <td>5476.0</td>\n",
       "      <td>15.0</td>\n",
       "      <td>60.0</td>\n",
       "      <td>1.778227</td>\n",
       "      <td>121.0</td>\n",
       "      <td>98.0</td>\n",
       "      <td>0.000000</td>\n",
       "      <td>1.125470</td>\n",
       "      <td>66.070866</td>\n",
       "      <td>390.0</td>\n",
       "      <td>36.888889</td>\n",
       "      <td>1.451868</td>\n",
       "      <td>100.0</td>\n",
       "      <td>0</td>\n",
       "      <td>F</td>\n",
       "      <td>URGENT</td>\n",
       "      <td>100.0</td>\n",
       "    </tr>\n",
       "    <tr>\n",
       "      <th>6784</th>\n",
       "      <td>4.964824</td>\n",
       "      <td>3481.0</td>\n",
       "      <td>21.0</td>\n",
       "      <td>88.0</td>\n",
       "      <td>1.110344</td>\n",
       "      <td>233.0</td>\n",
       "      <td>85.0</td>\n",
       "      <td>0.922899</td>\n",
       "      <td>2.149769</td>\n",
       "      <td>66.070866</td>\n",
       "      <td>334.0</td>\n",
       "      <td>36.555556</td>\n",
       "      <td>2.446675</td>\n",
       "      <td>96.0</td>\n",
       "      <td>0</td>\n",
       "      <td>M</td>\n",
       "      <td>EW EMER.</td>\n",
       "      <td>96.0</td>\n",
       "    </tr>\n",
       "    <tr>\n",
       "      <th>6785</th>\n",
       "      <td>3.054787</td>\n",
       "      <td>3249.0</td>\n",
       "      <td>19.0</td>\n",
       "      <td>83.0</td>\n",
       "      <td>1.641582</td>\n",
       "      <td>255.2</td>\n",
       "      <td>78.0</td>\n",
       "      <td>0.709412</td>\n",
       "      <td>1.112266</td>\n",
       "      <td>68.501969</td>\n",
       "      <td>401.0</td>\n",
       "      <td>37.333333</td>\n",
       "      <td>1.482939</td>\n",
       "      <td>96.0</td>\n",
       "      <td>0</td>\n",
       "      <td>F</td>\n",
       "      <td>ELECTIVE</td>\n",
       "      <td>96.0</td>\n",
       "    </tr>\n",
       "    <tr>\n",
       "      <th>6786</th>\n",
       "      <td>2.145931</td>\n",
       "      <td>3721.0</td>\n",
       "      <td>19.0</td>\n",
       "      <td>50.0</td>\n",
       "      <td>2.432938</td>\n",
       "      <td>197.1</td>\n",
       "      <td>94.0</td>\n",
       "      <td>0.684708</td>\n",
       "      <td>1.384903</td>\n",
       "      <td>70.039370</td>\n",
       "      <td>482.0</td>\n",
       "      <td>36.222222</td>\n",
       "      <td>1.895647</td>\n",
       "      <td>97.0</td>\n",
       "      <td>0</td>\n",
       "      <td>M</td>\n",
       "      <td>EW EMER.</td>\n",
       "      <td>97.0</td>\n",
       "    </tr>\n",
       "    <tr>\n",
       "      <th>6787</th>\n",
       "      <td>3.117950</td>\n",
       "      <td>4096.0</td>\n",
       "      <td>24.0</td>\n",
       "      <td>74.0</td>\n",
       "      <td>1.320677</td>\n",
       "      <td>188.8</td>\n",
       "      <td>98.0</td>\n",
       "      <td>0.324455</td>\n",
       "      <td>1.554300</td>\n",
       "      <td>66.964567</td>\n",
       "      <td>472.0</td>\n",
       "      <td>37.111111</td>\n",
       "      <td>2.254316</td>\n",
       "      <td>100.0</td>\n",
       "      <td>0</td>\n",
       "      <td>M</td>\n",
       "      <td>EW EMER.</td>\n",
       "      <td>100.0</td>\n",
       "    </tr>\n",
       "  </tbody>\n",
       "</table>\n",
       "<p>6788 rows × 18 columns</p>\n",
       "</div>"
      ],
      "text/plain": [
       "      time_on_vent  anchor_age  spontrr  heartrate  std_spontrr  weight  \\\n",
       "0         3.257455      5184.0     19.0       79.0     1.551546   123.2   \n",
       "1         2.833213       529.0     33.0      122.0     1.521199   264.0   \n",
       "2         6.363430      6561.0     24.0       63.0     1.025631   198.0   \n",
       "3         5.135798      4225.0     15.0       80.0     1.198942   205.9   \n",
       "4         4.429228      3721.0     18.0       73.0     2.246625   199.5   \n",
       "...            ...         ...      ...        ...          ...     ...   \n",
       "6783      3.100843      5476.0     15.0       60.0     1.778227   121.0   \n",
       "6784      4.964824      3481.0     21.0       88.0     1.110344   233.0   \n",
       "6785      3.054787      3249.0     19.0       83.0     1.641582   255.2   \n",
       "6786      2.145931      3721.0     19.0       50.0     2.432938   197.1   \n",
       "6787      3.117950      4096.0     24.0       74.0     1.320677   188.8   \n",
       "\n",
       "      bloodpressure  std_pulseox  std_heartrate     height  tidalvolume  \\\n",
       "0              62.0     0.000000       1.088973  59.921260        387.0   \n",
       "1             101.0     1.025631       2.692730  70.933071        527.0   \n",
       "2              79.0     0.983321       1.672291  61.905512        437.0   \n",
       "3             105.0     0.455746       1.533244  61.905512        614.0   \n",
       "4              87.0     0.000000       2.162651  66.070866        556.0   \n",
       "...             ...          ...            ...        ...          ...   \n",
       "6783           98.0     0.000000       1.125470  66.070866        390.0   \n",
       "6784           85.0     0.922899       2.149769  66.070866        334.0   \n",
       "6785           78.0     0.709412       1.112266  68.501969        401.0   \n",
       "6786           94.0     0.684708       1.384903  70.039370        482.0   \n",
       "6787           98.0     0.324455       1.554300  66.964567        472.0   \n",
       "\n",
       "           temp  std_bloodpressure  pulseox  re_intub_class gender  \\\n",
       "0     36.444444           3.060937    100.0               0      F   \n",
       "1     39.166667           1.994816     96.0               0      M   \n",
       "2     36.833333           2.004007     96.0               0      F   \n",
       "3     37.333333           1.705757    100.0               0      F   \n",
       "4     36.444444           2.124247    100.0               0      F   \n",
       "...         ...                ...      ...             ...    ...   \n",
       "6783  36.888889           1.451868    100.0               0      F   \n",
       "6784  36.555556           2.446675     96.0               0      M   \n",
       "6785  37.333333           1.482939     96.0               0      F   \n",
       "6786  36.222222           1.895647     97.0               0      M   \n",
       "6787  37.111111           2.254316    100.0               0      M   \n",
       "\n",
       "     admission_type  newpulse  \n",
       "0          EW EMER.     100.0  \n",
       "1          EW EMER.      96.0  \n",
       "2          EW EMER.      96.0  \n",
       "3            URGENT     100.0  \n",
       "4          EW EMER.     100.0  \n",
       "...             ...       ...  \n",
       "6783         URGENT     100.0  \n",
       "6784       EW EMER.      96.0  \n",
       "6785       ELECTIVE      96.0  \n",
       "6786       EW EMER.      97.0  \n",
       "6787       EW EMER.     100.0  \n",
       "\n",
       "[6788 rows x 18 columns]"
      ]
     },
     "execution_count": 4,
     "metadata": {},
     "output_type": "execute_result"
    }
   ],
   "source": [
    "df[df['re_intub_class']==0]"
   ]
  },
  {
   "cell_type": "code",
   "execution_count": null,
   "metadata": {},
   "outputs": [],
   "source": []
  },
  {
   "cell_type": "code",
   "execution_count": null,
   "metadata": {},
   "outputs": [],
   "source": []
  },
  {
   "cell_type": "markdown",
   "metadata": {},
   "source": [
    "## Handle categoricals"
   ]
  },
  {
   "cell_type": "code",
   "execution_count": 5,
   "metadata": {},
   "outputs": [],
   "source": [
    "X = df[df.columns.drop('re_intub_class')]\n",
    "y = df['re_intub_class']"
   ]
  },
  {
   "cell_type": "code",
   "execution_count": 6,
   "metadata": {},
   "outputs": [],
   "source": [
    "# Import libraries \n",
    "from sklearn.compose import ColumnTransformer\n",
    "from sklearn.impute import SimpleImputer\n",
    "from imblearn.pipeline import Pipeline\n",
    "from sklearn.model_selection import GridSearchCV\n",
    "from sklearn.preprocessing import StandardScaler, OneHotEncoder\n",
    "from sklearn.model_selection import train_test_split\n",
    "from sklearn.linear_model import LogisticRegression\n",
    "import imblearn\n",
    "from imblearn.over_sampling import SMOTE\n",
    "from sklearn.metrics import classification_report, confusion_matrix, roc_curve, roc_auc_score\n",
    "from sklearn.ensemble import RandomForestClassifier\n",
    "from sklearn.svm import SVC"
   ]
  },
  {
   "cell_type": "code",
   "execution_count": 7,
   "metadata": {},
   "outputs": [],
   "source": [
    "numeric_features  = df[df.columns.drop(['gender','admission_type','re_intub_class'])].columns\n",
    "numeric_transformer = Pipeline(steps=[\n",
    "   # ('imputer', SimpleImputer(strategy='median')),\n",
    "    ('scaler', StandardScaler())])\n",
    "\n",
    "categorical_features = df[['gender','admission_type']].columns\n",
    "categorical_transformer = Pipeline(steps=[\n",
    "   # ('imputer', SimpleImputer(strategy='constant', fill_value='missing')),\n",
    "    ('onehot', OneHotEncoder(handle_unknown='ignore'))])\n",
    "\n",
    "preprocessor = ColumnTransformer(\n",
    "    transformers=[\n",
    "        ('num', numeric_transformer, numeric_features),\n",
    "        ('cat', categorical_transformer, categorical_features)])"
   ]
  },
  {
   "cell_type": "code",
   "execution_count": 8,
   "metadata": {},
   "outputs": [],
   "source": [
    "scaled_data = preprocessor.fit_transform(X)"
   ]
  },
  {
   "cell_type": "code",
   "execution_count": 9,
   "metadata": {},
   "outputs": [
    {
     "data": {
      "text/plain": [
       "22"
      ]
     },
     "execution_count": 9,
     "metadata": {},
     "output_type": "execute_result"
    }
   ],
   "source": [
    "np.size(scaled_data,1)"
   ]
  },
  {
   "cell_type": "code",
   "execution_count": 10,
   "metadata": {},
   "outputs": [],
   "source": [
    "X_train, X_test, y_train, y_test = train_test_split(scaled_data, y, test_size=0.2,random_state = 101)"
   ]
  },
  {
   "cell_type": "code",
   "execution_count": 11,
   "metadata": {},
   "outputs": [],
   "source": [
    "oversample = SMOTE(random_state = 101)\n",
    "X_smote, y_smote = oversample.fit_resample(X_train, y_train)"
   ]
  },
  {
   "cell_type": "code",
   "execution_count": 12,
   "metadata": {},
   "outputs": [],
   "source": [
    "param_grid = [\n",
    "    {'penalty' : ['l1', 'l2'],\n",
    "    'C' : np.logspace(-4, 4, 20),\n",
    "    'solver' : ['liblinear']},]\n",
    "\n",
    "rfc_param_grid=[\n",
    "    {'n_estimators' : list(range(10,101,10)),\n",
    "    'max_features' : list(range(6,32,5))}]\n",
    "\n",
    "svc_param_grid ={ 'kernel':('linear', 'rbf'), \n",
    "                 'C': [0.1,1, 10, 100, 1000], \n",
    "                 'gamma': [1,0.1,0.01,0.001,0.0001]}"
   ]
  },
  {
   "cell_type": "code",
   "execution_count": 13,
   "metadata": {
    "scrolled": true
   },
   "outputs": [
    {
     "data": {
      "text/plain": [
       "GridSearchCV(estimator=LogisticRegression(),\n",
       "             param_grid=[{'C': array([1.00000000e-04, 2.63665090e-04, 6.95192796e-04, 1.83298071e-03,\n",
       "       4.83293024e-03, 1.27427499e-02, 3.35981829e-02, 8.85866790e-02,\n",
       "       2.33572147e-01, 6.15848211e-01, 1.62377674e+00, 4.28133240e+00,\n",
       "       1.12883789e+01, 2.97635144e+01, 7.84759970e+01, 2.06913808e+02,\n",
       "       5.45559478e+02, 1.43844989e+03, 3.79269019e+03, 1.00000000e+04]),\n",
       "                          'penalty': ['l1', 'l2'], 'solver': ['liblinear']}])"
      ]
     },
     "execution_count": 13,
     "metadata": {},
     "output_type": "execute_result"
    }
   ],
   "source": [
    "clf = GridSearchCV(LogisticRegression(),param_grid,refit=True)\n",
    "clf.fit(X_smote,y_smote)"
   ]
  },
  {
   "cell_type": "code",
   "execution_count": 25,
   "metadata": {},
   "outputs": [
    {
     "data": {
      "text/plain": [
       "{'C': 0.012742749857031334, 'penalty': 'l1', 'solver': 'liblinear'}"
      ]
     },
     "execution_count": 25,
     "metadata": {},
     "output_type": "execute_result"
    }
   ],
   "source": [
    "clf.best_params_"
   ]
  },
  {
   "cell_type": "code",
   "execution_count": 14,
   "metadata": {},
   "outputs": [
    {
     "data": {
      "text/plain": [
       "array([[ 0.34501466,  0.05106965,  0.02425595,  0.15068205,  0.02434326,\n",
       "        -0.1145538 ,  0.        ,  0.00703958,  0.02135146,  0.00363019,\n",
       "        -0.01357972,  0.        ,  0.01391769,  0.        ,  0.        ,\n",
       "         0.        , -0.00310482,  0.        ,  0.        ,  0.13839779,\n",
       "         0.        ,  0.        ]])"
      ]
     },
     "execution_count": 14,
     "metadata": {},
     "output_type": "execute_result"
    }
   ],
   "source": [
    "clf.best_estimator_.coef_"
   ]
  },
  {
   "cell_type": "code",
   "execution_count": 15,
   "metadata": {},
   "outputs": [
    {
     "name": "stdout",
     "output_type": "stream",
     "text": [
      "              precision    recall  f1-score   support\n",
      "\n",
      "           0       0.93      0.57      0.70      1355\n",
      "           1       0.13      0.61      0.22       148\n",
      "\n",
      "    accuracy                           0.57      1503\n",
      "   macro avg       0.53      0.59      0.46      1503\n",
      "weighted avg       0.85      0.57      0.66      1503\n",
      "\n",
      "[[766 589]\n",
      " [ 58  90]]\n"
     ]
    }
   ],
   "source": [
    "predictions = clf.predict(X_test)\n",
    "print(classification_report(y_test,predictions))\n",
    "print(confusion_matrix(y_test,predictions))"
   ]
  },
  {
   "cell_type": "code",
   "execution_count": 16,
   "metadata": {},
   "outputs": [
    {
     "data": {
      "text/plain": [
       "array([[-0.60672569, -0.78774995],\n",
       "       [-0.61196514, -0.78150672],\n",
       "       [-0.80238267, -0.5946777 ],\n",
       "       ...,\n",
       "       [-0.82143609, -0.57946072],\n",
       "       [-1.1414104 , -0.38473389],\n",
       "       [-0.4984053 , -0.93521534]])"
      ]
     },
     "execution_count": 16,
     "metadata": {},
     "output_type": "execute_result"
    }
   ],
   "source": [
    "clf.predict_log_proba(X_test)"
   ]
  },
  {
   "cell_type": "code",
   "execution_count": 17,
   "metadata": {},
   "outputs": [
    {
     "data": {
      "image/png": "[encoded data removed]",
      "text/plain": [
       "<Figure size 432x288 with 1 Axes>"
      ]
     },
     "metadata": {
      "needs_background": "light"
     },
     "output_type": "display_data"
    }
   ],
   "source": [
    "y_pred_proba = clf.predict_proba(X_test)[::,1]\n",
    "fpr, tpr, _ = roc_curve(y_test,  y_pred_proba)\n",
    "auc = roc_auc_score(y_test, y_pred_proba)\n",
    "plt.plot(fpr,tpr,label=\"data 1, auc=\"+str(auc))\n",
    "plt.legend(loc=4)\n",
    "plt.show()"
   ]
  },
  {
   "cell_type": "markdown",
   "metadata": {},
   "source": [
    "#### 5. Evaulate model"
   ]
  },
  {
   "cell_type": "code",
   "execution_count": 18,
   "metadata": {},
   "outputs": [],
   "source": [
    "from sklearn.metrics import classification_report, confusion_matrix"
   ]
  },
  {
   "cell_type": "code",
   "execution_count": 19,
   "metadata": {},
   "outputs": [
    {
     "name": "stdout",
     "output_type": "stream",
     "text": [
      "              precision    recall  f1-score   support\n",
      "\n",
      "           0       0.93      0.57      0.70      1355\n",
      "           1       0.13      0.61      0.22       148\n",
      "\n",
      "    accuracy                           0.57      1503\n",
      "   macro avg       0.53      0.59      0.46      1503\n",
      "weighted avg       0.85      0.57      0.66      1503\n",
      "\n"
     ]
    }
   ],
   "source": [
    "print(classification_report(y_test,predictions))"
   ]
  },
  {
   "cell_type": "code",
   "execution_count": 20,
   "metadata": {},
   "outputs": [
    {
     "name": "stdout",
     "output_type": "stream",
     "text": [
      "[[766 589]\n",
      " [ 58  90]]\n"
     ]
    }
   ],
   "source": [
    "print(confusion_matrix(y_test,predictions))"
   ]
  },
  {
   "cell_type": "code",
   "execution_count": 21,
   "metadata": {},
   "outputs": [],
   "source": [
    "import joblib"
   ]
  },
  {
   "cell_type": "code",
   "execution_count": 22,
   "metadata": {},
   "outputs": [],
   "source": [
    "#joblib.dump(logmodel, \"reintubate_model_log.sav\")"
   ]
  },
  {
   "cell_type": "code",
   "execution_count": 23,
   "metadata": {},
   "outputs": [],
   "source": [
    "#joblib.dump(scaler, \"reintubate_scaler.sav\")"
   ]
  },
  {
   "cell_type": "markdown",
   "metadata": {},
   "source": [
    "## Train model\n",
    "\n",
    "### perform train test split"
   ]
  },
  {
   "cell_type": "markdown",
   "metadata": {},
   "source": [
    "from sklearn.model_selection import train_test_split\n",
    "X_train, X_test, y_train, y_test = train_test_split(X, y, test_size=0.3, random_state=42)"
   ]
  },
  {
   "cell_type": "markdown",
   "metadata": {},
   "source": [
    "#### 3. SMOTE IT!"
   ]
  },
  {
   "cell_type": "markdown",
   "metadata": {},
   "source": [
    "from collections import Counter\n",
    "counter = Counter(y_train)\n",
    "print(counter)"
   ]
  },
  {
   "cell_type": "markdown",
   "metadata": {},
   "source": [
    "# transform the dataset\n",
    "oversample = SMOTE(random_state = 101)"
   ]
  },
  {
   "cell_type": "markdown",
   "metadata": {},
   "source": [
    "X_smote, y_smote = oversample.fit_resample(X_train, y_train)"
   ]
  },
  {
   "cell_type": "markdown",
   "metadata": {},
   "source": [
    "counter = Counter(y_smote)\n",
    "print(counter)"
   ]
  },
  {
   "cell_type": "markdown",
   "metadata": {},
   "source": [
    "#### 4. Do logistic regression model"
   ]
  },
  {
   "cell_type": "markdown",
   "metadata": {},
   "source": [
    "from sklearn.linear_model import LogisticRegression"
   ]
  },
  {
   "cell_type": "markdown",
   "metadata": {},
   "source": [
    "logmodel = LogisticRegression(max_iter=1000, C=0.0001)\n",
    "logmodel.fit(X_smote,y_smote)"
   ]
  },
  {
   "cell_type": "markdown",
   "metadata": {},
   "source": [
    "import pickle"
   ]
  },
  {
   "cell_type": "code",
   "execution_count": 24,
   "metadata": {},
   "outputs": [],
   "source": [
    "# Save the model as a pickle in a file \n",
    "#pickle.dump(logmodel, open(\"reintubate_model_log\", 'wb')) "
   ]
  },
  {
   "cell_type": "code",
   "execution_count": null,
   "metadata": {},
   "outputs": [],
   "source": []
  },
  {
   "cell_type": "markdown",
   "metadata": {},
   "source": [
    "# We create the preprocessing pipelines for both numeric and categorical data.\n",
    "numeric_features  = df[df.columns.drop(['gender','admission_type','re_intub_class'])].columns\n",
    "#numeric_transformer = ('scaler', StandardScaler())\n",
    "numeric_transformer = make_column_transformer(\n",
    "    (StandardScaler(), numeric_features),\n",
    "    remainder='passthrough')\n",
    "\n",
    "\n",
    "categorical_features = df[['gender','admission_type']].columns\n",
    "#categorical_transformer =  ('onehot', OneHotEncoder(drop='first'))\n",
    "categorical_transformer = make_column_transformer(\n",
    "    (OneHotEncoder(drop='first'), categorical_features),\n",
    "    remainder='passthrough')\n",
    "\n",
    "#preprocessor = make_column_transformer(\n",
    " #   transformers=[\n",
    "  #      ('num', numeric_transformer, numeric_features),\n",
    "   #     ('cat', categorical_transformer, categorical_features)],\n",
    "#remainder ='passthrough')\n",
    "\n",
    "clf = Pipeline(steps=[('num', numeric_transformer),\n",
    "                      ('cat', categorical_transformer),\n",
    "                      ('classifier', LogisticRegression())])"
   ]
  },
  {
   "cell_type": "markdown",
   "metadata": {},
   "source": [
    "#### 2. Perform feature scaling\n",
    "\n",
    "Because the range of values in the features are not necessarily in the same order of magnitude, we will scale the feature data prior to training the model.\n",
    "\n",
    "* actually... they might not be far off! "
   ]
  },
  {
   "cell_type": "markdown",
   "metadata": {},
   "source": [
    "mask=['spontRR', 'stdABP', 'meanABP', 'stdSpontRR', 'pulseox', 'stdPulseox',\n",
    "       'temp', 'heartRate', 'stdHeartRate', 'weight', 'height', 'anchor_age',\n",
    "       'time_on_vent']"
   ]
  },
  {
   "cell_type": "markdown",
   "metadata": {},
   "source": [
    "X_traina = X_train.copy()\n",
    "X_testa = X_test.copy()"
   ]
  },
  {
   "cell_type": "markdown",
   "metadata": {},
   "source": [
    "from sklearn.preprocessing import StandardScaler\n",
    "scaler = StandardScaler()\n",
    "scaler.fit(X_train.loc[:,mask])\n",
    "X_traina.loc[:,mask] = scaler.transform(X_train.loc[:,mask])"
   ]
  },
  {
   "cell_type": "code",
   "execution_count": null,
   "metadata": {},
   "outputs": [],
   "source": []
  },
  {
   "cell_type": "markdown",
   "metadata": {},
   "source": [
    "#X_train = scaler.transform(X_train)\n",
    "X_testa.loc[:,mask] = scaler.transform(X_test.loc[:,mask])"
   ]
  }
 ],
 "metadata": {
  "kernelspec": {
   "display_name": "Python 3",
   "language": "python",
   "name": "python3"
  },
  "language_info": {
   "codemirror_mode": {
    "name": "ipython",
    "version": 3
   },
   "file_extension": ".py",
   "mimetype": "text/x-python",
   "name": "python",
   "nbconvert_exporter": "python",
   "pygments_lexer": "ipython3",
   "version": "3.8.5"
  }
 },
 "nbformat": 4,
 "nbformat_minor": 4
}
