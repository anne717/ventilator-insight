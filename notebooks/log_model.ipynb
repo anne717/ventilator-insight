{
 "cells": [
  {
   "cell_type": "markdown",
   "metadata": {},
   "source": [
    "## logistic regression model\n",
    "\n",
    "#### import libraries"
   ]
  },
  {
   "cell_type": "code",
   "execution_count": 2,
   "metadata": {},
   "outputs": [],
   "source": [
    "import pandas as pd\n",
    "import numpy as np\n",
    "import seaborn as sns\n",
    "import matplotlib.pyplot as plt"
   ]
  },
  {
   "cell_type": "markdown",
   "metadata": {},
   "source": [
    "#### load cleaned feature data table"
   ]
  },
  {
   "cell_type": "code",
   "execution_count": 3,
   "metadata": {},
   "outputs": [],
   "source": [
    "df = pd.read_csv('clean_ft_table.csv')"
   ]
  },
  {
   "cell_type": "code",
   "execution_count": 4,
   "metadata": {},
   "outputs": [
    {
     "data": {
      "text/plain": [
       "Index(['spontRR', 'stdABP', 'meanABP', 'stdSpontRR', 'pulseox', 'stdPulseox',\n",
       "       'temp', 'heartRate', 'stdHeartRate', 'weight', 'height',\n",
       "       're_intub_class', 'anchor_age', 'time_on_vent', 'adm_type_ELECTIVE',\n",
       "       'adm_type_EW EMER.', 'adm_type_OBSERVATION ADMIT',\n",
       "       'adm_type_SURGICAL SAME DAY ADMISSION', 'adm_type_URGENT', 'gender_M'],\n",
       "      dtype='object')"
      ]
     },
     "execution_count": 4,
     "metadata": {},
     "output_type": "execute_result"
    }
   ],
   "source": [
    "df.columns"
   ]
  },
  {
   "cell_type": "code",
   "execution_count": 5,
   "metadata": {},
   "outputs": [
    {
     "data": {
      "text/html": [
       "<div>\n",
       "<style scoped>\n",
       "    .dataframe tbody tr th:only-of-type {\n",
       "        vertical-align: middle;\n",
       "    }\n",
       "\n",
       "    .dataframe tbody tr th {\n",
       "        vertical-align: top;\n",
       "    }\n",
       "\n",
       "    .dataframe thead th {\n",
       "        text-align: right;\n",
       "    }\n",
       "</style>\n",
       "<table border=\"1\" class=\"dataframe\">\n",
       "  <thead>\n",
       "    <tr style=\"text-align: right;\">\n",
       "      <th></th>\n",
       "      <th>spontRR</th>\n",
       "      <th>stdABP</th>\n",
       "      <th>meanABP</th>\n",
       "      <th>stdSpontRR</th>\n",
       "      <th>pulseox</th>\n",
       "      <th>stdPulseox</th>\n",
       "      <th>temp</th>\n",
       "      <th>heartRate</th>\n",
       "      <th>stdHeartRate</th>\n",
       "      <th>weight</th>\n",
       "      <th>height</th>\n",
       "      <th>re_intub_class</th>\n",
       "      <th>anchor_age</th>\n",
       "      <th>time_on_vent</th>\n",
       "      <th>adm_type_ELECTIVE</th>\n",
       "      <th>adm_type_EW EMER.</th>\n",
       "      <th>adm_type_OBSERVATION ADMIT</th>\n",
       "      <th>adm_type_SURGICAL SAME DAY ADMISSION</th>\n",
       "      <th>adm_type_URGENT</th>\n",
       "      <th>gender_M</th>\n",
       "    </tr>\n",
       "  </thead>\n",
       "  <tbody>\n",
       "    <tr>\n",
       "      <th>0</th>\n",
       "      <td>0.0</td>\n",
       "      <td>7.120393</td>\n",
       "      <td>102.0</td>\n",
       "      <td>11.631239</td>\n",
       "      <td>94.0</td>\n",
       "      <td>2.000000</td>\n",
       "      <td>37.500000</td>\n",
       "      <td>127.0</td>\n",
       "      <td>7.314369</td>\n",
       "      <td>167.4</td>\n",
       "      <td>59.027559</td>\n",
       "      <td>0</td>\n",
       "      <td>70</td>\n",
       "      <td>659.416667</td>\n",
       "      <td>0</td>\n",
       "      <td>0</td>\n",
       "      <td>0</td>\n",
       "      <td>0</td>\n",
       "      <td>1</td>\n",
       "      <td>0</td>\n",
       "    </tr>\n",
       "    <tr>\n",
       "      <th>1</th>\n",
       "      <td>19.0</td>\n",
       "      <td>20.347548</td>\n",
       "      <td>62.0</td>\n",
       "      <td>3.718759</td>\n",
       "      <td>100.0</td>\n",
       "      <td>0.000000</td>\n",
       "      <td>36.444444</td>\n",
       "      <td>79.0</td>\n",
       "      <td>1.971222</td>\n",
       "      <td>123.2</td>\n",
       "      <td>59.921260</td>\n",
       "      <td>0</td>\n",
       "      <td>72</td>\n",
       "      <td>25.983333</td>\n",
       "      <td>0</td>\n",
       "      <td>1</td>\n",
       "      <td>0</td>\n",
       "      <td>0</td>\n",
       "      <td>0</td>\n",
       "      <td>0</td>\n",
       "    </tr>\n",
       "    <tr>\n",
       "      <th>2</th>\n",
       "      <td>33.0</td>\n",
       "      <td>6.350853</td>\n",
       "      <td>101.0</td>\n",
       "      <td>3.577709</td>\n",
       "      <td>96.0</td>\n",
       "      <td>1.788854</td>\n",
       "      <td>39.166667</td>\n",
       "      <td>122.0</td>\n",
       "      <td>13.771952</td>\n",
       "      <td>264.0</td>\n",
       "      <td>70.933071</td>\n",
       "      <td>0</td>\n",
       "      <td>23</td>\n",
       "      <td>17.000000</td>\n",
       "      <td>0</td>\n",
       "      <td>1</td>\n",
       "      <td>0</td>\n",
       "      <td>0</td>\n",
       "      <td>0</td>\n",
       "      <td>1</td>\n",
       "    </tr>\n",
       "    <tr>\n",
       "      <th>3</th>\n",
       "      <td>24.0</td>\n",
       "      <td>6.418723</td>\n",
       "      <td>79.0</td>\n",
       "      <td>1.788854</td>\n",
       "      <td>96.0</td>\n",
       "      <td>1.673320</td>\n",
       "      <td>36.833333</td>\n",
       "      <td>63.0</td>\n",
       "      <td>4.324350</td>\n",
       "      <td>198.0</td>\n",
       "      <td>61.905512</td>\n",
       "      <td>0</td>\n",
       "      <td>81</td>\n",
       "      <td>580.233333</td>\n",
       "      <td>0</td>\n",
       "      <td>1</td>\n",
       "      <td>0</td>\n",
       "      <td>0</td>\n",
       "      <td>0</td>\n",
       "      <td>0</td>\n",
       "    </tr>\n",
       "    <tr>\n",
       "      <th>4</th>\n",
       "      <td>15.0</td>\n",
       "      <td>4.505552</td>\n",
       "      <td>105.0</td>\n",
       "      <td>2.316607</td>\n",
       "      <td>100.0</td>\n",
       "      <td>0.577350</td>\n",
       "      <td>37.333333</td>\n",
       "      <td>80.0</td>\n",
       "      <td>3.633180</td>\n",
       "      <td>205.9</td>\n",
       "      <td>61.905512</td>\n",
       "      <td>0</td>\n",
       "      <td>65</td>\n",
       "      <td>170.000000</td>\n",
       "      <td>0</td>\n",
       "      <td>0</td>\n",
       "      <td>0</td>\n",
       "      <td>0</td>\n",
       "      <td>1</td>\n",
       "      <td>0</td>\n",
       "    </tr>\n",
       "    <tr>\n",
       "      <th>...</th>\n",
       "      <td>...</td>\n",
       "      <td>...</td>\n",
       "      <td>...</td>\n",
       "      <td>...</td>\n",
       "      <td>...</td>\n",
       "      <td>...</td>\n",
       "      <td>...</td>\n",
       "      <td>...</td>\n",
       "      <td>...</td>\n",
       "      <td>...</td>\n",
       "      <td>...</td>\n",
       "      <td>...</td>\n",
       "      <td>...</td>\n",
       "      <td>...</td>\n",
       "      <td>...</td>\n",
       "      <td>...</td>\n",
       "      <td>...</td>\n",
       "      <td>...</td>\n",
       "      <td>...</td>\n",
       "      <td>...</td>\n",
       "    </tr>\n",
       "    <tr>\n",
       "      <th>10632</th>\n",
       "      <td>14.0</td>\n",
       "      <td>2.401388</td>\n",
       "      <td>87.0</td>\n",
       "      <td>7.629829</td>\n",
       "      <td>98.0</td>\n",
       "      <td>0.816497</td>\n",
       "      <td>37.277778</td>\n",
       "      <td>135.0</td>\n",
       "      <td>6.228965</td>\n",
       "      <td>224.2</td>\n",
       "      <td>64.980315</td>\n",
       "      <td>0</td>\n",
       "      <td>37</td>\n",
       "      <td>12.483333</td>\n",
       "      <td>0</td>\n",
       "      <td>0</td>\n",
       "      <td>0</td>\n",
       "      <td>0</td>\n",
       "      <td>1</td>\n",
       "      <td>0</td>\n",
       "    </tr>\n",
       "    <tr>\n",
       "      <th>10633</th>\n",
       "      <td>19.0</td>\n",
       "      <td>3.405877</td>\n",
       "      <td>78.0</td>\n",
       "      <td>4.163332</td>\n",
       "      <td>96.0</td>\n",
       "      <td>1.032796</td>\n",
       "      <td>37.333333</td>\n",
       "      <td>83.0</td>\n",
       "      <td>2.041241</td>\n",
       "      <td>255.2</td>\n",
       "      <td>68.501969</td>\n",
       "      <td>0</td>\n",
       "      <td>57</td>\n",
       "      <td>21.216667</td>\n",
       "      <td>1</td>\n",
       "      <td>0</td>\n",
       "      <td>0</td>\n",
       "      <td>0</td>\n",
       "      <td>0</td>\n",
       "      <td>0</td>\n",
       "    </tr>\n",
       "    <tr>\n",
       "      <th>10634</th>\n",
       "      <td>19.0</td>\n",
       "      <td>5.656854</td>\n",
       "      <td>94.0</td>\n",
       "      <td>10.392305</td>\n",
       "      <td>97.0</td>\n",
       "      <td>0.983192</td>\n",
       "      <td>36.222222</td>\n",
       "      <td>50.0</td>\n",
       "      <td>2.994439</td>\n",
       "      <td>197.1</td>\n",
       "      <td>70.039370</td>\n",
       "      <td>0</td>\n",
       "      <td>61</td>\n",
       "      <td>8.550000</td>\n",
       "      <td>0</td>\n",
       "      <td>1</td>\n",
       "      <td>0</td>\n",
       "      <td>0</td>\n",
       "      <td>0</td>\n",
       "      <td>1</td>\n",
       "    </tr>\n",
       "    <tr>\n",
       "      <th>10635</th>\n",
       "      <td>26.0</td>\n",
       "      <td>7.098556</td>\n",
       "      <td>76.0</td>\n",
       "      <td>4.208371</td>\n",
       "      <td>92.0</td>\n",
       "      <td>2.267898</td>\n",
       "      <td>37.333333</td>\n",
       "      <td>103.0</td>\n",
       "      <td>5.006892</td>\n",
       "      <td>183.7</td>\n",
       "      <td>66.964567</td>\n",
       "      <td>0</td>\n",
       "      <td>87</td>\n",
       "      <td>17.983333</td>\n",
       "      <td>0</td>\n",
       "      <td>1</td>\n",
       "      <td>0</td>\n",
       "      <td>0</td>\n",
       "      <td>0</td>\n",
       "      <td>1</td>\n",
       "    </tr>\n",
       "    <tr>\n",
       "      <th>10636</th>\n",
       "      <td>24.0</td>\n",
       "      <td>8.528777</td>\n",
       "      <td>98.0</td>\n",
       "      <td>2.745956</td>\n",
       "      <td>100.0</td>\n",
       "      <td>0.383277</td>\n",
       "      <td>37.111111</td>\n",
       "      <td>74.0</td>\n",
       "      <td>3.731773</td>\n",
       "      <td>188.8</td>\n",
       "      <td>66.964567</td>\n",
       "      <td>0</td>\n",
       "      <td>64</td>\n",
       "      <td>22.600000</td>\n",
       "      <td>0</td>\n",
       "      <td>1</td>\n",
       "      <td>0</td>\n",
       "      <td>0</td>\n",
       "      <td>0</td>\n",
       "      <td>1</td>\n",
       "    </tr>\n",
       "  </tbody>\n",
       "</table>\n",
       "<p>10637 rows × 20 columns</p>\n",
       "</div>"
      ],
      "text/plain": [
       "       spontRR     stdABP  meanABP  stdSpontRR  pulseox  stdPulseox  \\\n",
       "0          0.0   7.120393    102.0   11.631239     94.0    2.000000   \n",
       "1         19.0  20.347548     62.0    3.718759    100.0    0.000000   \n",
       "2         33.0   6.350853    101.0    3.577709     96.0    1.788854   \n",
       "3         24.0   6.418723     79.0    1.788854     96.0    1.673320   \n",
       "4         15.0   4.505552    105.0    2.316607    100.0    0.577350   \n",
       "...        ...        ...      ...         ...      ...         ...   \n",
       "10632     14.0   2.401388     87.0    7.629829     98.0    0.816497   \n",
       "10633     19.0   3.405877     78.0    4.163332     96.0    1.032796   \n",
       "10634     19.0   5.656854     94.0   10.392305     97.0    0.983192   \n",
       "10635     26.0   7.098556     76.0    4.208371     92.0    2.267898   \n",
       "10636     24.0   8.528777     98.0    2.745956    100.0    0.383277   \n",
       "\n",
       "            temp  heartRate  stdHeartRate  weight     height  re_intub_class  \\\n",
       "0      37.500000      127.0      7.314369   167.4  59.027559               0   \n",
       "1      36.444444       79.0      1.971222   123.2  59.921260               0   \n",
       "2      39.166667      122.0     13.771952   264.0  70.933071               0   \n",
       "3      36.833333       63.0      4.324350   198.0  61.905512               0   \n",
       "4      37.333333       80.0      3.633180   205.9  61.905512               0   \n",
       "...          ...        ...           ...     ...        ...             ...   \n",
       "10632  37.277778      135.0      6.228965   224.2  64.980315               0   \n",
       "10633  37.333333       83.0      2.041241   255.2  68.501969               0   \n",
       "10634  36.222222       50.0      2.994439   197.1  70.039370               0   \n",
       "10635  37.333333      103.0      5.006892   183.7  66.964567               0   \n",
       "10636  37.111111       74.0      3.731773   188.8  66.964567               0   \n",
       "\n",
       "       anchor_age  time_on_vent  adm_type_ELECTIVE  adm_type_EW EMER.  \\\n",
       "0              70    659.416667                  0                  0   \n",
       "1              72     25.983333                  0                  1   \n",
       "2              23     17.000000                  0                  1   \n",
       "3              81    580.233333                  0                  1   \n",
       "4              65    170.000000                  0                  0   \n",
       "...           ...           ...                ...                ...   \n",
       "10632          37     12.483333                  0                  0   \n",
       "10633          57     21.216667                  1                  0   \n",
       "10634          61      8.550000                  0                  1   \n",
       "10635          87     17.983333                  0                  1   \n",
       "10636          64     22.600000                  0                  1   \n",
       "\n",
       "       adm_type_OBSERVATION ADMIT  adm_type_SURGICAL SAME DAY ADMISSION  \\\n",
       "0                               0                                     0   \n",
       "1                               0                                     0   \n",
       "2                               0                                     0   \n",
       "3                               0                                     0   \n",
       "4                               0                                     0   \n",
       "...                           ...                                   ...   \n",
       "10632                           0                                     0   \n",
       "10633                           0                                     0   \n",
       "10634                           0                                     0   \n",
       "10635                           0                                     0   \n",
       "10636                           0                                     0   \n",
       "\n",
       "       adm_type_URGENT  gender_M  \n",
       "0                    1         0  \n",
       "1                    0         0  \n",
       "2                    0         1  \n",
       "3                    0         0  \n",
       "4                    1         0  \n",
       "...                ...       ...  \n",
       "10632                1         0  \n",
       "10633                0         0  \n",
       "10634                0         1  \n",
       "10635                0         1  \n",
       "10636                0         1  \n",
       "\n",
       "[10637 rows x 20 columns]"
      ]
     },
     "execution_count": 5,
     "metadata": {},
     "output_type": "execute_result"
    }
   ],
   "source": [
    "df[df['re_intub_class']==0]"
   ]
  },
  {
   "cell_type": "markdown",
   "metadata": {},
   "source": [
    "## Train model\n",
    "\n",
    "### perform train test split"
   ]
  },
  {
   "cell_type": "code",
   "execution_count": 6,
   "metadata": {},
   "outputs": [],
   "source": [
    "X = df[df.columns.drop('re_intub_class')]\n",
    "y = df['re_intub_class']"
   ]
  },
  {
   "cell_type": "code",
   "execution_count": 7,
   "metadata": {},
   "outputs": [],
   "source": [
    "from sklearn.model_selection import train_test_split\n",
    "X_train, X_test, y_train, y_test = train_test_split(X, y, test_size=0.3, random_state=42)"
   ]
  },
  {
   "cell_type": "code",
   "execution_count": null,
   "metadata": {},
   "outputs": [],
   "source": []
  },
  {
   "cell_type": "code",
   "execution_count": null,
   "metadata": {},
   "outputs": [],
   "source": []
  },
  {
   "cell_type": "markdown",
   "metadata": {},
   "source": [
    "#### 2. Perform feature scaling\n",
    "\n",
    "Because the range of values in the features are not necessarily in the same order of magnitude, we will scale the feature data prior to training the model.\n",
    "\n",
    "* actually... they might not be far off! "
   ]
  },
  {
   "cell_type": "code",
   "execution_count": 8,
   "metadata": {},
   "outputs": [],
   "source": [
    "mask=['spontRR', 'stdABP', 'meanABP', 'stdSpontRR', 'pulseox', 'stdPulseox',\n",
    "       'temp', 'heartRate', 'stdHeartRate', 'weight', 'height', 'anchor_age',\n",
    "       'time_on_vent']"
   ]
  },
  {
   "cell_type": "code",
   "execution_count": 9,
   "metadata": {},
   "outputs": [],
   "source": [
    "X_traina = X_train.copy()\n",
    "X_testa = X_test.copy()"
   ]
  },
  {
   "cell_type": "code",
   "execution_count": 10,
   "metadata": {},
   "outputs": [],
   "source": [
    "from sklearn.preprocessing import StandardScaler\n",
    "scaler = StandardScaler()\n",
    "scaler.fit(X_train.loc[:,mask])\n",
    "X_traina.loc[:,mask] = scaler.transform(X_train.loc[:,mask])"
   ]
  },
  {
   "cell_type": "code",
   "execution_count": null,
   "metadata": {},
   "outputs": [],
   "source": []
  },
  {
   "cell_type": "code",
   "execution_count": 11,
   "metadata": {},
   "outputs": [],
   "source": [
    "#X_train = scaler.transform(X_train)\n",
    "X_testa.loc[:,mask] = scaler.transform(X_test.loc[:,mask])"
   ]
  },
  {
   "cell_type": "code",
   "execution_count": null,
   "metadata": {},
   "outputs": [],
   "source": []
  },
  {
   "cell_type": "markdown",
   "metadata": {},
   "source": [
    "#### 3. SMOTE IT!"
   ]
  },
  {
   "cell_type": "code",
   "execution_count": 12,
   "metadata": {},
   "outputs": [
    {
     "name": "stdout",
     "output_type": "stream",
     "text": [
      "Counter({0: 7423, 1: 723})\n"
     ]
    }
   ],
   "source": [
    "from collections import Counter\n",
    "counter = Counter(y_train)\n",
    "print(counter)"
   ]
  },
  {
   "cell_type": "code",
   "execution_count": 13,
   "metadata": {},
   "outputs": [
    {
     "name": "stdout",
     "output_type": "stream",
     "text": [
      "0.7.0\n"
     ]
    }
   ],
   "source": [
    "import imblearn\n",
    "print(imblearn.__version__)"
   ]
  },
  {
   "cell_type": "code",
   "execution_count": 14,
   "metadata": {},
   "outputs": [],
   "source": [
    "from imblearn.over_sampling import SMOTE"
   ]
  },
  {
   "cell_type": "code",
   "execution_count": 15,
   "metadata": {},
   "outputs": [],
   "source": [
    "# transform the dataset\n",
    "oversample = SMOTE(random_state = 101)"
   ]
  },
  {
   "cell_type": "code",
   "execution_count": 16,
   "metadata": {},
   "outputs": [],
   "source": [
    "X_smote, y_smote = oversample.fit_resample(X_train, y_train)"
   ]
  },
  {
   "cell_type": "code",
   "execution_count": 17,
   "metadata": {},
   "outputs": [
    {
     "name": "stdout",
     "output_type": "stream",
     "text": [
      "Counter({0: 7423, 1: 7423})\n"
     ]
    }
   ],
   "source": [
    "counter = Counter(y_smote)\n",
    "print(counter)"
   ]
  },
  {
   "cell_type": "markdown",
   "metadata": {},
   "source": [
    "#### 4. Do logistic regression model"
   ]
  },
  {
   "cell_type": "code",
   "execution_count": 18,
   "metadata": {},
   "outputs": [],
   "source": [
    "from sklearn.linear_model import LogisticRegression"
   ]
  },
  {
   "cell_type": "code",
   "execution_count": 19,
   "metadata": {},
   "outputs": [
    {
     "data": {
      "text/plain": [
       "LogisticRegression(C=0.0001, max_iter=1000)"
      ]
     },
     "execution_count": 19,
     "metadata": {},
     "output_type": "execute_result"
    }
   ],
   "source": [
    "logmodel = LogisticRegression(max_iter=1000, C=0.0001)\n",
    "logmodel.fit(X_smote,y_smote)"
   ]
  },
  {
   "cell_type": "code",
   "execution_count": 20,
   "metadata": {},
   "outputs": [],
   "source": [
    "predictions = logmodel.predict(X_test)"
   ]
  },
  {
   "cell_type": "markdown",
   "metadata": {},
   "source": [
    "#### 5. Evaulate model"
   ]
  },
  {
   "cell_type": "code",
   "execution_count": 21,
   "metadata": {},
   "outputs": [],
   "source": [
    "from sklearn.metrics import classification_report, confusion_matrix"
   ]
  },
  {
   "cell_type": "code",
   "execution_count": 22,
   "metadata": {},
   "outputs": [
    {
     "name": "stdout",
     "output_type": "stream",
     "text": [
      "              precision    recall  f1-score   support\n",
      "\n",
      "           0       0.95      0.66      0.78      3214\n",
      "           1       0.13      0.56      0.20       278\n",
      "\n",
      "    accuracy                           0.66      3492\n",
      "   macro avg       0.54      0.61      0.49      3492\n",
      "weighted avg       0.88      0.66      0.73      3492\n",
      "\n"
     ]
    }
   ],
   "source": [
    "print(classification_report(y_test,predictions))"
   ]
  },
  {
   "cell_type": "code",
   "execution_count": 23,
   "metadata": {},
   "outputs": [
    {
     "name": "stdout",
     "output_type": "stream",
     "text": [
      "[[2133 1081]\n",
      " [ 123  155]]\n"
     ]
    }
   ],
   "source": [
    "print(confusion_matrix(y_test,predictions))"
   ]
  },
  {
   "cell_type": "code",
   "execution_count": 24,
   "metadata": {},
   "outputs": [],
   "source": [
    "import pickle"
   ]
  },
  {
   "cell_type": "code",
   "execution_count": 25,
   "metadata": {},
   "outputs": [],
   "source": [
    "# Save the model as a pickle in a file \n",
    "pickle.dump(logmodel, open(\"reintubate_model_log\", 'wb')) "
   ]
  },
  {
   "cell_type": "code",
   "execution_count": 26,
   "metadata": {},
   "outputs": [],
   "source": [
    "import joblib"
   ]
  },
  {
   "cell_type": "code",
   "execution_count": 27,
   "metadata": {},
   "outputs": [
    {
     "data": {
      "text/plain": [
       "['reintubate_model_log.sav']"
      ]
     },
     "execution_count": 27,
     "metadata": {},
     "output_type": "execute_result"
    }
   ],
   "source": [
    "joblib.dump(logmodel, \"reintubate_model_log.sav\")"
   ]
  },
  {
   "cell_type": "code",
   "execution_count": 28,
   "metadata": {},
   "outputs": [
    {
     "data": {
      "text/plain": [
       "['reintubate_scaler.sav']"
      ]
     },
     "execution_count": 28,
     "metadata": {},
     "output_type": "execute_result"
    }
   ],
   "source": [
    "joblib.dump(scaler, \"reintubate_scaler.sav\")"
   ]
  },
  {
   "cell_type": "code",
   "execution_count": null,
   "metadata": {},
   "outputs": [],
   "source": []
  }
 ],
 "metadata": {
  "kernelspec": {
   "display_name": "Python 3",
   "language": "python",
   "name": "python3"
  },
  "language_info": {
   "codemirror_mode": {
    "name": "ipython",
    "version": 3
   },
   "file_extension": ".py",
   "mimetype": "text/x-python",
   "name": "python",
   "nbconvert_exporter": "python",
   "pygments_lexer": "ipython3",
   "version": "3.8.5"
  }
 },
 "nbformat": 4,
 "nbformat_minor": 4
}
