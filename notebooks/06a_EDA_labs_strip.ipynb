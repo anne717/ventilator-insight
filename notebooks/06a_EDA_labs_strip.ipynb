{
 "cells": [
  {
   "cell_type": "markdown",
   "metadata": {},
   "source": [
    "## Exploratory data analysis file pre-modelling\n",
    "\n",
    "- remove outliers\n",
    "\n",
    "- check for normality and transform if not normal\n",
    "\n",
    "- consider engineering features\n"
   ]
  },
  {
   "cell_type": "markdown",
   "metadata": {},
   "source": [
    "#### import libraries"
   ]
  },
  {
   "cell_type": "code",
   "execution_count": 1,
   "metadata": {},
   "outputs": [],
   "source": [
    "import pandas as pd\n",
    "import numpy as np\n",
    "import seaborn as sns\n",
    "import matplotlib.pyplot as plt\n",
    "import os"
   ]
  },
  {
   "cell_type": "markdown",
   "metadata": {},
   "source": [
    "#### read cleaned data frame"
   ]
  },
  {
   "cell_type": "code",
   "execution_count": 2,
   "metadata": {},
   "outputs": [],
   "source": [
    "df = pd.read_feather('../data/processed/clean_ft_table_labs_strip')"
   ]
  },
  {
   "cell_type": "markdown",
   "metadata": {},
   "source": [
    "#### Drop features that won't be used in model (i.e. hadm_id and endtime)"
   ]
  },
  {
   "cell_type": "code",
   "execution_count": 3,
   "metadata": {},
   "outputs": [],
   "source": [
    "df_features = df.copy()"
   ]
  },
  {
   "cell_type": "code",
   "execution_count": 4,
   "metadata": {},
   "outputs": [],
   "source": [
    "df_features.drop(['hadm_id','endtime'],axis=1,inplace=True)"
   ]
  },
  {
   "cell_type": "code",
   "execution_count": 5,
   "metadata": {},
   "outputs": [
    {
     "data": {
      "text/html": [
       "<div>\n",
       "<style scoped>\n",
       "    .dataframe tbody tr th:only-of-type {\n",
       "        vertical-align: middle;\n",
       "    }\n",
       "\n",
       "    .dataframe tbody tr th {\n",
       "        vertical-align: top;\n",
       "    }\n",
       "\n",
       "    .dataframe thead th {\n",
       "        text-align: right;\n",
       "    }\n",
       "</style>\n",
       "<table border=\"1\" class=\"dataframe\">\n",
       "  <thead>\n",
       "    <tr style=\"text-align: right;\">\n",
       "      <th></th>\n",
       "      <th>time_on_vent</th>\n",
       "      <th>re_intub_class</th>\n",
       "      <th>gender</th>\n",
       "      <th>admission_type</th>\n",
       "      <th>anchor_age</th>\n",
       "      <th>heartrate</th>\n",
       "      <th>weight</th>\n",
       "      <th>hco3</th>\n",
       "      <th>pulseox</th>\n",
       "      <th>creatinine</th>\n",
       "      <th>bun</th>\n",
       "      <th>height</th>\n",
       "      <th>tidalvolume</th>\n",
       "      <th>temp</th>\n",
       "    </tr>\n",
       "  </thead>\n",
       "  <tbody>\n",
       "    <tr>\n",
       "      <th>0</th>\n",
       "      <td>25.983333</td>\n",
       "      <td>0</td>\n",
       "      <td>F</td>\n",
       "      <td>EW EMER.</td>\n",
       "      <td>72</td>\n",
       "      <td>79.0</td>\n",
       "      <td>123.2</td>\n",
       "      <td>22.0</td>\n",
       "      <td>100.0</td>\n",
       "      <td>2.2</td>\n",
       "      <td>14.0</td>\n",
       "      <td>59.921260</td>\n",
       "      <td>387.0</td>\n",
       "      <td>36.444444</td>\n",
       "    </tr>\n",
       "    <tr>\n",
       "      <th>1</th>\n",
       "      <td>17.000000</td>\n",
       "      <td>0</td>\n",
       "      <td>M</td>\n",
       "      <td>EW EMER.</td>\n",
       "      <td>23</td>\n",
       "      <td>122.0</td>\n",
       "      <td>264.0</td>\n",
       "      <td>23.0</td>\n",
       "      <td>96.0</td>\n",
       "      <td>0.7</td>\n",
       "      <td>23.0</td>\n",
       "      <td>70.933071</td>\n",
       "      <td>527.0</td>\n",
       "      <td>39.166667</td>\n",
       "    </tr>\n",
       "    <tr>\n",
       "      <th>2</th>\n",
       "      <td>580.233333</td>\n",
       "      <td>0</td>\n",
       "      <td>F</td>\n",
       "      <td>EW EMER.</td>\n",
       "      <td>81</td>\n",
       "      <td>63.0</td>\n",
       "      <td>198.0</td>\n",
       "      <td>26.0</td>\n",
       "      <td>96.0</td>\n",
       "      <td>0.8</td>\n",
       "      <td>29.0</td>\n",
       "      <td>61.905512</td>\n",
       "      <td>437.0</td>\n",
       "      <td>36.833333</td>\n",
       "    </tr>\n",
       "    <tr>\n",
       "      <th>3</th>\n",
       "      <td>170.000000</td>\n",
       "      <td>0</td>\n",
       "      <td>F</td>\n",
       "      <td>URGENT</td>\n",
       "      <td>65</td>\n",
       "      <td>80.0</td>\n",
       "      <td>205.9</td>\n",
       "      <td>35.0</td>\n",
       "      <td>100.0</td>\n",
       "      <td>1.0</td>\n",
       "      <td>15.0</td>\n",
       "      <td>61.905512</td>\n",
       "      <td>614.0</td>\n",
       "      <td>37.333333</td>\n",
       "    </tr>\n",
       "    <tr>\n",
       "      <th>4</th>\n",
       "      <td>83.866667</td>\n",
       "      <td>0</td>\n",
       "      <td>F</td>\n",
       "      <td>EW EMER.</td>\n",
       "      <td>61</td>\n",
       "      <td>73.0</td>\n",
       "      <td>199.5</td>\n",
       "      <td>26.0</td>\n",
       "      <td>100.0</td>\n",
       "      <td>0.9</td>\n",
       "      <td>23.0</td>\n",
       "      <td>66.070866</td>\n",
       "      <td>556.0</td>\n",
       "      <td>36.444444</td>\n",
       "    </tr>\n",
       "    <tr>\n",
       "      <th>...</th>\n",
       "      <td>...</td>\n",
       "      <td>...</td>\n",
       "      <td>...</td>\n",
       "      <td>...</td>\n",
       "      <td>...</td>\n",
       "      <td>...</td>\n",
       "      <td>...</td>\n",
       "      <td>...</td>\n",
       "      <td>...</td>\n",
       "      <td>...</td>\n",
       "      <td>...</td>\n",
       "      <td>...</td>\n",
       "      <td>...</td>\n",
       "      <td>...</td>\n",
       "    </tr>\n",
       "    <tr>\n",
       "      <th>7886</th>\n",
       "      <td>134.333333</td>\n",
       "      <td>1</td>\n",
       "      <td>F</td>\n",
       "      <td>EW EMER.</td>\n",
       "      <td>68</td>\n",
       "      <td>108.0</td>\n",
       "      <td>77.4</td>\n",
       "      <td>26.0</td>\n",
       "      <td>96.0</td>\n",
       "      <td>0.5</td>\n",
       "      <td>13.0</td>\n",
       "      <td>59.921260</td>\n",
       "      <td>320.0</td>\n",
       "      <td>37.611111</td>\n",
       "    </tr>\n",
       "    <tr>\n",
       "      <th>7887</th>\n",
       "      <td>14.783333</td>\n",
       "      <td>1</td>\n",
       "      <td>M</td>\n",
       "      <td>EW EMER.</td>\n",
       "      <td>65</td>\n",
       "      <td>75.0</td>\n",
       "      <td>189.2</td>\n",
       "      <td>24.0</td>\n",
       "      <td>100.0</td>\n",
       "      <td>0.9</td>\n",
       "      <td>18.0</td>\n",
       "      <td>70.039370</td>\n",
       "      <td>498.0</td>\n",
       "      <td>37.722222</td>\n",
       "    </tr>\n",
       "    <tr>\n",
       "      <th>7888</th>\n",
       "      <td>73.466667</td>\n",
       "      <td>1</td>\n",
       "      <td>F</td>\n",
       "      <td>DIRECT EMER.</td>\n",
       "      <td>65</td>\n",
       "      <td>94.0</td>\n",
       "      <td>139.0</td>\n",
       "      <td>21.0</td>\n",
       "      <td>96.0</td>\n",
       "      <td>2.9</td>\n",
       "      <td>62.0</td>\n",
       "      <td>61.011811</td>\n",
       "      <td>519.0</td>\n",
       "      <td>37.055556</td>\n",
       "    </tr>\n",
       "    <tr>\n",
       "      <th>7889</th>\n",
       "      <td>218.083333</td>\n",
       "      <td>1</td>\n",
       "      <td>F</td>\n",
       "      <td>EW EMER.</td>\n",
       "      <td>53</td>\n",
       "      <td>80.0</td>\n",
       "      <td>160.6</td>\n",
       "      <td>34.0</td>\n",
       "      <td>100.0</td>\n",
       "      <td>0.5</td>\n",
       "      <td>13.0</td>\n",
       "      <td>64.086614</td>\n",
       "      <td>308.0</td>\n",
       "      <td>36.888889</td>\n",
       "    </tr>\n",
       "    <tr>\n",
       "      <th>7890</th>\n",
       "      <td>98.900000</td>\n",
       "      <td>1</td>\n",
       "      <td>M</td>\n",
       "      <td>EW EMER.</td>\n",
       "      <td>72</td>\n",
       "      <td>71.0</td>\n",
       "      <td>235.4</td>\n",
       "      <td>27.0</td>\n",
       "      <td>100.0</td>\n",
       "      <td>1.5</td>\n",
       "      <td>21.0</td>\n",
       "      <td>70.039370</td>\n",
       "      <td>447.0</td>\n",
       "      <td>36.888889</td>\n",
       "    </tr>\n",
       "  </tbody>\n",
       "</table>\n",
       "<p>7891 rows × 14 columns</p>\n",
       "</div>"
      ],
      "text/plain": [
       "      time_on_vent  re_intub_class gender admission_type  anchor_age  \\\n",
       "0        25.983333               0      F       EW EMER.          72   \n",
       "1        17.000000               0      M       EW EMER.          23   \n",
       "2       580.233333               0      F       EW EMER.          81   \n",
       "3       170.000000               0      F         URGENT          65   \n",
       "4        83.866667               0      F       EW EMER.          61   \n",
       "...            ...             ...    ...            ...         ...   \n",
       "7886    134.333333               1      F       EW EMER.          68   \n",
       "7887     14.783333               1      M       EW EMER.          65   \n",
       "7888     73.466667               1      F   DIRECT EMER.          65   \n",
       "7889    218.083333               1      F       EW EMER.          53   \n",
       "7890     98.900000               1      M       EW EMER.          72   \n",
       "\n",
       "      heartrate  weight  hco3  pulseox  creatinine   bun     height  \\\n",
       "0          79.0   123.2  22.0    100.0         2.2  14.0  59.921260   \n",
       "1         122.0   264.0  23.0     96.0         0.7  23.0  70.933071   \n",
       "2          63.0   198.0  26.0     96.0         0.8  29.0  61.905512   \n",
       "3          80.0   205.9  35.0    100.0         1.0  15.0  61.905512   \n",
       "4          73.0   199.5  26.0    100.0         0.9  23.0  66.070866   \n",
       "...         ...     ...   ...      ...         ...   ...        ...   \n",
       "7886      108.0    77.4  26.0     96.0         0.5  13.0  59.921260   \n",
       "7887       75.0   189.2  24.0    100.0         0.9  18.0  70.039370   \n",
       "7888       94.0   139.0  21.0     96.0         2.9  62.0  61.011811   \n",
       "7889       80.0   160.6  34.0    100.0         0.5  13.0  64.086614   \n",
       "7890       71.0   235.4  27.0    100.0         1.5  21.0  70.039370   \n",
       "\n",
       "      tidalvolume       temp  \n",
       "0           387.0  36.444444  \n",
       "1           527.0  39.166667  \n",
       "2           437.0  36.833333  \n",
       "3           614.0  37.333333  \n",
       "4           556.0  36.444444  \n",
       "...           ...        ...  \n",
       "7886        320.0  37.611111  \n",
       "7887        498.0  37.722222  \n",
       "7888        519.0  37.055556  \n",
       "7889        308.0  36.888889  \n",
       "7890        447.0  36.888889  \n",
       "\n",
       "[7891 rows x 14 columns]"
      ]
     },
     "execution_count": 5,
     "metadata": {},
     "output_type": "execute_result"
    }
   ],
   "source": [
    "df_features"
   ]
  },
  {
   "cell_type": "markdown",
   "metadata": {},
   "source": [
    "#### select continuous features so we can remove outliers"
   ]
  },
  {
   "cell_type": "code",
   "execution_count": 6,
   "metadata": {},
   "outputs": [],
   "source": [
    "df_continuous = df_features.copy()"
   ]
  },
  {
   "cell_type": "code",
   "execution_count": 7,
   "metadata": {},
   "outputs": [],
   "source": [
    "df_continuous.drop(['re_intub_class','gender','admission_type'],axis=1,inplace=True)"
   ]
  },
  {
   "cell_type": "markdown",
   "metadata": {},
   "source": [
    "#### Remove outliers by removing all values with a zscore +/- 4"
   ]
  },
  {
   "cell_type": "code",
   "execution_count": 8,
   "metadata": {},
   "outputs": [
    {
     "data": {
      "text/html": [
       "<div>\n",
       "<style scoped>\n",
       "    .dataframe tbody tr th:only-of-type {\n",
       "        vertical-align: middle;\n",
       "    }\n",
       "\n",
       "    .dataframe tbody tr th {\n",
       "        vertical-align: top;\n",
       "    }\n",
       "\n",
       "    .dataframe thead th {\n",
       "        text-align: right;\n",
       "    }\n",
       "</style>\n",
       "<table border=\"1\" class=\"dataframe\">\n",
       "  <thead>\n",
       "    <tr style=\"text-align: right;\">\n",
       "      <th></th>\n",
       "      <th>time_on_vent</th>\n",
       "      <th>anchor_age</th>\n",
       "      <th>heartrate</th>\n",
       "      <th>weight</th>\n",
       "      <th>hco3</th>\n",
       "      <th>pulseox</th>\n",
       "      <th>creatinine</th>\n",
       "      <th>bun</th>\n",
       "      <th>height</th>\n",
       "      <th>tidalvolume</th>\n",
       "      <th>temp</th>\n",
       "    </tr>\n",
       "  </thead>\n",
       "  <tbody>\n",
       "    <tr>\n",
       "      <th>count</th>\n",
       "      <td>7891.000000</td>\n",
       "      <td>7891.000000</td>\n",
       "      <td>7891.000000</td>\n",
       "      <td>7891.000000</td>\n",
       "      <td>7891.000000</td>\n",
       "      <td>7891.000000</td>\n",
       "      <td>7891.000000</td>\n",
       "      <td>7891.000000</td>\n",
       "      <td>7891.000000</td>\n",
       "      <td>7891.000000</td>\n",
       "      <td>7891.000000</td>\n",
       "    </tr>\n",
       "    <tr>\n",
       "      <th>mean</th>\n",
       "      <td>100.696183</td>\n",
       "      <td>61.803447</td>\n",
       "      <td>85.990622</td>\n",
       "      <td>184.894454</td>\n",
       "      <td>25.170447</td>\n",
       "      <td>97.657838</td>\n",
       "      <td>1.348859</td>\n",
       "      <td>27.772526</td>\n",
       "      <td>66.498932</td>\n",
       "      <td>476.834563</td>\n",
       "      <td>36.988712</td>\n",
       "    </tr>\n",
       "    <tr>\n",
       "      <th>std</th>\n",
       "      <td>138.835264</td>\n",
       "      <td>16.557386</td>\n",
       "      <td>17.501060</td>\n",
       "      <td>55.201505</td>\n",
       "      <td>4.878521</td>\n",
       "      <td>3.006840</td>\n",
       "      <td>1.292172</td>\n",
       "      <td>22.191232</td>\n",
       "      <td>5.621192</td>\n",
       "      <td>147.283666</td>\n",
       "      <td>1.724593</td>\n",
       "    </tr>\n",
       "    <tr>\n",
       "      <th>min</th>\n",
       "      <td>6.016667</td>\n",
       "      <td>18.000000</td>\n",
       "      <td>0.000000</td>\n",
       "      <td>56.000000</td>\n",
       "      <td>9.000000</td>\n",
       "      <td>0.000000</td>\n",
       "      <td>0.000000</td>\n",
       "      <td>1.000000</td>\n",
       "      <td>0.000000</td>\n",
       "      <td>101.000000</td>\n",
       "      <td>-17.777778</td>\n",
       "    </tr>\n",
       "    <tr>\n",
       "      <th>25%</th>\n",
       "      <td>20.333333</td>\n",
       "      <td>52.000000</td>\n",
       "      <td>74.000000</td>\n",
       "      <td>147.800000</td>\n",
       "      <td>22.000000</td>\n",
       "      <td>96.000000</td>\n",
       "      <td>0.700000</td>\n",
       "      <td>13.000000</td>\n",
       "      <td>64.086614</td>\n",
       "      <td>379.500000</td>\n",
       "      <td>36.722222</td>\n",
       "    </tr>\n",
       "    <tr>\n",
       "      <th>50%</th>\n",
       "      <td>52.000000</td>\n",
       "      <td>63.000000</td>\n",
       "      <td>85.000000</td>\n",
       "      <td>176.000000</td>\n",
       "      <td>25.000000</td>\n",
       "      <td>98.000000</td>\n",
       "      <td>0.900000</td>\n",
       "      <td>21.000000</td>\n",
       "      <td>66.964567</td>\n",
       "      <td>455.000000</td>\n",
       "      <td>37.000000</td>\n",
       "    </tr>\n",
       "    <tr>\n",
       "      <th>75%</th>\n",
       "      <td>127.300000</td>\n",
       "      <td>74.000000</td>\n",
       "      <td>97.000000</td>\n",
       "      <td>212.700000</td>\n",
       "      <td>28.000000</td>\n",
       "      <td>100.000000</td>\n",
       "      <td>1.500000</td>\n",
       "      <td>35.000000</td>\n",
       "      <td>70.039370</td>\n",
       "      <td>550.000000</td>\n",
       "      <td>37.388889</td>\n",
       "    </tr>\n",
       "    <tr>\n",
       "      <th>max</th>\n",
       "      <td>2389.733333</td>\n",
       "      <td>91.000000</td>\n",
       "      <td>173.000000</td>\n",
       "      <td>605.000000</td>\n",
       "      <td>50.000000</td>\n",
       "      <td>100.000000</td>\n",
       "      <td>13.600000</td>\n",
       "      <td>276.000000</td>\n",
       "      <td>175.098425</td>\n",
       "      <td>1602.000000</td>\n",
       "      <td>40.000000</td>\n",
       "    </tr>\n",
       "  </tbody>\n",
       "</table>\n",
       "</div>"
      ],
      "text/plain": [
       "       time_on_vent   anchor_age    heartrate       weight         hco3  \\\n",
       "count   7891.000000  7891.000000  7891.000000  7891.000000  7891.000000   \n",
       "mean     100.696183    61.803447    85.990622   184.894454    25.170447   \n",
       "std      138.835264    16.557386    17.501060    55.201505     4.878521   \n",
       "min        6.016667    18.000000     0.000000    56.000000     9.000000   \n",
       "25%       20.333333    52.000000    74.000000   147.800000    22.000000   \n",
       "50%       52.000000    63.000000    85.000000   176.000000    25.000000   \n",
       "75%      127.300000    74.000000    97.000000   212.700000    28.000000   \n",
       "max     2389.733333    91.000000   173.000000   605.000000    50.000000   \n",
       "\n",
       "           pulseox   creatinine          bun       height  tidalvolume  \\\n",
       "count  7891.000000  7891.000000  7891.000000  7891.000000  7891.000000   \n",
       "mean     97.657838     1.348859    27.772526    66.498932   476.834563   \n",
       "std       3.006840     1.292172    22.191232     5.621192   147.283666   \n",
       "min       0.000000     0.000000     1.000000     0.000000   101.000000   \n",
       "25%      96.000000     0.700000    13.000000    64.086614   379.500000   \n",
       "50%      98.000000     0.900000    21.000000    66.964567   455.000000   \n",
       "75%     100.000000     1.500000    35.000000    70.039370   550.000000   \n",
       "max     100.000000    13.600000   276.000000   175.098425  1602.000000   \n",
       "\n",
       "              temp  \n",
       "count  7891.000000  \n",
       "mean     36.988712  \n",
       "std       1.724593  \n",
       "min     -17.777778  \n",
       "25%      36.722222  \n",
       "50%      37.000000  \n",
       "75%      37.388889  \n",
       "max      40.000000  "
      ]
     },
     "execution_count": 8,
     "metadata": {},
     "output_type": "execute_result"
    }
   ],
   "source": [
    "summary_stats = df_continuous.describe()\n",
    "summary_stats"
   ]
  },
  {
   "cell_type": "code",
   "execution_count": 9,
   "metadata": {},
   "outputs": [],
   "source": [
    "cols = list(df_continuous.columns)\n",
    "df_new = df_continuous.copy()\n",
    "for col in cols:\n",
    "    df_new[col] = (df_continuous[col]-df_continuous[col].mean())/df_continuous[col].std()"
   ]
  },
  {
   "cell_type": "code",
   "execution_count": null,
   "metadata": {},
   "outputs": [],
   "source": [
    "# Set any value which has a z-score +/- 4 to NaN\n",
    "for col in cols:\n",
    "    df_continuous[col] = np.where(((df_continuous[col]-df_continuous[col].mean())/df_continuous[col].std()>4)|\n",
    "                                  ((df_continuous[col]-df_continuous[col].mean())/df_continuous[col].std()<-4),\n",
    "                                  np.NaN,df_continuous[col])"
   ]
  },
  {
   "cell_type": "code",
   "execution_count": 11,
   "metadata": {},
   "outputs": [
    {
     "data": {
      "text/plain": [
       "time_on_vent     76\n",
       "anchor_age        0\n",
       "heartrate        13\n",
       "weight           40\n",
       "hco3              9\n",
       "pulseox          23\n",
       "creatinine      102\n",
       "bun              64\n",
       "height           36\n",
       "tidalvolume      16\n",
       "temp             15\n",
       "dtype: int64"
      ]
     },
     "execution_count": 11,
     "metadata": {},
     "output_type": "execute_result"
    }
   ],
   "source": [
    "df_continuous.isnull().sum()"
   ]
  },
  {
   "cell_type": "markdown",
   "metadata": {},
   "source": [
    "#### Drop samples containing NaNs"
   ]
  },
  {
   "cell_type": "code",
   "execution_count": 12,
   "metadata": {},
   "outputs": [],
   "source": [
    "df_continuous.dropna(inplace=True)"
   ]
  },
  {
   "cell_type": "markdown",
   "metadata": {},
   "source": [
    "#### Test for normality "
   ]
  },
  {
   "cell_type": "code",
   "execution_count": 27,
   "metadata": {},
   "outputs": [
    {
     "data": {
      "text/plain": [
       "<AxesSubplot:xlabel='pulseox', ylabel='Count'>"
      ]
     },
     "execution_count": 27,
     "metadata": {},
     "output_type": "execute_result"
    },
    {
     "data": {
      "image/png": "[encoded data removed]",
      "text/plain": [
       "<Figure size 432x288 with 1 Axes>"
      ]
     },
     "metadata": {
      "needs_background": "light"
     },
     "output_type": "display_data"
    }
   ],
   "source": [
    "sns.histplot(df_continuous['pulseox'], bins = 40)"
   ]
  },
  {
   "cell_type": "code",
   "execution_count": 14,
   "metadata": {},
   "outputs": [],
   "source": [
    "from scipy.stats import shapiro, normaltest"
   ]
  },
  {
   "cell_type": "code",
   "execution_count": 15,
   "metadata": {},
   "outputs": [
    {
     "data": {
      "text/html": [
       "<div>\n",
       "<style scoped>\n",
       "    .dataframe tbody tr th:only-of-type {\n",
       "        vertical-align: middle;\n",
       "    }\n",
       "\n",
       "    .dataframe tbody tr th {\n",
       "        vertical-align: top;\n",
       "    }\n",
       "\n",
       "    .dataframe thead th {\n",
       "        text-align: right;\n",
       "    }\n",
       "</style>\n",
       "<table border=\"1\" class=\"dataframe\">\n",
       "  <thead>\n",
       "    <tr style=\"text-align: right;\">\n",
       "      <th></th>\n",
       "      <th>time_on_vent</th>\n",
       "      <th>anchor_age</th>\n",
       "      <th>heartrate</th>\n",
       "      <th>weight</th>\n",
       "      <th>hco3</th>\n",
       "      <th>pulseox</th>\n",
       "      <th>creatinine</th>\n",
       "      <th>bun</th>\n",
       "      <th>height</th>\n",
       "      <th>tidalvolume</th>\n",
       "      <th>temp</th>\n",
       "    </tr>\n",
       "  </thead>\n",
       "  <tbody>\n",
       "    <tr>\n",
       "      <th>0</th>\n",
       "      <td>3199.161579</td>\n",
       "      <td>3.013988e+02</td>\n",
       "      <td>1.815994e+02</td>\n",
       "      <td>9.505320e+02</td>\n",
       "      <td>5.199743e+02</td>\n",
       "      <td>1.239220e+03</td>\n",
       "      <td>3780.933851</td>\n",
       "      <td>2413.728911</td>\n",
       "      <td>7.374064e+01</td>\n",
       "      <td>8.025534e+02</td>\n",
       "      <td>5.220036e+02</td>\n",
       "    </tr>\n",
       "    <tr>\n",
       "      <th>1</th>\n",
       "      <td>0.000000</td>\n",
       "      <td>3.565195e-66</td>\n",
       "      <td>3.682931e-40</td>\n",
       "      <td>3.931807e-207</td>\n",
       "      <td>1.227484e-113</td>\n",
       "      <td>8.067701e-270</td>\n",
       "      <td>0.000000</td>\n",
       "      <td>0.000000</td>\n",
       "      <td>9.714585e-17</td>\n",
       "      <td>5.342619e-175</td>\n",
       "      <td>4.450031e-114</td>\n",
       "    </tr>\n",
       "  </tbody>\n",
       "</table>\n",
       "</div>"
      ],
      "text/plain": [
       "   time_on_vent    anchor_age     heartrate         weight           hco3  \\\n",
       "0   3199.161579  3.013988e+02  1.815994e+02   9.505320e+02   5.199743e+02   \n",
       "1      0.000000  3.565195e-66  3.682931e-40  3.931807e-207  1.227484e-113   \n",
       "\n",
       "         pulseox   creatinine          bun        height    tidalvolume  \\\n",
       "0   1.239220e+03  3780.933851  2413.728911  7.374064e+01   8.025534e+02   \n",
       "1  8.067701e-270     0.000000     0.000000  9.714585e-17  5.342619e-175   \n",
       "\n",
       "            temp  \n",
       "0   5.220036e+02  \n",
       "1  4.450031e-114  "
      ]
     },
     "execution_count": 15,
     "metadata": {},
     "output_type": "execute_result"
    }
   ],
   "source": [
    "df_continuous.apply(normaltest)"
   ]
  },
  {
   "cell_type": "code",
   "execution_count": 16,
   "metadata": {
    "scrolled": true
   },
   "outputs": [
    {
     "name": "stderr",
     "output_type": "stream",
     "text": [
      "/home/anne_717/anaconda3/envs/extumate/lib/python3.8/site-packages/scipy/stats/morestats.py:1681: UserWarning: p-value may not be accurate for N > 5000.\n",
      "  warnings.warn(\"p-value may not be accurate for N > 5000.\")\n"
     ]
    },
    {
     "data": {
      "text/html": [
       "<div>\n",
       "<style scoped>\n",
       "    .dataframe tbody tr th:only-of-type {\n",
       "        vertical-align: middle;\n",
       "    }\n",
       "\n",
       "    .dataframe tbody tr th {\n",
       "        vertical-align: top;\n",
       "    }\n",
       "\n",
       "    .dataframe thead th {\n",
       "        text-align: right;\n",
       "    }\n",
       "</style>\n",
       "<table border=\"1\" class=\"dataframe\">\n",
       "  <thead>\n",
       "    <tr style=\"text-align: right;\">\n",
       "      <th></th>\n",
       "      <th>time_on_vent</th>\n",
       "      <th>anchor_age</th>\n",
       "      <th>heartrate</th>\n",
       "      <th>weight</th>\n",
       "      <th>hco3</th>\n",
       "      <th>pulseox</th>\n",
       "      <th>creatinine</th>\n",
       "      <th>bun</th>\n",
       "      <th>height</th>\n",
       "      <th>tidalvolume</th>\n",
       "      <th>temp</th>\n",
       "    </tr>\n",
       "  </thead>\n",
       "  <tbody>\n",
       "    <tr>\n",
       "      <th>0</th>\n",
       "      <td>0.750575</td>\n",
       "      <td>9.732109e-01</td>\n",
       "      <td>9.907055e-01</td>\n",
       "      <td>9.582782e-01</td>\n",
       "      <td>9.719483e-01</td>\n",
       "      <td>0.865367</td>\n",
       "      <td>0.72496</td>\n",
       "      <td>0.832236</td>\n",
       "      <td>9.856148e-01</td>\n",
       "      <td>9.625439e-01</td>\n",
       "      <td>9.705243e-01</td>\n",
       "    </tr>\n",
       "    <tr>\n",
       "      <th>1</th>\n",
       "      <td>0.000000</td>\n",
       "      <td>2.862784e-35</td>\n",
       "      <td>8.216742e-22</td>\n",
       "      <td>6.495018e-42</td>\n",
       "      <td>6.222463e-36</td>\n",
       "      <td>0.000000</td>\n",
       "      <td>0.00000</td>\n",
       "      <td>0.000000</td>\n",
       "      <td>5.949743e-27</td>\n",
       "      <td>3.056246e-40</td>\n",
       "      <td>1.185877e-36</td>\n",
       "    </tr>\n",
       "  </tbody>\n",
       "</table>\n",
       "</div>"
      ],
      "text/plain": [
       "   time_on_vent    anchor_age     heartrate        weight          hco3  \\\n",
       "0      0.750575  9.732109e-01  9.907055e-01  9.582782e-01  9.719483e-01   \n",
       "1      0.000000  2.862784e-35  8.216742e-22  6.495018e-42  6.222463e-36   \n",
       "\n",
       "    pulseox  creatinine       bun        height   tidalvolume          temp  \n",
       "0  0.865367     0.72496  0.832236  9.856148e-01  9.625439e-01  9.705243e-01  \n",
       "1  0.000000     0.00000  0.000000  5.949743e-27  3.056246e-40  1.185877e-36  "
      ]
     },
     "execution_count": 16,
     "metadata": {},
     "output_type": "execute_result"
    }
   ],
   "source": [
    "df_continuous.apply(shapiro)"
   ]
  },
  {
   "cell_type": "code",
   "execution_count": 17,
   "metadata": {},
   "outputs": [],
   "source": [
    "df_categorical = df_features.copy()\n",
    "df_categorical = df_features[['re_intub_class','gender','admission_type']]"
   ]
  },
  {
   "cell_type": "code",
   "execution_count": 18,
   "metadata": {},
   "outputs": [],
   "source": [
    "df_tobox = df_continuous.copy()"
   ]
  },
  {
   "cell_type": "markdown",
   "metadata": {},
   "source": [
    "#### Transform features so each feature is normally distributed"
   ]
  },
  {
   "cell_type": "code",
   "execution_count": 20,
   "metadata": {},
   "outputs": [],
   "source": [
    "from scipy.stats import boxcox\n",
    "from sklearn.preprocessing import quantile_transform"
   ]
  },
  {
   "cell_type": "code",
   "execution_count": 21,
   "metadata": {},
   "outputs": [],
   "source": [
    "df_tobox['bun']= boxcox(df_tobox['bun']+1,0) # need to shift all values as boxcox doesnt work on non-positive or \n",
    "zero values\n",
    "df_tobox['creatinine']= boxcox(df_tobox['creatinine']+1,0)\n",
    "df_tobox['pulseox']= boxcox(df_tobox['pulseox']+1,0)\n",
    "df_tobox['anchor_age']= boxcox(df_tobox['anchor_age']+1,0)"
   ]
  },
  {
   "cell_type": "code",
   "execution_count": 22,
   "metadata": {},
   "outputs": [],
   "source": [
    "#df_tobox = df_tobox.transform(lambda x: boxcox((x + 1),0)) # apply boxcox to entire dataframe"
   ]
  },
  {
   "cell_type": "markdown",
   "metadata": {},
   "source": [
    "pulseox = df_continuous['pulseox'].values\n",
    "df_tobox['pulseox'] = quantile_transform(pulseox.reshape(-1,1),\n",
    "                             n_quantiles=300,\n",
    "                             output_distribution='normal',\n",
    "                             copy=True)\n",
    "\n",
    "pulseox = df_continuous['anchor_age'].values\n",
    "df_tobox['anchor_age'] = quantile_transform(pulseox.reshape(-1,1),\n",
    "                             n_quantiles=300,\n",
    "                             output_distribution='normal',\n",
    "                             copy=True)"
   ]
  },
  {
   "cell_type": "code",
   "execution_count": 23,
   "metadata": {},
   "outputs": [],
   "source": [
    "df_to_model = pd.merge(left = df_tobox, right=df_categorical, how = 'inner',left_index = True, right_index = True)"
   ]
  },
  {
   "cell_type": "code",
   "execution_count": 25,
   "metadata": {},
   "outputs": [],
   "source": [
    "df_to_model.reset_index(inplace=True)\n",
    "df_to_model.drop('index',axis=1,inplace=True)"
   ]
  },
  {
   "cell_type": "markdown",
   "metadata": {},
   "source": [
    "#### Check for autocorrelation"
   ]
  },
  {
   "cell_type": "code",
   "execution_count": 26,
   "metadata": {},
   "outputs": [
    {
     "data": {
      "text/plain": [
       "<AxesSubplot:>"
      ]
     },
     "execution_count": 26,
     "metadata": {},
     "output_type": "execute_result"
    },
    {
     "data": {
      "image/png": "[encoded data removed]",
      "text/plain": [
       "<Figure size 432x288 with 2 Axes>"
      ]
     },
     "metadata": {
      "needs_background": "light"
     },
     "output_type": "display_data"
    }
   ],
   "source": [
    "sns.heatmap(df_to_model.corr())"
   ]
  },
  {
   "cell_type": "code",
   "execution_count": 28,
   "metadata": {},
   "outputs": [
    {
     "data": {
      "text/plain": [
       "<AxesSubplot:xlabel='pulseox', ylabel='Count'>"
      ]
     },
     "execution_count": 28,
     "metadata": {},
     "output_type": "execute_result"
    },
    {
     "data": {
      "image/png": "[encoded data removed]",
      "text/plain": [
       "<Figure size 432x288 with 1 Axes>"
      ]
     },
     "metadata": {
      "needs_background": "light"
     },
     "output_type": "display_data"
    }
   ],
   "source": [
    "sns.histplot(df_to_model, x = 'pulseox', hue = 're_intub_class', bins = 40)"
   ]
  },
  {
   "cell_type": "markdown",
   "metadata": {},
   "source": [
    "#### Create new feature: 'tidal-weight' which is tidal volume normalized to the weight of the person (a smaller person requires a smaller tidal volume to sustain blood oxygen than a larger person)"
   ]
  },
  {
   "cell_type": "code",
   "execution_count": 29,
   "metadata": {},
   "outputs": [],
   "source": [
    "df_to_model['tidal_weight'] = df_to_model['tidalvolume']/ df_to_model['weight']"
   ]
  },
  {
   "cell_type": "code",
   "execution_count": 30,
   "metadata": {
    "scrolled": true
   },
   "outputs": [],
   "source": [
    "df_to_model.to_feather('../data/processed/df_to_model_labs')"
   ]
  },
  {
   "cell_type": "code",
   "execution_count": null,
   "metadata": {},
   "outputs": [],
   "source": []
  }
 ],
 "metadata": {
  "kernelspec": {
   "display_name": "Python 3",
   "language": "python",
   "name": "python3"
  },
  "language_info": {
   "codemirror_mode": {
    "name": "ipython",
    "version": 3
   },
   "file_extension": ".py",
   "mimetype": "text/x-python",
   "name": "python",
   "nbconvert_exporter": "python",
   "pygments_lexer": "ipython3",
   "version": "3.8.5"
  }
 },
 "nbformat": 4,
 "nbformat_minor": 4
}
