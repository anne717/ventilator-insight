{
 "cells": [
  {
   "cell_type": "markdown",
   "metadata": {},
   "source": [
    "## Script to get clean feature table vefore passing to model\n",
    "\n",
    "Cleaned feature table saved as 'clean_ft_table.csv'"
   ]
  },
  {
   "cell_type": "markdown",
   "metadata": {},
   "source": [
    "#### import libraries"
   ]
  },
  {
   "cell_type": "code",
   "execution_count": 1,
   "metadata": {},
   "outputs": [],
   "source": [
    "import pandas as pd\n",
    "import numpy as np\n",
    "import seaborn as sns\n",
    "import matplotlib.pyplot as plt\n",
    "import os"
   ]
  },
  {
   "cell_type": "markdown",
   "metadata": {},
   "source": [
    "#### get feature library"
   ]
  },
  {
   "cell_type": "code",
   "execution_count": 3,
   "metadata": {},
   "outputs": [],
   "source": [
    "df = pd.read_feather('../data/processed/gender')"
   ]
  },
  {
   "cell_type": "code",
   "execution_count": 4,
   "metadata": {},
   "outputs": [],
   "source": [
    "df_master = df.copy()"
   ]
  },
  {
   "cell_type": "code",
   "execution_count": 5,
   "metadata": {},
   "outputs": [],
   "source": [
    "# select only useful columns for master dataframe\n",
    "df_master=df_master[['hadm_id', 'endtime', 'time_on_vent', 're_intub_class',\n",
    "                     'gender','admission_type','anchor_age']]"
   ]
  },
  {
   "cell_type": "markdown",
   "metadata": {},
   "source": [
    "#### load each feature and merge with df_master on hadm_id"
   ]
  },
  {
   "cell_type": "code",
   "execution_count": 6,
   "metadata": {},
   "outputs": [],
   "source": [
    "# all feature names are the same as the feature column so we can find the name of all features in\n",
    "# the 'selected_features' directory, load each feature in turn, select only the relevant columns and merge these \n",
    "# with df_master on 'hadm_id'\n",
    "dirList= os.listdir('../data/processed/selected_features')\n",
    "filename = []\n",
    "\n",
    "for fname in dirList:\n",
    "    feature = np.append(filename, fname)\n",
    "    feature_table = pd.read_feather('../data/processed/selected_features/'+fname)\n",
    "    feature_columns = feature_table[['hadm_id',fname]]\n",
    "    df_master = pd.merge(left = df_master, right = feature_columns, \n",
    "                     how='left', left_on = 'hadm_id',right_on = 'hadm_id')"
   ]
  },
  {
   "cell_type": "code",
   "execution_count": 7,
   "metadata": {},
   "outputs": [
    {
     "data": {
      "text/html": [
       "<div>\n",
       "<style scoped>\n",
       "    .dataframe tbody tr th:only-of-type {\n",
       "        vertical-align: middle;\n",
       "    }\n",
       "\n",
       "    .dataframe tbody tr th {\n",
       "        vertical-align: top;\n",
       "    }\n",
       "\n",
       "    .dataframe thead th {\n",
       "        text-align: right;\n",
       "    }\n",
       "</style>\n",
       "<table border=\"1\" class=\"dataframe\">\n",
       "  <thead>\n",
       "    <tr style=\"text-align: right;\">\n",
       "      <th></th>\n",
       "      <th>hadm_id</th>\n",
       "      <th>endtime</th>\n",
       "      <th>time_on_vent</th>\n",
       "      <th>re_intub_class</th>\n",
       "      <th>gender</th>\n",
       "      <th>admission_type</th>\n",
       "      <th>anchor_age</th>\n",
       "      <th>spontrr</th>\n",
       "      <th>heartrate</th>\n",
       "      <th>std_spontrr</th>\n",
       "      <th>...</th>\n",
       "      <th>height</th>\n",
       "      <th>lactic_acid</th>\n",
       "      <th>bnp</th>\n",
       "      <th>hemoglobin</th>\n",
       "      <th>wbg</th>\n",
       "      <th>tidalvolume</th>\n",
       "      <th>temp</th>\n",
       "      <th>std_bloodpressure</th>\n",
       "      <th>pulseox</th>\n",
       "      <th>std_temp</th>\n",
       "    </tr>\n",
       "  </thead>\n",
       "  <tbody>\n",
       "    <tr>\n",
       "      <th>0</th>\n",
       "      <td>28038802</td>\n",
       "      <td>2185-12-20 09:59:00</td>\n",
       "      <td>108.800000</td>\n",
       "      <td>0</td>\n",
       "      <td>M</td>\n",
       "      <td>EW EMER.</td>\n",
       "      <td>71</td>\n",
       "      <td>17.0</td>\n",
       "      <td>87.0</td>\n",
       "      <td>5.560918</td>\n",
       "      <td>...</td>\n",
       "      <td>NaN</td>\n",
       "      <td>0.7</td>\n",
       "      <td>NaN</td>\n",
       "      <td>12.6</td>\n",
       "      <td>6.6</td>\n",
       "      <td>568.0</td>\n",
       "      <td>36.555556</td>\n",
       "      <td>10.830303</td>\n",
       "      <td>88.0</td>\n",
       "      <td>0.274986</td>\n",
       "    </tr>\n",
       "    <tr>\n",
       "      <th>1</th>\n",
       "      <td>21790335</td>\n",
       "      <td>2140-03-11 13:44:00</td>\n",
       "      <td>33.000000</td>\n",
       "      <td>0</td>\n",
       "      <td>F</td>\n",
       "      <td>URGENT</td>\n",
       "      <td>34</td>\n",
       "      <td>13.0</td>\n",
       "      <td>78.0</td>\n",
       "      <td>0.447214</td>\n",
       "      <td>...</td>\n",
       "      <td>NaN</td>\n",
       "      <td>2.9</td>\n",
       "      <td>NaN</td>\n",
       "      <td>9.1</td>\n",
       "      <td>10.5</td>\n",
       "      <td>578.0</td>\n",
       "      <td>36.888889</td>\n",
       "      <td>1.923538</td>\n",
       "      <td>92.0</td>\n",
       "      <td>NaN</td>\n",
       "    </tr>\n",
       "    <tr>\n",
       "      <th>2</th>\n",
       "      <td>24357541</td>\n",
       "      <td>2177-02-10 14:00:00</td>\n",
       "      <td>659.416667</td>\n",
       "      <td>0</td>\n",
       "      <td>F</td>\n",
       "      <td>URGENT</td>\n",
       "      <td>70</td>\n",
       "      <td>0.0</td>\n",
       "      <td>127.0</td>\n",
       "      <td>11.631239</td>\n",
       "      <td>...</td>\n",
       "      <td>59.027559</td>\n",
       "      <td>0.8</td>\n",
       "      <td>48581.0</td>\n",
       "      <td>8.5</td>\n",
       "      <td>8.4</td>\n",
       "      <td>0.0</td>\n",
       "      <td>37.500000</td>\n",
       "      <td>7.120393</td>\n",
       "      <td>94.0</td>\n",
       "      <td>NaN</td>\n",
       "    </tr>\n",
       "    <tr>\n",
       "      <th>3</th>\n",
       "      <td>22188993</td>\n",
       "      <td>2145-11-04 18:40:00</td>\n",
       "      <td>143.666667</td>\n",
       "      <td>0</td>\n",
       "      <td>M</td>\n",
       "      <td>EW EMER.</td>\n",
       "      <td>68</td>\n",
       "      <td>27.0</td>\n",
       "      <td>95.0</td>\n",
       "      <td>0.726483</td>\n",
       "      <td>...</td>\n",
       "      <td>74.007874</td>\n",
       "      <td>1.8</td>\n",
       "      <td>NaN</td>\n",
       "      <td>11.0</td>\n",
       "      <td>5.4</td>\n",
       "      <td>594.0</td>\n",
       "      <td>37.388889</td>\n",
       "      <td>3.669696</td>\n",
       "      <td>98.0</td>\n",
       "      <td>NaN</td>\n",
       "    </tr>\n",
       "    <tr>\n",
       "      <th>4</th>\n",
       "      <td>21880799</td>\n",
       "      <td>2134-05-22 17:58:00</td>\n",
       "      <td>54.966667</td>\n",
       "      <td>0</td>\n",
       "      <td>M</td>\n",
       "      <td>EW EMER.</td>\n",
       "      <td>52</td>\n",
       "      <td>24.0</td>\n",
       "      <td>100.0</td>\n",
       "      <td>9.227289</td>\n",
       "      <td>...</td>\n",
       "      <td>66.070866</td>\n",
       "      <td>1.0</td>\n",
       "      <td>NaN</td>\n",
       "      <td>7.8</td>\n",
       "      <td>8.4</td>\n",
       "      <td>500.0</td>\n",
       "      <td>36.555556</td>\n",
       "      <td>NaN</td>\n",
       "      <td>100.0</td>\n",
       "      <td>NaN</td>\n",
       "    </tr>\n",
       "    <tr>\n",
       "      <th>...</th>\n",
       "      <td>...</td>\n",
       "      <td>...</td>\n",
       "      <td>...</td>\n",
       "      <td>...</td>\n",
       "      <td>...</td>\n",
       "      <td>...</td>\n",
       "      <td>...</td>\n",
       "      <td>...</td>\n",
       "      <td>...</td>\n",
       "      <td>...</td>\n",
       "      <td>...</td>\n",
       "      <td>...</td>\n",
       "      <td>...</td>\n",
       "      <td>...</td>\n",
       "      <td>...</td>\n",
       "      <td>...</td>\n",
       "      <td>...</td>\n",
       "      <td>...</td>\n",
       "      <td>...</td>\n",
       "      <td>...</td>\n",
       "      <td>...</td>\n",
       "    </tr>\n",
       "    <tr>\n",
       "      <th>16399</th>\n",
       "      <td>29960248</td>\n",
       "      <td>2146-12-09 14:23:00</td>\n",
       "      <td>73.466667</td>\n",
       "      <td>1</td>\n",
       "      <td>F</td>\n",
       "      <td>DIRECT EMER.</td>\n",
       "      <td>65</td>\n",
       "      <td>13.0</td>\n",
       "      <td>94.0</td>\n",
       "      <td>1.863525</td>\n",
       "      <td>...</td>\n",
       "      <td>61.011811</td>\n",
       "      <td>1.0</td>\n",
       "      <td>NaN</td>\n",
       "      <td>10.3</td>\n",
       "      <td>18.6</td>\n",
       "      <td>519.0</td>\n",
       "      <td>37.055556</td>\n",
       "      <td>3.761299</td>\n",
       "      <td>96.0</td>\n",
       "      <td>NaN</td>\n",
       "    </tr>\n",
       "    <tr>\n",
       "      <th>16400</th>\n",
       "      <td>29962016</td>\n",
       "      <td>2135-10-30 11:45:00</td>\n",
       "      <td>218.083333</td>\n",
       "      <td>1</td>\n",
       "      <td>F</td>\n",
       "      <td>EW EMER.</td>\n",
       "      <td>53</td>\n",
       "      <td>17.0</td>\n",
       "      <td>80.0</td>\n",
       "      <td>1.772811</td>\n",
       "      <td>...</td>\n",
       "      <td>64.086614</td>\n",
       "      <td>1.4</td>\n",
       "      <td>NaN</td>\n",
       "      <td>9.0</td>\n",
       "      <td>10.7</td>\n",
       "      <td>308.0</td>\n",
       "      <td>36.888889</td>\n",
       "      <td>12.378938</td>\n",
       "      <td>100.0</td>\n",
       "      <td>NaN</td>\n",
       "    </tr>\n",
       "    <tr>\n",
       "      <th>16401</th>\n",
       "      <td>29974575</td>\n",
       "      <td>2131-03-03 19:54:00</td>\n",
       "      <td>98.900000</td>\n",
       "      <td>1</td>\n",
       "      <td>M</td>\n",
       "      <td>EW EMER.</td>\n",
       "      <td>72</td>\n",
       "      <td>21.0</td>\n",
       "      <td>71.0</td>\n",
       "      <td>8.952254</td>\n",
       "      <td>...</td>\n",
       "      <td>70.039370</td>\n",
       "      <td>0.8</td>\n",
       "      <td>NaN</td>\n",
       "      <td>10.0</td>\n",
       "      <td>6.0</td>\n",
       "      <td>447.0</td>\n",
       "      <td>36.888889</td>\n",
       "      <td>296.433466</td>\n",
       "      <td>100.0</td>\n",
       "      <td>NaN</td>\n",
       "    </tr>\n",
       "    <tr>\n",
       "      <th>16402</th>\n",
       "      <td>29987115</td>\n",
       "      <td>2148-02-19 10:00:00</td>\n",
       "      <td>44.000000</td>\n",
       "      <td>1</td>\n",
       "      <td>F</td>\n",
       "      <td>URGENT</td>\n",
       "      <td>43</td>\n",
       "      <td>12.0</td>\n",
       "      <td>88.0</td>\n",
       "      <td>4.527693</td>\n",
       "      <td>...</td>\n",
       "      <td>59.921260</td>\n",
       "      <td>1.1</td>\n",
       "      <td>NaN</td>\n",
       "      <td>9.0</td>\n",
       "      <td>6.5</td>\n",
       "      <td>594.0</td>\n",
       "      <td>36.722222</td>\n",
       "      <td>7.949843</td>\n",
       "      <td>99.0</td>\n",
       "      <td>NaN</td>\n",
       "    </tr>\n",
       "    <tr>\n",
       "      <th>16403</th>\n",
       "      <td>29995768</td>\n",
       "      <td>2178-05-17 21:57:00</td>\n",
       "      <td>26.950000</td>\n",
       "      <td>1</td>\n",
       "      <td>F</td>\n",
       "      <td>EW EMER.</td>\n",
       "      <td>58</td>\n",
       "      <td>20.0</td>\n",
       "      <td>96.0</td>\n",
       "      <td>7.559289</td>\n",
       "      <td>...</td>\n",
       "      <td>NaN</td>\n",
       "      <td>2.3</td>\n",
       "      <td>125.0</td>\n",
       "      <td>13.0</td>\n",
       "      <td>14.3</td>\n",
       "      <td>519.0</td>\n",
       "      <td>3.000000</td>\n",
       "      <td>9.497368</td>\n",
       "      <td>99.0</td>\n",
       "      <td>NaN</td>\n",
       "    </tr>\n",
       "  </tbody>\n",
       "</table>\n",
       "<p>16404 rows × 34 columns</p>\n",
       "</div>"
      ],
      "text/plain": [
       "        hadm_id              endtime  time_on_vent  re_intub_class gender  \\\n",
       "0      28038802  2185-12-20 09:59:00    108.800000               0      M   \n",
       "1      21790335  2140-03-11 13:44:00     33.000000               0      F   \n",
       "2      24357541  2177-02-10 14:00:00    659.416667               0      F   \n",
       "3      22188993  2145-11-04 18:40:00    143.666667               0      M   \n",
       "4      21880799  2134-05-22 17:58:00     54.966667               0      M   \n",
       "...         ...                  ...           ...             ...    ...   \n",
       "16399  29960248  2146-12-09 14:23:00     73.466667               1      F   \n",
       "16400  29962016  2135-10-30 11:45:00    218.083333               1      F   \n",
       "16401  29974575  2131-03-03 19:54:00     98.900000               1      M   \n",
       "16402  29987115  2148-02-19 10:00:00     44.000000               1      F   \n",
       "16403  29995768  2178-05-17 21:57:00     26.950000               1      F   \n",
       "\n",
       "      admission_type  anchor_age  spontrr  heartrate  std_spontrr  ...  \\\n",
       "0           EW EMER.          71     17.0       87.0     5.560918  ...   \n",
       "1             URGENT          34     13.0       78.0     0.447214  ...   \n",
       "2             URGENT          70      0.0      127.0    11.631239  ...   \n",
       "3           EW EMER.          68     27.0       95.0     0.726483  ...   \n",
       "4           EW EMER.          52     24.0      100.0     9.227289  ...   \n",
       "...              ...         ...      ...        ...          ...  ...   \n",
       "16399   DIRECT EMER.          65     13.0       94.0     1.863525  ...   \n",
       "16400       EW EMER.          53     17.0       80.0     1.772811  ...   \n",
       "16401       EW EMER.          72     21.0       71.0     8.952254  ...   \n",
       "16402         URGENT          43     12.0       88.0     4.527693  ...   \n",
       "16403       EW EMER.          58     20.0       96.0     7.559289  ...   \n",
       "\n",
       "          height  lactic_acid      bnp  hemoglobin   wbg  tidalvolume  \\\n",
       "0            NaN          0.7      NaN        12.6   6.6        568.0   \n",
       "1            NaN          2.9      NaN         9.1  10.5        578.0   \n",
       "2      59.027559          0.8  48581.0         8.5   8.4          0.0   \n",
       "3      74.007874          1.8      NaN        11.0   5.4        594.0   \n",
       "4      66.070866          1.0      NaN         7.8   8.4        500.0   \n",
       "...          ...          ...      ...         ...   ...          ...   \n",
       "16399  61.011811          1.0      NaN        10.3  18.6        519.0   \n",
       "16400  64.086614          1.4      NaN         9.0  10.7        308.0   \n",
       "16401  70.039370          0.8      NaN        10.0   6.0        447.0   \n",
       "16402  59.921260          1.1      NaN         9.0   6.5        594.0   \n",
       "16403        NaN          2.3    125.0        13.0  14.3        519.0   \n",
       "\n",
       "            temp  std_bloodpressure  pulseox  std_temp  \n",
       "0      36.555556          10.830303     88.0  0.274986  \n",
       "1      36.888889           1.923538     92.0       NaN  \n",
       "2      37.500000           7.120393     94.0       NaN  \n",
       "3      37.388889           3.669696     98.0       NaN  \n",
       "4      36.555556                NaN    100.0       NaN  \n",
       "...          ...                ...      ...       ...  \n",
       "16399  37.055556           3.761299     96.0       NaN  \n",
       "16400  36.888889          12.378938    100.0       NaN  \n",
       "16401  36.888889         296.433466    100.0       NaN  \n",
       "16402  36.722222           7.949843     99.0       NaN  \n",
       "16403   3.000000           9.497368     99.0       NaN  \n",
       "\n",
       "[16404 rows x 34 columns]"
      ]
     },
     "execution_count": 7,
     "metadata": {},
     "output_type": "execute_result"
    }
   ],
   "source": [
    "df_master"
   ]
  },
  {
   "cell_type": "markdown",
   "metadata": {},
   "source": [
    "#### select only patients that were intubated for longer than 6 hours \n",
    "\n",
    "To get rid of all the following warnings, sHould change this to the df.where df.copy together? https://pandas.pydata.org/pandas-docs/stable/user_guide/indexing.html#the-where-method-and-masking"
   ]
  },
  {
   "cell_type": "code",
   "execution_count": 14,
   "metadata": {},
   "outputs": [],
   "source": [
    "df6 = df_master.copy()\n",
    "#df6 = df_master[(df_master['time_on_vent']>6)]\n",
    "df6 = df_master[['hadm_id', 'endtime', 'time_on_vent', 're_intub_class', 'gender',\n",
    "       'admission_type', 'anchor_age', 'heartrate',\n",
    "       'weight',  'hco3', \n",
    "        'std_pulseox', 'std_heartrate',\n",
    "       'creatinine', 'std_tidalvolume', 'bun',  'height',\n",
    "       'tidalvolume', 'temp',\n",
    "       'std_bloodpressure']]"
   ]
  },
  {
   "cell_type": "code",
   "execution_count": 15,
   "metadata": {},
   "outputs": [
    {
     "data": {
      "text/plain": [
       "Index(['hadm_id', 'endtime', 'time_on_vent', 're_intub_class', 'gender',\n",
       "       'admission_type', 'anchor_age', 'heartrate', 'weight', 'hco3',\n",
       "       'std_pulseox', 'std_heartrate', 'creatinine', 'std_tidalvolume', 'bun',\n",
       "       'height', 'tidalvolume', 'temp', 'std_bloodpressure'],\n",
       "      dtype='object')"
      ]
     },
     "execution_count": 15,
     "metadata": {},
     "output_type": "execute_result"
    }
   ],
   "source": [
    "df6.columns"
   ]
  },
  {
   "cell_type": "code",
   "execution_count": 16,
   "metadata": {},
   "outputs": [
    {
     "data": {
      "text/plain": [
       "hadm_id                 0\n",
       "endtime                 0\n",
       "time_on_vent            0\n",
       "re_intub_class          0\n",
       "gender                  0\n",
       "admission_type          0\n",
       "anchor_age              0\n",
       "heartrate               1\n",
       "weight               2949\n",
       "hco3                  165\n",
       "std_pulseox           103\n",
       "std_heartrate          79\n",
       "creatinine            162\n",
       "std_tidalvolume      9182\n",
       "bun                   162\n",
       "height               4108\n",
       "tidalvolume            31\n",
       "temp                 2081\n",
       "std_bloodpressure     117\n",
       "dtype: int64"
      ]
     },
     "execution_count": 16,
     "metadata": {},
     "output_type": "execute_result"
    }
   ],
   "source": [
    "df6.isnull().sum()"
   ]
  },
  {
   "cell_type": "code",
   "execution_count": null,
   "metadata": {},
   "outputs": [],
   "source": [
    "df6.dropna(subset = ['std_bloodpressure'],inplace=True)\n",
    "df6.dropna(subset = ['std_spontrr'],inplace=True)\n",
    "df6.dropna(subset = ['temp'],inplace=True)\n",
    "df6.dropna(subset = ['std_pulseox'],inplace=True)\n",
    "df6.dropna(subset = ['std_heartrate'],inplace=True)\n",
    "df6.dropna(subset = ['weight'],inplace=True)\n",
    "df6.dropna(subset = ['height'],inplace=True)\n",
    "df6.dropna(subset = ['tidalvolume'],inplace=True)"
   ]
  },
  {
   "cell_type": "code",
   "execution_count": null,
   "metadata": {},
   "outputs": [],
   "source": [
    "df6.dropna(subset = ['abg_po2'],inplace=True)\n",
    "df6.dropna(subset = ['lactic_acid'],inplace=True)\n",
    "df6.dropna(subset = ['wbg'],inplace=True)\n",
    "df6.dropna(subset = ['hco3'],inplace=True)\n",
    "df6.dropna(subset = ['bun'],inplace=True)"
   ]
  },
  {
   "cell_type": "code",
   "execution_count": null,
   "metadata": {},
   "outputs": [],
   "source": [
    "df6.isnull().sum()"
   ]
  },
  {
   "cell_type": "code",
   "execution_count": null,
   "metadata": {},
   "outputs": [],
   "source": [
    "df6.drop(['std_temp','std_tidalvolume','bnp','vbg_ph','vbg_pco2'],axis=1,inplace=True)"
   ]
  },
  {
   "cell_type": "code",
   "execution_count": null,
   "metadata": {},
   "outputs": [],
   "source": [
    "df6[df6['re_intub_class']==1]"
   ]
  },
  {
   "cell_type": "code",
   "execution_count": null,
   "metadata": {
    "scrolled": true
   },
   "outputs": [],
   "source": [
    "df6.describe()"
   ]
  },
  {
   "cell_type": "markdown",
   "metadata": {},
   "source": [
    "#### tidal volume should be below 2000, weight shoule be above 80"
   ]
  },
  {
   "cell_type": "code",
   "execution_count": null,
   "metadata": {},
   "outputs": [],
   "source": [
    "df6.drop(df6[(df6['tidalvolume'] > 2000)|(df6['tidalvolume'] < 100)].index, inplace = True) "
   ]
  },
  {
   "cell_type": "code",
   "execution_count": null,
   "metadata": {},
   "outputs": [],
   "source": [
    "df6.drop(df6[df6['weight'] < 50].index, inplace = True)"
   ]
  },
  {
   "cell_type": "code",
   "execution_count": null,
   "metadata": {},
   "outputs": [],
   "source": [
    "df6['admission_type'].value_counts()"
   ]
  },
  {
   "cell_type": "code",
   "execution_count": null,
   "metadata": {},
   "outputs": [],
   "source": [
    "df6.drop(df6.loc[df6['admission_type']=='DIRECT OBSERVATION'].index, inplace=True)\n",
    "df6.drop(df6.loc[df6['admission_type']=='EU OBSERVATION'].index, inplace=True)\n",
    "df6.drop(df6.loc[df6['admission_type']=='SURGICAL SAME DAY ADMISSION'].index, inplace=True)"
   ]
  },
  {
   "cell_type": "code",
   "execution_count": null,
   "metadata": {},
   "outputs": [],
   "source": [
    "df6.reset_index(inplace=True)"
   ]
  },
  {
   "cell_type": "code",
   "execution_count": null,
   "metadata": {},
   "outputs": [],
   "source": [
    "df6.drop('index',axis=1,inplace=True)"
   ]
  },
  {
   "cell_type": "code",
   "execution_count": null,
   "metadata": {},
   "outputs": [],
   "source": [
    "df6"
   ]
  },
  {
   "cell_type": "code",
   "execution_count": null,
   "metadata": {},
   "outputs": [],
   "source": [
    "df6.to_feather('../data/processed/clean_ft_table_labs')"
   ]
  },
  {
   "cell_type": "code",
   "execution_count": null,
   "metadata": {},
   "outputs": [],
   "source": [
    "#adm_type=pd.get_dummies(df6['admission_type'],drop_first=True,prefix='adm_type')"
   ]
  },
  {
   "cell_type": "markdown",
   "metadata": {},
   "source": [
    "don't include ethnicity in model (yet), also don't include admission location in model"
   ]
  },
  {
   "cell_type": "code",
   "execution_count": null,
   "metadata": {},
   "outputs": [],
   "source": []
  },
  {
   "cell_type": "code",
   "execution_count": null,
   "metadata": {},
   "outputs": [],
   "source": []
  },
  {
   "cell_type": "code",
   "execution_count": null,
   "metadata": {},
   "outputs": [],
   "source": [
    "#gender =pd.get_dummies(df6['gender'],drop_first=True,prefix = 'gender')"
   ]
  },
  {
   "cell_type": "code",
   "execution_count": null,
   "metadata": {},
   "outputs": [],
   "source": [
    "#df_for_model = pd.concat([df6,adm_type,gender],axis=1)"
   ]
  },
  {
   "cell_type": "code",
   "execution_count": null,
   "metadata": {},
   "outputs": [],
   "source": [
    "#df_for_model.drop(['hadm_id','admission_type','admission_location','ethnicity','gender'],axis=1,inplace=True)"
   ]
  },
  {
   "cell_type": "code",
   "execution_count": null,
   "metadata": {},
   "outputs": [],
   "source": [
    "#df_for_model"
   ]
  },
  {
   "cell_type": "code",
   "execution_count": null,
   "metadata": {},
   "outputs": [],
   "source": [
    "#df_for_model.to_csv('clean_ft_table.csv',index=False)"
   ]
  }
 ],
 "metadata": {
  "kernelspec": {
   "display_name": "Python 3",
   "language": "python",
   "name": "python3"
  },
  "language_info": {
   "codemirror_mode": {
    "name": "ipython",
    "version": 3
   },
   "file_extension": ".py",
   "mimetype": "text/x-python",
   "name": "python",
   "nbconvert_exporter": "python",
   "pygments_lexer": "ipython3",
   "version": "3.8.5"
  }
 },
 "nbformat": 4,
 "nbformat_minor": 4
}
