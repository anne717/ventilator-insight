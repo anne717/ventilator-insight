{
 "cells": [
  {
   "cell_type": "markdown",
   "metadata": {},
   "source": [
    "## logistic regression model\n",
    "\n",
    "#### import libraries"
   ]
  },
  {
   "cell_type": "code",
   "execution_count": 1,
   "metadata": {},
   "outputs": [],
   "source": [
    "import pandas as pd\n",
    "import numpy as np\n",
    "import seaborn as sns\n",
    "import matplotlib.pyplot as plt"
   ]
  },
  {
   "cell_type": "markdown",
   "metadata": {},
   "source": [
    "#### load cleaned feature data table"
   ]
  },
  {
   "cell_type": "code",
   "execution_count": 2,
   "metadata": {},
   "outputs": [],
   "source": [
    "df = pd.read_feather('../data/processed/df_to_model_copd')"
   ]
  },
  {
   "cell_type": "code",
   "execution_count": 3,
   "metadata": {},
   "outputs": [
    {
     "data": {
      "text/plain": [
       "Index(['time_on_vent', 'anchor_age', 'spontrr', 'heartrate', 'std_spontrr',\n",
       "       'weight', 'sodium', 'abg_po2', 'abg_ph', 'hco3', 'abg_pco2',\n",
       "       'bloodpressure', 'std_pulseox', 'std_heartrate', 'creatinine', 'bun',\n",
       "       'height', 'lactic_acid', 'hemoglobin', 'wbg', 'tidalvolume', 'temp',\n",
       "       'std_bloodpressure', 'tidal_weight', 'bmi', 'pulseox', 're_intub_class',\n",
       "       'gender', 'admission_type'],\n",
       "      dtype='object')"
      ]
     },
     "execution_count": 3,
     "metadata": {},
     "output_type": "execute_result"
    }
   ],
   "source": [
    "df.columns"
   ]
  },
  {
   "cell_type": "code",
   "execution_count": 4,
   "metadata": {},
   "outputs": [],
   "source": [
    "df.drop(['admission_type','time_on_vent'],axis=1,inplace=True)"
   ]
  },
  {
   "cell_type": "code",
   "execution_count": 5,
   "metadata": {},
   "outputs": [
    {
     "data": {
      "text/html": [
       "<div>\n",
       "<style scoped>\n",
       "    .dataframe tbody tr th:only-of-type {\n",
       "        vertical-align: middle;\n",
       "    }\n",
       "\n",
       "    .dataframe tbody tr th {\n",
       "        vertical-align: top;\n",
       "    }\n",
       "\n",
       "    .dataframe thead th {\n",
       "        text-align: right;\n",
       "    }\n",
       "</style>\n",
       "<table border=\"1\" class=\"dataframe\">\n",
       "  <thead>\n",
       "    <tr style=\"text-align: right;\">\n",
       "      <th></th>\n",
       "      <th>anchor_age</th>\n",
       "      <th>spontrr</th>\n",
       "      <th>heartrate</th>\n",
       "      <th>std_spontrr</th>\n",
       "      <th>weight</th>\n",
       "      <th>sodium</th>\n",
       "      <th>abg_po2</th>\n",
       "      <th>abg_ph</th>\n",
       "      <th>hco3</th>\n",
       "      <th>abg_pco2</th>\n",
       "      <th>...</th>\n",
       "      <th>hemoglobin</th>\n",
       "      <th>wbg</th>\n",
       "      <th>tidalvolume</th>\n",
       "      <th>temp</th>\n",
       "      <th>std_bloodpressure</th>\n",
       "      <th>tidal_weight</th>\n",
       "      <th>bmi</th>\n",
       "      <th>pulseox</th>\n",
       "      <th>re_intub_class</th>\n",
       "      <th>gender</th>\n",
       "    </tr>\n",
       "  </thead>\n",
       "  <tbody>\n",
       "    <tr>\n",
       "      <th>0</th>\n",
       "      <td>4.110874</td>\n",
       "      <td>3.135494</td>\n",
       "      <td>4.828314</td>\n",
       "      <td>2.212708</td>\n",
       "      <td>4.949469</td>\n",
       "      <td>4.897840</td>\n",
       "      <td>4.262680</td>\n",
       "      <td>2.135349</td>\n",
       "      <td>3.367296</td>\n",
       "      <td>3.761200</td>\n",
       "      <td>...</td>\n",
       "      <td>2.292535</td>\n",
       "      <td>1.931521</td>\n",
       "      <td>6.135565</td>\n",
       "      <td>3.622858</td>\n",
       "      <td>2.991061</td>\n",
       "      <td>1.456405</td>\n",
       "      <td>2.971638</td>\n",
       "      <td>0.155719</td>\n",
       "      <td>0</td>\n",
       "      <td>M</td>\n",
       "    </tr>\n",
       "    <tr>\n",
       "      <th>1</th>\n",
       "      <td>4.356709</td>\n",
       "      <td>3.044522</td>\n",
       "      <td>4.574711</td>\n",
       "      <td>1.848287</td>\n",
       "      <td>4.890349</td>\n",
       "      <td>5.010635</td>\n",
       "      <td>4.867534</td>\n",
       "      <td>2.128232</td>\n",
       "      <td>3.401197</td>\n",
       "      <td>3.761200</td>\n",
       "      <td>...</td>\n",
       "      <td>2.370244</td>\n",
       "      <td>2.501436</td>\n",
       "      <td>6.144186</td>\n",
       "      <td>3.640506</td>\n",
       "      <td>2.605496</td>\n",
       "      <td>1.509115</td>\n",
       "      <td>3.077024</td>\n",
       "      <td>-0.143003</td>\n",
       "      <td>0</td>\n",
       "      <td>F</td>\n",
       "    </tr>\n",
       "    <tr>\n",
       "      <th>2</th>\n",
       "      <td>4.304065</td>\n",
       "      <td>3.332205</td>\n",
       "      <td>4.499810</td>\n",
       "      <td>1.833153</td>\n",
       "      <td>5.043425</td>\n",
       "      <td>4.905275</td>\n",
       "      <td>4.595120</td>\n",
       "      <td>2.122262</td>\n",
       "      <td>3.178054</td>\n",
       "      <td>3.828641</td>\n",
       "      <td>...</td>\n",
       "      <td>2.468100</td>\n",
       "      <td>0.470004</td>\n",
       "      <td>6.280396</td>\n",
       "      <td>3.601868</td>\n",
       "      <td>2.665651</td>\n",
       "      <td>1.495382</td>\n",
       "      <td>3.138509</td>\n",
       "      <td>0.469383</td>\n",
       "      <td>1</td>\n",
       "      <td>M</td>\n",
       "    </tr>\n",
       "    <tr>\n",
       "      <th>3</th>\n",
       "      <td>3.663562</td>\n",
       "      <td>2.833213</td>\n",
       "      <td>4.465908</td>\n",
       "      <td>1.980311</td>\n",
       "      <td>5.098646</td>\n",
       "      <td>4.955827</td>\n",
       "      <td>4.330733</td>\n",
       "      <td>2.115050</td>\n",
       "      <td>3.135494</td>\n",
       "      <td>3.761200</td>\n",
       "      <td>...</td>\n",
       "      <td>2.468100</td>\n",
       "      <td>3.058707</td>\n",
       "      <td>6.163315</td>\n",
       "      <td>3.628776</td>\n",
       "      <td>2.755563</td>\n",
       "      <td>1.363933</td>\n",
       "      <td>3.335940</td>\n",
       "      <td>-0.764086</td>\n",
       "      <td>0</td>\n",
       "      <td>F</td>\n",
       "    </tr>\n",
       "    <tr>\n",
       "      <th>4</th>\n",
       "      <td>4.110874</td>\n",
       "      <td>3.526361</td>\n",
       "      <td>4.653960</td>\n",
       "      <td>1.589264</td>\n",
       "      <td>5.071417</td>\n",
       "      <td>4.955827</td>\n",
       "      <td>4.394449</td>\n",
       "      <td>2.130610</td>\n",
       "      <td>3.135494</td>\n",
       "      <td>3.496508</td>\n",
       "      <td>...</td>\n",
       "      <td>2.442347</td>\n",
       "      <td>2.906901</td>\n",
       "      <td>5.961005</td>\n",
       "      <td>3.669243</td>\n",
       "      <td>1.478474</td>\n",
       "      <td>1.236396</td>\n",
       "      <td>3.403098</td>\n",
       "      <td>-0.143003</td>\n",
       "      <td>0</td>\n",
       "      <td>F</td>\n",
       "    </tr>\n",
       "    <tr>\n",
       "      <th>...</th>\n",
       "      <td>...</td>\n",
       "      <td>...</td>\n",
       "      <td>...</td>\n",
       "      <td>...</td>\n",
       "      <td>...</td>\n",
       "      <td>...</td>\n",
       "      <td>...</td>\n",
       "      <td>...</td>\n",
       "      <td>...</td>\n",
       "      <td>...</td>\n",
       "      <td>...</td>\n",
       "      <td>...</td>\n",
       "      <td>...</td>\n",
       "      <td>...</td>\n",
       "      <td>...</td>\n",
       "      <td>...</td>\n",
       "      <td>...</td>\n",
       "      <td>...</td>\n",
       "      <td>...</td>\n",
       "      <td>...</td>\n",
       "      <td>...</td>\n",
       "    </tr>\n",
       "    <tr>\n",
       "      <th>704</th>\n",
       "      <td>4.204693</td>\n",
       "      <td>2.944439</td>\n",
       "      <td>4.276666</td>\n",
       "      <td>1.405311</td>\n",
       "      <td>5.619676</td>\n",
       "      <td>5.017280</td>\n",
       "      <td>4.290459</td>\n",
       "      <td>2.124654</td>\n",
       "      <td>3.637586</td>\n",
       "      <td>4.127134</td>\n",
       "      <td>...</td>\n",
       "      <td>2.341806</td>\n",
       "      <td>2.251292</td>\n",
       "      <td>6.011267</td>\n",
       "      <td>3.634658</td>\n",
       "      <td>1.933442</td>\n",
       "      <td>0.908693</td>\n",
       "      <td>3.786020</td>\n",
       "      <td>5.199338</td>\n",
       "      <td>0</td>\n",
       "      <td>M</td>\n",
       "    </tr>\n",
       "    <tr>\n",
       "      <th>705</th>\n",
       "      <td>4.143135</td>\n",
       "      <td>2.833213</td>\n",
       "      <td>4.624973</td>\n",
       "      <td>1.941639</td>\n",
       "      <td>5.403128</td>\n",
       "      <td>4.897840</td>\n",
       "      <td>4.770685</td>\n",
       "      <td>2.118662</td>\n",
       "      <td>3.044522</td>\n",
       "      <td>3.850148</td>\n",
       "      <td>...</td>\n",
       "      <td>2.163323</td>\n",
       "      <td>3.310543</td>\n",
       "      <td>6.315358</td>\n",
       "      <td>3.636123</td>\n",
       "      <td>1.230260</td>\n",
       "      <td>1.251793</td>\n",
       "      <td>3.380260</td>\n",
       "      <td>-0.436868</td>\n",
       "      <td>0</td>\n",
       "      <td>M</td>\n",
       "    </tr>\n",
       "    <tr>\n",
       "      <th>706</th>\n",
       "      <td>4.356709</td>\n",
       "      <td>2.772589</td>\n",
       "      <td>4.488636</td>\n",
       "      <td>1.905745</td>\n",
       "      <td>5.031744</td>\n",
       "      <td>4.976734</td>\n",
       "      <td>5.379897</td>\n",
       "      <td>2.111425</td>\n",
       "      <td>3.401197</td>\n",
       "      <td>4.204693</td>\n",
       "      <td>...</td>\n",
       "      <td>2.208274</td>\n",
       "      <td>2.785011</td>\n",
       "      <td>5.880533</td>\n",
       "      <td>3.686098</td>\n",
       "      <td>2.019496</td>\n",
       "      <td>1.207645</td>\n",
       "      <td>3.427497</td>\n",
       "      <td>0.469383</td>\n",
       "      <td>0</td>\n",
       "      <td>F</td>\n",
       "    </tr>\n",
       "    <tr>\n",
       "      <th>707</th>\n",
       "      <td>4.248495</td>\n",
       "      <td>2.890372</td>\n",
       "      <td>4.477337</td>\n",
       "      <td>1.301786</td>\n",
       "      <td>5.015954</td>\n",
       "      <td>4.976734</td>\n",
       "      <td>4.248495</td>\n",
       "      <td>2.122262</td>\n",
       "      <td>3.663562</td>\n",
       "      <td>4.189655</td>\n",
       "      <td>...</td>\n",
       "      <td>2.151762</td>\n",
       "      <td>2.388763</td>\n",
       "      <td>6.639876</td>\n",
       "      <td>3.637586</td>\n",
       "      <td>1.784479</td>\n",
       "      <td>1.808311</td>\n",
       "      <td>3.223819</td>\n",
       "      <td>5.199338</td>\n",
       "      <td>0</td>\n",
       "      <td>M</td>\n",
       "    </tr>\n",
       "    <tr>\n",
       "      <th>708</th>\n",
       "      <td>4.276666</td>\n",
       "      <td>3.218876</td>\n",
       "      <td>4.442651</td>\n",
       "      <td>1.188521</td>\n",
       "      <td>5.596197</td>\n",
       "      <td>4.976734</td>\n",
       "      <td>4.499810</td>\n",
       "      <td>2.122262</td>\n",
       "      <td>3.091042</td>\n",
       "      <td>3.688879</td>\n",
       "      <td>...</td>\n",
       "      <td>2.091864</td>\n",
       "      <td>2.772589</td>\n",
       "      <td>6.165418</td>\n",
       "      <td>3.641963</td>\n",
       "      <td>2.339267</td>\n",
       "      <td>1.018756</td>\n",
       "      <td>3.848898</td>\n",
       "      <td>5.199338</td>\n",
       "      <td>0</td>\n",
       "      <td>F</td>\n",
       "    </tr>\n",
       "  </tbody>\n",
       "</table>\n",
       "<p>709 rows × 27 columns</p>\n",
       "</div>"
      ],
      "text/plain": [
       "     anchor_age   spontrr  heartrate  std_spontrr    weight    sodium  \\\n",
       "0      4.110874  3.135494   4.828314     2.212708  4.949469  4.897840   \n",
       "1      4.356709  3.044522   4.574711     1.848287  4.890349  5.010635   \n",
       "2      4.304065  3.332205   4.499810     1.833153  5.043425  4.905275   \n",
       "3      3.663562  2.833213   4.465908     1.980311  5.098646  4.955827   \n",
       "4      4.110874  3.526361   4.653960     1.589264  5.071417  4.955827   \n",
       "..          ...       ...        ...          ...       ...       ...   \n",
       "704    4.204693  2.944439   4.276666     1.405311  5.619676  5.017280   \n",
       "705    4.143135  2.833213   4.624973     1.941639  5.403128  4.897840   \n",
       "706    4.356709  2.772589   4.488636     1.905745  5.031744  4.976734   \n",
       "707    4.248495  2.890372   4.477337     1.301786  5.015954  4.976734   \n",
       "708    4.276666  3.218876   4.442651     1.188521  5.596197  4.976734   \n",
       "\n",
       "      abg_po2    abg_ph      hco3  abg_pco2  ...  hemoglobin       wbg  \\\n",
       "0    4.262680  2.135349  3.367296  3.761200  ...    2.292535  1.931521   \n",
       "1    4.867534  2.128232  3.401197  3.761200  ...    2.370244  2.501436   \n",
       "2    4.595120  2.122262  3.178054  3.828641  ...    2.468100  0.470004   \n",
       "3    4.330733  2.115050  3.135494  3.761200  ...    2.468100  3.058707   \n",
       "4    4.394449  2.130610  3.135494  3.496508  ...    2.442347  2.906901   \n",
       "..        ...       ...       ...       ...  ...         ...       ...   \n",
       "704  4.290459  2.124654  3.637586  4.127134  ...    2.341806  2.251292   \n",
       "705  4.770685  2.118662  3.044522  3.850148  ...    2.163323  3.310543   \n",
       "706  5.379897  2.111425  3.401197  4.204693  ...    2.208274  2.785011   \n",
       "707  4.248495  2.122262  3.663562  4.189655  ...    2.151762  2.388763   \n",
       "708  4.499810  2.122262  3.091042  3.688879  ...    2.091864  2.772589   \n",
       "\n",
       "     tidalvolume      temp  std_bloodpressure  tidal_weight       bmi  \\\n",
       "0       6.135565  3.622858           2.991061      1.456405  2.971638   \n",
       "1       6.144186  3.640506           2.605496      1.509115  3.077024   \n",
       "2       6.280396  3.601868           2.665651      1.495382  3.138509   \n",
       "3       6.163315  3.628776           2.755563      1.363933  3.335940   \n",
       "4       5.961005  3.669243           1.478474      1.236396  3.403098   \n",
       "..           ...       ...                ...           ...       ...   \n",
       "704     6.011267  3.634658           1.933442      0.908693  3.786020   \n",
       "705     6.315358  3.636123           1.230260      1.251793  3.380260   \n",
       "706     5.880533  3.686098           2.019496      1.207645  3.427497   \n",
       "707     6.639876  3.637586           1.784479      1.808311  3.223819   \n",
       "708     6.165418  3.641963           2.339267      1.018756  3.848898   \n",
       "\n",
       "      pulseox  re_intub_class  gender  \n",
       "0    0.155719               0       M  \n",
       "1   -0.143003               0       F  \n",
       "2    0.469383               1       M  \n",
       "3   -0.764086               0       F  \n",
       "4   -0.143003               0       F  \n",
       "..        ...             ...     ...  \n",
       "704  5.199338               0       M  \n",
       "705 -0.436868               0       M  \n",
       "706  0.469383               0       F  \n",
       "707  5.199338               0       M  \n",
       "708  5.199338               0       F  \n",
       "\n",
       "[709 rows x 27 columns]"
      ]
     },
     "execution_count": 5,
     "metadata": {},
     "output_type": "execute_result"
    }
   ],
   "source": [
    "df"
   ]
  },
  {
   "cell_type": "markdown",
   "metadata": {},
   "source": [
    "## Handle categoricals"
   ]
  },
  {
   "cell_type": "code",
   "execution_count": 6,
   "metadata": {},
   "outputs": [],
   "source": [
    "X = df[df.columns.drop(['re_intub_class'])]\n",
    "y = df['re_intub_class']"
   ]
  },
  {
   "cell_type": "code",
   "execution_count": 7,
   "metadata": {},
   "outputs": [],
   "source": [
    "# Import libraries \n",
    "from sklearn.compose import ColumnTransformer\n",
    "from sklearn.impute import SimpleImputer\n",
    "from sklearn.pipeline import Pipeline\n",
    "from sklearn.model_selection import GridSearchCV\n",
    "from sklearn.preprocessing import StandardScaler, OneHotEncoder\n",
    "from sklearn.model_selection import train_test_split\n",
    "from sklearn.linear_model import LogisticRegression\n",
    "import imblearn\n",
    "from imblearn.over_sampling import SMOTE\n",
    "from sklearn.metrics import classification_report, confusion_matrix, roc_curve, roc_auc_score\n",
    "from sklearn.ensemble import RandomForestClassifier\n",
    "from sklearn.svm import SVC"
   ]
  },
  {
   "cell_type": "code",
   "execution_count": 8,
   "metadata": {},
   "outputs": [],
   "source": [
    "numeric_features  = df[df.columns.drop(['gender','re_intub_class'])].columns\n",
    "numeric_transformer = Pipeline(steps=[\n",
    "   # ('imputer', SimpleImputer(strategy='median')),\n",
    "    ('scaler', StandardScaler())])\n",
    "\n",
    "categorical_features = df[['gender']].columns\n",
    "categorical_transformer = Pipeline(steps=[\n",
    "   # ('imputer', SimpleImputer(strategy='constant', fill_value='missing')),\n",
    "    ('onehot', OneHotEncoder())])\n",
    "\n",
    "preprocessor = ColumnTransformer(\n",
    "    transformers=[\n",
    "        ('num', numeric_transformer, numeric_features),\n",
    "        ('cat', categorical_transformer, categorical_features)])\n",
    "\n",
    "#The order of the columns in the transformed feature matrix follows the order \n",
    "#of how the columns are specified in the transformers list. Columns of the original \n",
    "#feature matrix that are not specified are dropped from the resulting transformed feature matrix,\n",
    "#unless specified in the passthrough keyword. Those columns specified with passthrough \n",
    "#are added at the right to the output of the transformers."
   ]
  },
  {
   "cell_type": "code",
   "execution_count": 9,
   "metadata": {},
   "outputs": [],
   "source": [
    "X_train, X_test, y_train, y_test = train_test_split(X, y, test_size=0.2,random_state = 101)"
   ]
  },
  {
   "cell_type": "code",
   "execution_count": 10,
   "metadata": {},
   "outputs": [],
   "source": [
    "numeric_feature_names = preprocessor.transformers[0][2]"
   ]
  },
  {
   "cell_type": "code",
   "execution_count": 11,
   "metadata": {},
   "outputs": [],
   "source": [
    "training_data = X_train.copy()\n",
    "training_data.reset_index(inplace=True)\n",
    "training_data.drop('index',axis=1,inplace=True)"
   ]
  },
  {
   "cell_type": "code",
   "execution_count": 12,
   "metadata": {},
   "outputs": [],
   "source": [
    "training_data.to_feather(\"strip_train_data\")"
   ]
  },
  {
   "cell_type": "code",
   "execution_count": 13,
   "metadata": {},
   "outputs": [],
   "source": [
    "scaled_train = preprocessor.fit_transform(X_train)"
   ]
  },
  {
   "cell_type": "code",
   "execution_count": 14,
   "metadata": {},
   "outputs": [],
   "source": [
    "categs= preprocessor.named_transformers_['cat']['onehot']\n",
    "onehot_features = categs.get_feature_names()\n",
    "numeric_feature_names = preprocessor.transformers[0][2]\n",
    "feature_names = np.concatenate((numeric_feature_names.tolist(),onehot_features))"
   ]
  },
  {
   "cell_type": "code",
   "execution_count": 15,
   "metadata": {},
   "outputs": [
    {
     "data": {
      "text/plain": [
       "array(['anchor_age', 'spontrr', 'heartrate', 'std_spontrr', 'weight',\n",
       "       'sodium', 'abg_po2', 'abg_ph', 'hco3', 'abg_pco2', 'bloodpressure',\n",
       "       'std_pulseox', 'std_heartrate', 'creatinine', 'bun', 'height',\n",
       "       'lactic_acid', 'hemoglobin', 'wbg', 'tidalvolume', 'temp',\n",
       "       'std_bloodpressure', 'tidal_weight', 'bmi', 'pulseox', 'x0_F',\n",
       "       'x0_M'], dtype=object)"
      ]
     },
     "execution_count": 15,
     "metadata": {},
     "output_type": "execute_result"
    }
   ],
   "source": [
    "feature_names"
   ]
  },
  {
   "cell_type": "code",
   "execution_count": 16,
   "metadata": {},
   "outputs": [],
   "source": [
    "scaled_test = preprocessor.transform(X_test) "
   ]
  },
  {
   "cell_type": "code",
   "execution_count": 17,
   "metadata": {},
   "outputs": [],
   "source": [
    "oversample = SMOTE(random_state = 101)\n",
    "X_smote, y_smote = oversample.fit_resample(scaled_train, y_train)"
   ]
  },
  {
   "cell_type": "code",
   "execution_count": 18,
   "metadata": {},
   "outputs": [],
   "source": [
    "from imblearn.under_sampling import RandomUnderSampler"
   ]
  },
  {
   "cell_type": "code",
   "execution_count": 19,
   "metadata": {},
   "outputs": [],
   "source": [
    "#smote = RandomUnderSampler(random_state = 101, replacement = True)\n",
    "#X_smote, y_smote= smote.fit_resample(scaled_train, y_train)"
   ]
  },
  {
   "cell_type": "code",
   "execution_count": 20,
   "metadata": {},
   "outputs": [],
   "source": [
    "w = {0:90, 1:10}\n",
    "w1 = {0:80, 1:20}\n",
    "w2 = {0:70, 1:30}\n",
    "w3 = {0:60, 1:40}\n",
    "\n",
    "param_grid = [\n",
    "    {'penalty' : ['l1', 'l2'],\n",
    "    'C' : np.logspace(-4, 4, 20),\n",
    "    'solver' : ['liblinear'],\n",
    "    'max_iter' : [1000],\n",
    "    'class_weight': [w,w1,w2,w3]}]\n",
    "\n",
    "rfc_param_grid=[\n",
    "    {'n_estimators' : list(range(10,101,10)),\n",
    "    'max_features' : list(range(4,28,4)),\n",
    "    'class_weight' :[w,w1,w2,w3]}]\n",
    "\n",
    "svc_param_grid ={ 'kernel':('linear', 'rbf'), \n",
    "                 'C': [0.1,1, 10, 100, 1000], \n",
    "                 'gamma': [1,0.1,0.01,0.001,0.0001]}"
   ]
  },
  {
   "cell_type": "code",
   "execution_count": 21,
   "metadata": {
    "scrolled": true
   },
   "outputs": [
    {
     "data": {
      "text/plain": [
       "GridSearchCV(estimator=LogisticRegression(),\n",
       "             param_grid=[{'C': array([1.00000000e-04, 2.63665090e-04, 6.95192796e-04, 1.83298071e-03,\n",
       "       4.83293024e-03, 1.27427499e-02, 3.35981829e-02, 8.85866790e-02,\n",
       "       2.33572147e-01, 6.15848211e-01, 1.62377674e+00, 4.28133240e+00,\n",
       "       1.12883789e+01, 2.97635144e+01, 7.84759970e+01, 2.06913808e+02,\n",
       "       5.45559478e+02, 1.43844989e+03, 3.79269019e+03, 1.00000000e+04]),\n",
       "                          'class_weight': [{0: 90, 1: 10}, {0: 80, 1: 20},\n",
       "                                           {0: 70, 1: 30}, {0: 60, 1: 40}],\n",
       "                          'max_iter': [1000], 'penalty': ['l1', 'l2'],\n",
       "                          'solver': ['liblinear']}])"
      ]
     },
     "execution_count": 21,
     "metadata": {},
     "output_type": "execute_result"
    }
   ],
   "source": [
    "clf = GridSearchCV(LogisticRegression(), param_grid,refit=True)\n",
    "clf.fit(X_smote,y_smote)"
   ]
  },
  {
   "cell_type": "code",
   "execution_count": null,
   "metadata": {},
   "outputs": [],
   "source": []
  },
  {
   "cell_type": "code",
   "execution_count": 22,
   "metadata": {},
   "outputs": [],
   "source": [
    "import statsmodels.api as sm"
   ]
  },
  {
   "cell_type": "code",
   "execution_count": 23,
   "metadata": {},
   "outputs": [
    {
     "name": "stdout",
     "output_type": "stream",
     "text": [
      "Optimization terminated successfully.\n",
      "         Current function value: 0.566629\n",
      "         Iterations 6\n",
      "                           Logit Regression Results                           \n",
      "==============================================================================\n",
      "Dep. Variable:         re_intub_class   No. Observations:                 1028\n",
      "Model:                          Logit   Df Residuals:                     1001\n",
      "Method:                           MLE   Df Model:                           26\n",
      "Date:                Fri, 09 Oct 2020   Pseudo R-squ.:                  0.1825\n",
      "Time:                        09:16:55   Log-Likelihood:                -582.49\n",
      "converged:                       True   LL-Null:                       -712.56\n",
      "Covariance Type:            nonrobust   LLR p-value:                 1.763e-40\n",
      "==============================================================================\n",
      "                 coef    std err          z      P>|z|      [0.025      0.975]\n",
      "------------------------------------------------------------------------------\n",
      "x1             0.0975      0.088      1.107      0.268      -0.075       0.270\n",
      "x2            -0.1324      0.089     -1.486      0.137      -0.307       0.042\n",
      "x3             0.0593      0.090      0.657      0.511      -0.118       0.236\n",
      "x4             0.0458      0.078      0.584      0.559      -0.108       0.200\n",
      "x5            62.6885     23.195      2.703      0.007      17.227     108.150\n",
      "x6             0.1444      0.096      1.510      0.131      -0.043       0.332\n",
      "x7            -0.1148      0.084     -1.374      0.169      -0.279       0.049\n",
      "x8             0.1734      0.135      1.285      0.199      -0.091       0.438\n",
      "x9            -0.6647      0.160     -4.142      0.000      -0.979      -0.350\n",
      "x10            0.3666      0.175      2.092      0.036       0.023       0.710\n",
      "x11            0.2826      0.092      3.072      0.002       0.102       0.463\n",
      "x12           -0.0011      0.096     -0.011      0.991      -0.189       0.187\n",
      "x13           -0.0176      0.092     -0.190      0.849      -0.198       0.163\n",
      "x14           -0.8832      0.151     -5.834      0.000      -1.180      -0.586\n",
      "x15            0.7654      0.139      5.494      0.000       0.492       1.038\n",
      "x16          -24.4169      9.295     -2.627      0.009     -42.635      -6.199\n",
      "x17           -0.2684      0.100     -2.671      0.008      -0.465      -0.071\n",
      "x18           -0.7224      0.093     -7.738      0.000      -0.905      -0.539\n",
      "x19            0.7181      0.095      7.594      0.000       0.533       0.903\n",
      "x20           -1.4039      0.791     -1.775      0.076      -2.954       0.146\n",
      "x21            0.2828      0.090      3.156      0.002       0.107       0.458\n",
      "x22           -0.1121      0.097     -1.156      0.248      -0.302       0.078\n",
      "x23            1.6025      1.022      1.569      0.117      -0.400       3.605\n",
      "x24          -57.5114     21.319     -2.698      0.007     -99.296     -15.727\n",
      "x25           -0.3982      0.105     -3.776      0.000      -0.605      -0.192\n",
      "x26           -0.6028      0.160     -3.761      0.000      -0.917      -0.289\n",
      "x27           -0.4809      0.137     -3.499      0.000      -0.750      -0.212\n",
      "==============================================================================\n"
     ]
    }
   ],
   "source": [
    "logit_model=sm.Logit(y_smote,X_smote)\n",
    "result=logit_model.fit()\n",
    "print(result.summary(alpha = 0.05))"
   ]
  },
  {
   "cell_type": "code",
   "execution_count": 24,
   "metadata": {},
   "outputs": [
    {
     "data": {
      "text/plain": [
       "x1      0.097500\n",
       "x2     -0.132439\n",
       "x3      0.059289\n",
       "x4      0.045802\n",
       "x5     62.688469\n",
       "x6      0.144377\n",
       "x7     -0.114827\n",
       "x8      0.173391\n",
       "x9     -0.664692\n",
       "x10     0.366629\n",
       "x11     0.282616\n",
       "x12    -0.001068\n",
       "x13    -0.017559\n",
       "x14    -0.883194\n",
       "x15     0.765365\n",
       "x16   -24.416876\n",
       "x17    -0.268385\n",
       "x18    -0.722404\n",
       "x19     0.718089\n",
       "x20    -1.403918\n",
       "x21     0.282844\n",
       "x22    -0.112095\n",
       "x23     1.602505\n",
       "x24   -57.511424\n",
       "x25    -0.398201\n",
       "x26    -0.602777\n",
       "x27    -0.480911\n",
       "dtype: float64"
      ]
     },
     "execution_count": 24,
     "metadata": {},
     "output_type": "execute_result"
    }
   ],
   "source": [
    "result.params"
   ]
  },
  {
   "cell_type": "code",
   "execution_count": 25,
   "metadata": {},
   "outputs": [
    {
     "data": {
      "text/plain": [
       "array([[ 0.10110337, -0.09953724,  0.05400755,  0.04690541,  0.        ,\n",
       "         0.11626648, -0.10435717,  0.03293629, -0.45668988,  0.16014826,\n",
       "         0.26707993,  0.00093359, -0.02447736, -0.709747  ,  0.63046623,\n",
       "         0.51078704, -0.23498806, -0.65468661,  0.59589923, -0.10414655,\n",
       "         0.249077  , -0.09818519,  0.        , -0.1259068 , -0.33471311,\n",
       "        -0.08937102,  0.        ]])"
      ]
     },
     "execution_count": 25,
     "metadata": {},
     "output_type": "execute_result"
    }
   ],
   "source": [
    "clf.best_estimator_.coef_"
   ]
  },
  {
   "cell_type": "code",
   "execution_count": 26,
   "metadata": {},
   "outputs": [
    {
     "data": {
      "text/plain": [
       "LogisticRegression(C=0.012742749857031334, class_weight={0: 60, 1: 40},\n",
       "                   max_iter=1000, penalty='l1', solver='liblinear')"
      ]
     },
     "execution_count": 26,
     "metadata": {},
     "output_type": "execute_result"
    }
   ],
   "source": [
    "clf.best_estimator_"
   ]
  },
  {
   "cell_type": "code",
   "execution_count": 27,
   "metadata": {},
   "outputs": [
    {
     "name": "stdout",
     "output_type": "stream",
     "text": [
      "              precision    recall  f1-score   support\n",
      "\n",
      "           0       0.91      0.77      0.83       124\n",
      "           1       0.22      0.44      0.30        18\n",
      "\n",
      "    accuracy                           0.73       142\n",
      "   macro avg       0.56      0.61      0.57       142\n",
      "weighted avg       0.82      0.73      0.77       142\n",
      "\n",
      "[[96 28]\n",
      " [10  8]]\n"
     ]
    },
    {
     "data": {
      "text/plain": [
       "(96, 28, 10, 8)"
      ]
     },
     "execution_count": 27,
     "metadata": {},
     "output_type": "execute_result"
    }
   ],
   "source": [
    "predictions = clf.predict(scaled_test)\n",
    "print(classification_report(y_test,predictions))\n",
    "print(confusion_matrix(y_test,predictions))\n",
    "tn, fp, fn, tp = confusion_matrix(y_test,predictions).ravel()\n",
    "tn, fp, fn, tp"
   ]
  },
  {
   "cell_type": "code",
   "execution_count": 28,
   "metadata": {},
   "outputs": [
    {
     "data": {
      "text/plain": [
       "array([[-0.30435035, -1.33789438],\n",
       "       [-1.43644762, -0.27150813],\n",
       "       [-0.56193844, -0.84420936],\n",
       "       [-0.36043059, -1.1952641 ],\n",
       "       [-0.0502146 , -3.01645177],\n",
       "       [-0.59521106, -0.80172657],\n",
       "       [-0.83013334, -0.57268533],\n",
       "       [-1.46444285, -0.26293323],\n",
       "       [-0.29334288, -1.36950171],\n",
       "       [-1.35070251, -0.29983321],\n",
       "       [-0.25391455, -1.49502984],\n",
       "       [-0.23767998, -1.55331742],\n",
       "       [-0.10061124, -2.3463752 ],\n",
       "       [-0.09595066, -2.39151293],\n",
       "       [-1.06617329, -0.42208795],\n",
       "       [-0.03847757, -3.27685699],\n",
       "       [-0.18740748, -1.76671076],\n",
       "       [-0.24370253, -1.5311848 ],\n",
       "       [-0.03052232, -3.50451941],\n",
       "       [-0.02348701, -3.76302842],\n",
       "       [-0.99445031, -0.46191917],\n",
       "       [-0.1490582 , -1.97702197],\n",
       "       [-0.57977642, -0.8210341 ],\n",
       "       [-0.19590094, -1.7264981 ],\n",
       "       [-0.40302214, -1.10351621],\n",
       "       [-0.55723029, -0.8504874 ],\n",
       "       [-0.19795682, -1.71705251],\n",
       "       [-0.02534518, -3.68781265],\n",
       "       [-0.09400682, -2.41102319],\n",
       "       [-0.34012997, -1.24367673],\n",
       "       [-0.38998387, -1.13031286],\n",
       "       [-0.49462564, -0.94109366],\n",
       "       [-0.84645256, -0.56025023],\n",
       "       [-0.72994404, -0.65765641],\n",
       "       [-1.73241047, -0.19462605],\n",
       "       [-0.11862933, -2.19047986],\n",
       "       [-0.11073171, -2.25550005],\n",
       "       [-0.18082723, -1.79926481],\n",
       "       [-0.11865505, -2.19027572],\n",
       "       [-0.10636576, -2.29358306],\n",
       "       [-0.37599444, -1.16029458],\n",
       "       [-0.47111407, -0.97898126],\n",
       "       [-0.68770298, -0.69862119],\n",
       "       [-0.25888028, -1.47803879],\n",
       "       [-0.82537429, -0.57637976],\n",
       "       [-3.38104838, -0.03460364],\n",
       "       [-0.96232999, -0.48126971],\n",
       "       [-0.27538924, -1.42410642],\n",
       "       [-1.36766291, -0.2939705 ],\n",
       "       [-0.25963217, -1.47549835],\n",
       "       [-0.01044832, -4.56653341],\n",
       "       [-0.68724614, -0.69908325],\n",
       "       [-0.78600466, -0.60818433],\n",
       "       [-0.69441825, -0.69187772],\n",
       "       [-0.31382348, -1.31173616],\n",
       "       [-0.07686472, -2.60389453],\n",
       "       [-0.24072325, -1.54205566],\n",
       "       [-1.06414415, -0.42315518],\n",
       "       [-0.31129086, -1.31863867],\n",
       "       [-0.15133897, -1.96294845],\n",
       "       [-0.24879902, -1.51293149],\n",
       "       [-0.17839383, -1.81163289],\n",
       "       [-0.14053205, -2.03176295],\n",
       "       [-0.22107629, -1.61774996],\n",
       "       [-1.41106612, -0.27955933],\n",
       "       [-0.42030831, -1.06957093],\n",
       "       [-0.35087096, -1.21764789],\n",
       "       [-0.17739329, -1.81677186],\n",
       "       [-0.07399509, -2.64052589],\n",
       "       [-0.34116592, -1.24112425],\n",
       "       [-0.65030916, -0.73790274],\n",
       "       [-1.96235182, -0.15143649],\n",
       "       [-0.094163  , -2.40943999],\n",
       "       [-0.52588434, -0.89411949],\n",
       "       [-0.54678766, -0.8646621 ],\n",
       "       [-0.18519574, -1.77751119],\n",
       "       [-1.02271394, -0.44568983],\n",
       "       [-0.92951669, -0.50210451],\n",
       "       [-0.19999479, -1.70779531],\n",
       "       [-0.83419581, -0.56955622],\n",
       "       [-0.36860536, -1.17667653],\n",
       "       [-0.91225982, -0.51352195],\n",
       "       [-0.06811114, -2.72047684],\n",
       "       [-0.09618337, -2.389205  ],\n",
       "       [-0.36108514, -1.19375737],\n",
       "       [-1.35033847, -0.29996052],\n",
       "       [-0.52972317, -0.8885976 ],\n",
       "       [-0.43074157, -1.04989892],\n",
       "       [-0.02504883, -3.69942627],\n",
       "       [-1.81173884, -0.17837314],\n",
       "       [-0.08999496, -2.45266168],\n",
       "       [-0.02908292, -3.55211059],\n",
       "       [-0.04035606, -3.23012384],\n",
       "       [-0.02721557, -3.6175428 ],\n",
       "       [-0.5377001 , -0.87728652],\n",
       "       [-0.76624529, -0.62503035],\n",
       "       [-0.23610108, -1.55922424],\n",
       "       [-0.14237139, -2.01965749],\n",
       "       [-0.18042473, -1.80129796],\n",
       "       [-0.12082885, -2.17318636],\n",
       "       [-0.16174017, -1.90154443],\n",
       "       [-0.13618994, -2.06102704],\n",
       "       [-0.11662716, -2.20651999],\n",
       "       [-0.16472707, -1.88469847],\n",
       "       [-1.08167581, -0.41404214],\n",
       "       [-0.1653501 , -1.88122634],\n",
       "       [-0.46393778, -0.99102149],\n",
       "       [-0.57064276, -0.83278187],\n",
       "       [-0.14940916, -1.9748413 ],\n",
       "       [-1.27130138, -0.32915204],\n",
       "       [-0.47685452, -0.96951438],\n",
       "       [-1.41106612, -0.27955933],\n",
       "       [-0.14552001, -1.99931949],\n",
       "       [-1.26591668, -0.33125882],\n",
       "       [-0.15431887, -1.9449016 ],\n",
       "       [-1.43092693, -0.27323652],\n",
       "       [-2.27261581, -0.10874656],\n",
       "       [-0.90145648, -0.52083881],\n",
       "       [-0.17482489, -1.83010973],\n",
       "       [-0.2706893 , -1.43907709],\n",
       "       [-0.4873188 , -0.95262068],\n",
       "       [-0.16855455, -1.86358964],\n",
       "       [-1.00416685, -0.45625811],\n",
       "       [-0.09254372, -2.42598911],\n",
       "       [-0.53824964, -0.87651528],\n",
       "       [-0.12265744, -2.15906176],\n",
       "       [-0.83867134, -0.56613487],\n",
       "       [-0.36879351, -1.17625452],\n",
       "       [-0.0660622 , -2.75000784],\n",
       "       [-0.07619467, -2.61231919],\n",
       "       [-0.72635615, -0.66100569],\n",
       "       [-0.29011767, -1.37902296],\n",
       "       [-0.4365598 , -1.03918136],\n",
       "       [-0.29350691, -1.3690207 ],\n",
       "       [-0.19121881, -1.74842325],\n",
       "       [-0.25523338, -1.49048076],\n",
       "       [-0.21908033, -1.62585795],\n",
       "       [-0.31594168, -1.3060128 ],\n",
       "       [-0.22226521, -1.61295899],\n",
       "       [-1.23873467, -0.34213912],\n",
       "       [-0.16571566, -1.87919571],\n",
       "       [-0.08905496, -2.4626986 ]])"
      ]
     },
     "execution_count": 28,
     "metadata": {},
     "output_type": "execute_result"
    }
   ],
   "source": [
    "clf.predict_log_proba(scaled_test)"
   ]
  },
  {
   "cell_type": "code",
   "execution_count": 29,
   "metadata": {},
   "outputs": [
    {
     "name": "stdout",
     "output_type": "stream",
     "text": [
      "              precision    recall  f1-score   support\n",
      "\n",
      "           0       0.94      0.80      0.87       514\n",
      "           1       0.22      0.53      0.31        53\n",
      "\n",
      "    accuracy                           0.78       567\n",
      "   macro avg       0.58      0.67      0.59       567\n",
      "weighted avg       0.88      0.78      0.82       567\n",
      "\n",
      "[[413 101]\n",
      " [ 25  28]]\n"
     ]
    }
   ],
   "source": [
    "train_predictions = clf.predict(scaled_train)\n",
    "print(classification_report(y_train,train_predictions))\n",
    "print(confusion_matrix(y_train,train_predictions))"
   ]
  },
  {
   "cell_type": "code",
   "execution_count": 30,
   "metadata": {},
   "outputs": [],
   "source": [
    "probablities = clf.predict_proba(scaled_train)[:,1]"
   ]
  },
  {
   "cell_type": "code",
   "execution_count": 31,
   "metadata": {},
   "outputs": [],
   "source": [
    "logit = np.log(probablities/(1-probablities))"
   ]
  },
  {
   "cell_type": "code",
   "execution_count": 35,
   "metadata": {},
   "outputs": [
    {
     "data": {
      "text/plain": [
       "<matplotlib.collections.PathCollection at 0x7fe39c3bf5b0>"
      ]
     },
     "execution_count": 35,
     "metadata": {},
     "output_type": "execute_result"
    },
    {
     "data": {
      "image/png": "[encoded data removed]",
      "text/plain": [
       "<Figure size 432x288 with 1 Axes>"
      ]
     },
     "metadata": {
      "needs_background": "light"
     },
     "output_type": "display_data"
    }
   ],
   "source": [
    "plt.scatter(logit,scaled_train[:,26])"
   ]
  },
  {
   "cell_type": "code",
   "execution_count": 33,
   "metadata": {},
   "outputs": [
    {
     "data": {
      "image/png": "[encoded data removed]",
      "text/plain": [
       "<Figure size 432x288 with 1 Axes>"
      ]
     },
     "metadata": {
      "needs_background": "light"
     },
     "output_type": "display_data"
    }
   ],
   "source": [
    "y_pred_proba = clf.predict_proba(scaled_test)[::,1]\n",
    "fpr, tpr, _ = roc_curve(y_test,  y_pred_proba)\n",
    "auc = roc_auc_score(y_test, y_pred_proba)\n",
    "plt.plot(fpr,tpr,label=\"data 1, auc=\"+str(auc))\n",
    "plt.legend(loc=4)\n",
    "plt.show()"
   ]
  },
  {
   "cell_type": "code",
   "execution_count": 37,
   "metadata": {},
   "outputs": [],
   "source": [
    "np.savetxt('copd_fpr.txt',fpr)\n",
    "np.savetxt('copd_tpr.txt',tpr)"
   ]
  },
  {
   "cell_type": "markdown",
   "metadata": {},
   "source": [
    "#### Model explainability"
   ]
  },
  {
   "cell_type": "code",
   "execution_count": null,
   "metadata": {},
   "outputs": [],
   "source": [
    "import lime\n",
    "import lime.lime_tabular"
   ]
  },
  {
   "cell_type": "code",
   "execution_count": null,
   "metadata": {},
   "outputs": [],
   "source": [
    "X_test.reset_index(inplace=True)\n",
    "X_test.drop(['index'],axis=1,inplace=True)"
   ]
  },
  {
   "cell_type": "code",
   "execution_count": null,
   "metadata": {},
   "outputs": [],
   "source": [
    "X_test"
   ]
  },
  {
   "cell_type": "code",
   "execution_count": null,
   "metadata": {},
   "outputs": [],
   "source": [
    "explainer = lime.lime_tabular.LimeTabularExplainer(X_smote,  \n",
    "                              feature_names=feature_names,  \n",
    "                              #class_names=['re_intub_class'], \n",
    "                              #categorical_features=categorical_features ,\n",
    "                              verbose=True, \n",
    "                              mode='classification',\n",
    "                              discretize_continuous=True)"
   ]
  },
  {
   "cell_type": "code",
   "execution_count": null,
   "metadata": {},
   "outputs": [],
   "source": [
    "scaled_test[0,:]"
   ]
  },
  {
   "cell_type": "code",
   "execution_count": null,
   "metadata": {
    "scrolled": true
   },
   "outputs": [],
   "source": [
    "clf.predict(scaled_test[8,:].reshape(1,-1))\n",
    "explog = explainer.explain_instance(scaled_test[0,:], clf.predict_proba, num_features=5)\n",
    "explog.show_in_notebook(show_table=True)"
   ]
  },
  {
   "cell_type": "code",
   "execution_count": null,
   "metadata": {},
   "outputs": [],
   "source": [
    "x = explog.show_in_notebook(show_table=True)"
   ]
  },
  {
   "cell_type": "code",
   "execution_count": null,
   "metadata": {},
   "outputs": [],
   "source": [
    "explainer.feature_names"
   ]
  },
  {
   "cell_type": "code",
   "execution_count": null,
   "metadata": {},
   "outputs": [],
   "source": [
    "explog.as_list()"
   ]
  },
  {
   "cell_type": "code",
   "execution_count": null,
   "metadata": {},
   "outputs": [],
   "source": [
    "feature_list = explog.as_list()"
   ]
  },
  {
   "cell_type": "code",
   "execution_count": null,
   "metadata": {},
   "outputs": [],
   "source": [
    "salient_feature = feature_list[2][0].split(' ')"
   ]
  },
  {
   "cell_type": "code",
   "execution_count": null,
   "metadata": {},
   "outputs": [],
   "source": [
    "num_top_feats = len(feature_list)"
   ]
  },
  {
   "cell_type": "code",
   "execution_count": null,
   "metadata": {},
   "outputs": [],
   "source": [
    "j = 0\n",
    "for j in np.arange(num_top_feats):\n",
    "    salient_feature = feature_list[j][0].split(' ')\n",
    "    j = j+1\n",
    "    for i in salient_feature:\n",
    "        if i in feature_names:\n",
    "            print (i)"
   ]
  },
  {
   "cell_type": "code",
   "execution_count": null,
   "metadata": {},
   "outputs": [],
   "source": []
  },
  {
   "cell_type": "code",
   "execution_count": null,
   "metadata": {},
   "outputs": [],
   "source": []
  },
  {
   "cell_type": "markdown",
   "metadata": {},
   "source": [
    "#### 5. Evaulate model"
   ]
  },
  {
   "cell_type": "code",
   "execution_count": null,
   "metadata": {},
   "outputs": [],
   "source": [
    "from sklearn.metrics import classification_report, confusion_matrix"
   ]
  },
  {
   "cell_type": "code",
   "execution_count": null,
   "metadata": {},
   "outputs": [],
   "source": [
    "print(classification_report(y_test,predictions))"
   ]
  },
  {
   "cell_type": "code",
   "execution_count": null,
   "metadata": {},
   "outputs": [],
   "source": [
    "print(confusion_matrix(y_test,predictions))"
   ]
  },
  {
   "cell_type": "code",
   "execution_count": null,
   "metadata": {},
   "outputs": [],
   "source": [
    "import joblib"
   ]
  },
  {
   "cell_type": "code",
   "execution_count": null,
   "metadata": {},
   "outputs": [],
   "source": [
    "#joblib.dump(clf, \"reintubate_model_strip.sav\")"
   ]
  },
  {
   "cell_type": "code",
   "execution_count": null,
   "metadata": {},
   "outputs": [],
   "source": [
    "#joblib.dump(preprocessor, \"reintubate_preprocessor_strip.sav\")"
   ]
  },
  {
   "cell_type": "markdown",
   "metadata": {},
   "source": [
    "## Train model\n",
    "\n",
    "### perform train test split"
   ]
  },
  {
   "cell_type": "markdown",
   "metadata": {},
   "source": [
    "from sklearn.model_selection import train_test_split\n",
    "X_train, X_test, y_train, y_test = train_test_split(X, y, test_size=0.3, random_state=42)"
   ]
  },
  {
   "cell_type": "markdown",
   "metadata": {},
   "source": [
    "#### 3. SMOTE IT!"
   ]
  },
  {
   "cell_type": "markdown",
   "metadata": {},
   "source": [
    "from collections import Counter\n",
    "counter = Counter(y_train)\n",
    "print(counter)"
   ]
  },
  {
   "cell_type": "markdown",
   "metadata": {},
   "source": [
    "# transform the dataset\n",
    "oversample = SMOTE(random_state = 101)"
   ]
  },
  {
   "cell_type": "markdown",
   "metadata": {},
   "source": [
    "X_smote, y_smote = oversample.fit_resample(X_train, y_train)"
   ]
  },
  {
   "cell_type": "markdown",
   "metadata": {},
   "source": [
    "counter = Counter(y_smote)\n",
    "print(counter)"
   ]
  },
  {
   "cell_type": "markdown",
   "metadata": {},
   "source": [
    "#### 4. Do logistic regression model"
   ]
  },
  {
   "cell_type": "markdown",
   "metadata": {},
   "source": [
    "from sklearn.linear_model import LogisticRegression"
   ]
  },
  {
   "cell_type": "markdown",
   "metadata": {},
   "source": [
    "logmodel = LogisticRegression(max_iter=1000, C=0.0001)\n",
    "logmodel.fit(X_smote,y_smote)"
   ]
  },
  {
   "cell_type": "markdown",
   "metadata": {},
   "source": [
    "import pickle"
   ]
  },
  {
   "cell_type": "code",
   "execution_count": null,
   "metadata": {},
   "outputs": [],
   "source": [
    "# Save the model as a pickle in a file \n",
    "#pickle.dump(logmodel, open(\"reintubate_model_log\", 'wb')) "
   ]
  },
  {
   "cell_type": "code",
   "execution_count": null,
   "metadata": {},
   "outputs": [],
   "source": []
  },
  {
   "cell_type": "markdown",
   "metadata": {},
   "source": [
    "# We create the preprocessing pipelines for both numeric and categorical data.\n",
    "numeric_features  = df[df.columns.drop(['gender','admission_type','re_intub_class'])].columns\n",
    "#numeric_transformer = ('scaler', StandardScaler())\n",
    "numeric_transformer = make_column_transformer(\n",
    "    (StandardScaler(), numeric_features),\n",
    "    remainder='passthrough')\n",
    "\n",
    "\n",
    "categorical_features = df[['gender','admission_type']].columns\n",
    "#categorical_transformer =  ('onehot', OneHotEncoder(drop='first'))\n",
    "categorical_transformer = make_column_transformer(\n",
    "    (OneHotEncoder(drop='first'), categorical_features),\n",
    "    remainder='passthrough')\n",
    "\n",
    "#preprocessor = make_column_transformer(\n",
    " #   transformers=[\n",
    "  #      ('num', numeric_transformer, numeric_features),\n",
    "   #     ('cat', categorical_transformer, categorical_features)],\n",
    "#remainder ='passthrough')\n",
    "\n",
    "clf = Pipeline(steps=[('num', numeric_transformer),\n",
    "                      ('cat', categorical_transformer),\n",
    "                      ('classifier', LogisticRegression())])"
   ]
  },
  {
   "cell_type": "markdown",
   "metadata": {},
   "source": [
    "#### 2. Perform feature scaling\n",
    "\n",
    "Because the range of values in the features are not necessarily in the same order of magnitude, we will scale the feature data prior to training the model.\n",
    "\n",
    "* actually... they might not be far off! "
   ]
  },
  {
   "cell_type": "markdown",
   "metadata": {},
   "source": [
    "mask=['spontRR', 'stdABP', 'meanABP', 'stdSpontRR', 'pulseox', 'stdPulseox',\n",
    "       'temp', 'heartRate', 'stdHeartRate', 'weight', 'height', 'anchor_age',\n",
    "       'time_on_vent']"
   ]
  },
  {
   "cell_type": "markdown",
   "metadata": {},
   "source": [
    "X_traina = X_train.copy()\n",
    "X_testa = X_test.copy()"
   ]
  },
  {
   "cell_type": "markdown",
   "metadata": {},
   "source": [
    "from sklearn.preprocessing import StandardScaler\n",
    "scaler = StandardScaler()\n",
    "scaler.fit(X_train.loc[:,mask])\n",
    "X_traina.loc[:,mask] = scaler.transform(X_train.loc[:,mask])"
   ]
  },
  {
   "cell_type": "code",
   "execution_count": null,
   "metadata": {},
   "outputs": [],
   "source": []
  },
  {
   "cell_type": "markdown",
   "metadata": {},
   "source": [
    "#X_train = scaler.transform(X_train)\n",
    "X_testa.loc[:,mask] = scaler.transform(X_test.loc[:,mask])"
   ]
  }
 ],
 "metadata": {
  "kernelspec": {
   "display_name": "Python 3",
   "language": "python",
   "name": "python3"
  },
  "language_info": {
   "codemirror_mode": {
    "name": "ipython",
    "version": 3
   },
   "file_extension": ".py",
   "mimetype": "text/x-python",
   "name": "python",
   "nbconvert_exporter": "python",
   "pygments_lexer": "ipython3",
   "version": "3.8.5"
  }
 },
 "nbformat": 4,
 "nbformat_minor": 4
}
