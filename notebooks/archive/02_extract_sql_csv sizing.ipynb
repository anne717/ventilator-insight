{
 "cells": [
  {
   "cell_type": "markdown",
   "metadata": {},
   "source": [
    "## Use psycopg2 engine to extract charts events for patient data\n",
    "\n",
    "This script connects to the patient database 'extumate' and extracts chart events for the labelled patients identified by the field, hadm_id, in the table 'sample_vents'.\n",
    "\n",
    "The script utilizes the pandas chunksize argument in order to avoid memory issues.\n",
    "\n",
    "Finally, the data is stored with using `pd.DataFrame.to_feather` so it can be stored for future processing."
   ]
  },
  {
   "cell_type": "code",
   "execution_count": 2,
   "metadata": {},
   "outputs": [],
   "source": [
    "import sys\n",
    "sys.path.append(\"../extumate\")\n",
    "\n",
    "from sqlalchemy import create_engine\n",
    "from sqlalchemy_utils import database_exists, create_database\n",
    "import psycopg2\n",
    "import pandas as pd\n",
    "import seaborn as sns\n",
    "import matplotlib.pyplot as plt\n",
    "import psutil\n",
    "import os\n",
    "\n",
    "from extumate.config import data_dir, extumate_engine_url"
   ]
  },
  {
   "cell_type": "markdown",
   "metadata": {},
   "source": [
    "#### Set user-defined variables"
   ]
  },
  {
   "cell_type": "code",
   "execution_count": 3,
   "metadata": {},
   "outputs": [
    {
     "data": {
      "text/plain": [
       "'../data/feathered/'"
      ]
     },
     "execution_count": 3,
     "metadata": {},
     "output_type": "execute_result"
    }
   ],
   "source": [
    "data_dir"
   ]
  },
  {
   "cell_type": "code",
   "execution_count": 4,
   "metadata": {},
   "outputs": [
    {
     "data": {
      "text/plain": [
       "'../data/feathered/drugod'"
      ]
     },
     "execution_count": 4,
     "metadata": {},
     "output_type": "execute_result"
    }
   ],
   "source": [
    "export_name = \"drugod\"\n",
    "#feather_folder = \"../data/feathered/\"\n",
    "export_path = data_dir+export_name\n",
    "export_path\n"
   ]
  },
  {
   "cell_type": "markdown",
   "metadata": {},
   "source": [
    "#### Write sql query (example for chart events in markdown below)"
   ]
  },
  {
   "cell_type": "markdown",
   "metadata": {},
   "source": [
    "sql_query = \"\"\"\n",
    "\n",
    "\n",
    "SELECT \n",
    "  chartevents.*,\n",
    "  \n",
    "  sample_vents.endtime, sample_vents.re_intub_class,sample_vents.time_on_vent\n",
    "  \n",
    "FROM\n",
    "\n",
    "  chartevents\n",
    "  \n",
    "  INNER JOIN sample_vents ON chartevents.hadm_id = sample_vents.hadm_id\n",
    "  \n",
    "WHERE\n",
    "\n",
    "  (\n",
    "    (chartevents.itemid = 224369) OR\n",
    "    \n",
    "    (chartevents.itemid = 224370) OR \n",
    "    \n",
    "    (chartevents.itemid = 224372) OR \n",
    "    \n",
    "    (chartevents.itemid = 224373) \n",
    "    \n",
    "  );\n",
    "  \n",
    "\"\"\""
   ]
  },
  {
   "cell_type": "code",
   "execution_count": 5,
   "metadata": {},
   "outputs": [],
   "source": [
    "sql_query = \"\"\"\n",
    "SELECT \n",
    "  diagnoses_icd.*,\n",
    "  sample_vents.endtime, sample_vents.re_intub_class,sample_vents.time_on_vent\n",
    "FROM\n",
    "  diagnoses_icd\n",
    "  INNER JOIN sample_vents ON diagnoses_icd.hadm_id = sample_vents.hadm_id\n",
    "WHERE\n",
    "  (\n",
    "    (diagnoses_icd.icd_code LIKE 'J84%') OR\n",
    "    (diagnoses_icd.icd_code LIKE 'I27%') OR\n",
    "    (diagnoses_icd.icd_code LIKE 'E84%') OR\n",
    "    (diagnoses_icd.icd_code LIKE '516.31%') OR\n",
    "    (diagnoses_icd.icd_code LIKE '416.0%') OR\n",
    "    (diagnoses_icd.icd_code LIKE '277%') \n",
    "  );\n",
    "\"\"\""
   ]
  },
  {
   "cell_type": "markdown",
   "metadata": {},
   "source": [
    "#### print virtual memory available"
   ]
  },
  {
   "cell_type": "code",
   "execution_count": 6,
   "metadata": {},
   "outputs": [
    {
     "name": "stdout",
     "output_type": "stream",
     "text": [
      "3111374848\n"
     ]
    }
   ],
   "source": [
    "svmem = psutil.virtual_memory()\n",
    "print (svmem.available) #in bytes "
   ]
  },
  {
   "cell_type": "markdown",
   "metadata": {},
   "source": [
    "#### print size of database we're pulling from"
   ]
  },
  {
   "cell_type": "code",
   "execution_count": 7,
   "metadata": {},
   "outputs": [
    {
     "data": {
      "text/plain": [
       "144134230"
      ]
     },
     "execution_count": 7,
     "metadata": {},
     "output_type": "execute_result"
    }
   ],
   "source": [
    "os.path.getsize('../data/raw/diagnoses_icd.csv') "
   ]
  },
  {
   "cell_type": "markdown",
   "metadata": {},
   "source": [
    "#### figure out chunk size for pandas dataframe reading"
   ]
  },
  {
   "cell_type": "code",
   "execution_count": 7,
   "metadata": {},
   "outputs": [
    {
     "name": "stdout",
     "output_type": "stream",
     "text": [
      "378787\n"
     ]
    }
   ],
   "source": [
    "df_sample = pd.read_csv('../data/raw/diagnoses_icd.csv', nrows=10)\n",
    "df_sample_size = df_sample.memory_usage(index=True).sum()\n",
    "my_chunk = (2000000000 / df_sample_size)/10\n",
    "my_chunk = int(my_chunk//1) # we get the integer part\n",
    "print (my_chunk)"
   ]
  },
  {
   "cell_type": "code",
   "execution_count": 8,
   "metadata": {},
   "outputs": [],
   "source": [
    "# Define a database name (we're using a dataset on births, so we'll call it birth_db)\n",
    "\n",
    "# Set your postgres username/password, and connection specifics\n",
    "\n",
    "username = 'postgres'\n",
    "\n",
    "password = 'password'    # change this\n",
    "\n",
    "host     = 'localhost'\n",
    "\n",
    "port     = '5432'            # default port that postgres listens on\n",
    "\n",
    "db_name  = 'extumate'\n",
    "\n",
    "#db_name  = 'birth_db'"
   ]
  },
  {
   "cell_type": "code",
   "execution_count": 1,
   "metadata": {},
   "outputs": [
    {
     "ename": "NameError",
     "evalue": "name 'create_engine' is not defined",
     "output_type": "error",
     "traceback": [
      "\u001b[0;31m---------------------------------------------------------------------------\u001b[0m",
      "\u001b[0;31mNameError\u001b[0m                                 Traceback (most recent call last)",
      "\u001b[0;32m<ipython-input-1-c73bd33550eb>\u001b[0m in \u001b[0;36m<module>\u001b[0;34m\u001b[0m\n\u001b[1;32m      2\u001b[0m \u001b[0;31m## Here, we're using postgres, but sqlalchemy can connect to other things too.\u001b[0m\u001b[0;34m\u001b[0m\u001b[0;34m\u001b[0m\u001b[0;34m\u001b[0m\u001b[0m\n\u001b[1;32m      3\u001b[0m \u001b[0;31m#engine = create_engine( 'postgresql://{}:{}@{}:{}/{}'.format(username, password, host, port, db_name) )\u001b[0m\u001b[0;34m\u001b[0m\u001b[0;34m\u001b[0m\u001b[0;34m\u001b[0m\u001b[0m\n\u001b[0;32m----> 4\u001b[0;31m \u001b[0mengine\u001b[0m \u001b[0;34m=\u001b[0m \u001b[0mcreate_engine\u001b[0m\u001b[0;34m(\u001b[0m \u001b[0mextumate_engine_url\u001b[0m\u001b[0;34m.\u001b[0m\u001b[0mformat\u001b[0m\u001b[0;34m(\u001b[0m\u001b[0musername\u001b[0m\u001b[0;34m,\u001b[0m \u001b[0mpassword\u001b[0m\u001b[0;34m,\u001b[0m \u001b[0mhost\u001b[0m\u001b[0;34m,\u001b[0m \u001b[0mport\u001b[0m\u001b[0;34m,\u001b[0m \u001b[0mdb_name\u001b[0m\u001b[0;34m)\u001b[0m \u001b[0;34m)\u001b[0m\u001b[0;34m\u001b[0m\u001b[0;34m\u001b[0m\u001b[0m\n\u001b[0m\u001b[1;32m      5\u001b[0m \u001b[0mprint\u001b[0m\u001b[0;34m(\u001b[0m\u001b[0mengine\u001b[0m\u001b[0;34m.\u001b[0m\u001b[0murl\u001b[0m\u001b[0;34m)\u001b[0m\u001b[0;34m\u001b[0m\u001b[0;34m\u001b[0m\u001b[0m\n",
      "\u001b[0;31mNameError\u001b[0m: name 'create_engine' is not defined"
     ]
    }
   ],
   "source": [
    "## 'engine' is a connection to a database\n",
    "## Here, we're using postgres, but sqlalchemy can connect to other things too.\n",
    "#engine = create_engine( 'postgresql://{}:{}@{}:{}/{}'.format(username, password, host, port, db_name) )\n",
    "engine = create_engine( extumate_engine_url.format(username, password, host, port, db_name) )\n",
    "print(engine.url)"
   ]
  },
  {
   "cell_type": "markdown",
   "metadata": {},
   "source": [
    "#### Check engine is working by checking for 'sample_vents' table"
   ]
  },
  {
   "cell_type": "code",
   "execution_count": 10,
   "metadata": {},
   "outputs": [
    {
     "data": {
      "text/plain": [
       "True"
      ]
     },
     "execution_count": 10,
     "metadata": {},
     "output_type": "execute_result"
    }
   ],
   "source": [
    "engine.has_table('sample_vents')"
   ]
  },
  {
   "cell_type": "markdown",
   "metadata": {},
   "source": [
    "#### Connect using psycopg2 connection and query the database. \n",
    "\n",
    "Joining 'chartevents' with the 'sample_vents' table on the field hadm_id (so only pulling from patients who were ventilated), before selecting the type of event using the chartevents.itemid speeds up extraction of this data."
   ]
  },
  {
   "cell_type": "code",
   "execution_count": 11,
   "metadata": {},
   "outputs": [
    {
     "data": {
      "text/plain": [
       "<generator object SQLiteDatabase._query_iterator at 0x7f19fe36f890>"
      ]
     },
     "execution_count": 11,
     "metadata": {},
     "output_type": "execute_result"
    }
   ],
   "source": [
    "# Connect to make queries using psycopg2\n",
    "con = None\n",
    "con = psycopg2.connect(database = db_name, user = username, host=host,password=password)\n",
    "\n",
    "df_result = pd.read_sql_query(sql_query,con,chunksize=my_chunk)\n",
    "df_result"
   ]
  },
  {
   "cell_type": "code",
   "execution_count": 12,
   "metadata": {},
   "outputs": [],
   "source": [
    "concat_df = pd.concat(\n",
    "    [chunk\n",
    "    for chunk in df_result])"
   ]
  },
  {
   "cell_type": "code",
   "execution_count": 13,
   "metadata": {
    "scrolled": false
   },
   "outputs": [
    {
     "data": {
      "text/html": [
       "<div>\n",
       "<style scoped>\n",
       "    .dataframe tbody tr th:only-of-type {\n",
       "        vertical-align: middle;\n",
       "    }\n",
       "\n",
       "    .dataframe tbody tr th {\n",
       "        vertical-align: top;\n",
       "    }\n",
       "\n",
       "    .dataframe thead th {\n",
       "        text-align: right;\n",
       "    }\n",
       "</style>\n",
       "<table border=\"1\" class=\"dataframe\">\n",
       "  <thead>\n",
       "    <tr style=\"text-align: right;\">\n",
       "      <th></th>\n",
       "      <th>subject_id</th>\n",
       "      <th>hadm_id</th>\n",
       "      <th>seq_num</th>\n",
       "      <th>icd_code</th>\n",
       "      <th>icd_version</th>\n",
       "      <th>endtime</th>\n",
       "      <th>re_intub_class</th>\n",
       "      <th>time_on_vent</th>\n",
       "    </tr>\n",
       "  </thead>\n",
       "  <tbody>\n",
       "    <tr>\n",
       "      <th>0</th>\n",
       "      <td>14172652</td>\n",
       "      <td>22126865</td>\n",
       "      <td>11</td>\n",
       "      <td>E8497</td>\n",
       "      <td>9</td>\n",
       "      <td>2171-01-11 08:15:00</td>\n",
       "      <td>0</td>\n",
       "      <td>13.250000</td>\n",
       "    </tr>\n",
       "    <tr>\n",
       "      <th>1</th>\n",
       "      <td>17169563</td>\n",
       "      <td>21748215</td>\n",
       "      <td>10</td>\n",
       "      <td>E8499</td>\n",
       "      <td>9</td>\n",
       "      <td>2172-10-10 14:57:00</td>\n",
       "      <td>0</td>\n",
       "      <td>201.216660</td>\n",
       "    </tr>\n",
       "    <tr>\n",
       "      <th>2</th>\n",
       "      <td>11642909</td>\n",
       "      <td>23341616</td>\n",
       "      <td>6</td>\n",
       "      <td>E8497</td>\n",
       "      <td>9</td>\n",
       "      <td>2122-11-05 09:00:00</td>\n",
       "      <td>0</td>\n",
       "      <td>79.966670</td>\n",
       "    </tr>\n",
       "    <tr>\n",
       "      <th>3</th>\n",
       "      <td>16513166</td>\n",
       "      <td>28957782</td>\n",
       "      <td>22</td>\n",
       "      <td>E8497</td>\n",
       "      <td>9</td>\n",
       "      <td>2185-02-10 18:17:00</td>\n",
       "      <td>1</td>\n",
       "      <td>258.800000</td>\n",
       "    </tr>\n",
       "    <tr>\n",
       "      <th>4</th>\n",
       "      <td>16998152</td>\n",
       "      <td>26661707</td>\n",
       "      <td>11</td>\n",
       "      <td>E8497</td>\n",
       "      <td>9</td>\n",
       "      <td>2146-09-19 08:02:00</td>\n",
       "      <td>0</td>\n",
       "      <td>38.116665</td>\n",
       "    </tr>\n",
       "    <tr>\n",
       "      <th>...</th>\n",
       "      <td>...</td>\n",
       "      <td>...</td>\n",
       "      <td>...</td>\n",
       "      <td>...</td>\n",
       "      <td>...</td>\n",
       "      <td>...</td>\n",
       "      <td>...</td>\n",
       "      <td>...</td>\n",
       "    </tr>\n",
       "    <tr>\n",
       "      <th>2116</th>\n",
       "      <td>14029699</td>\n",
       "      <td>21629146</td>\n",
       "      <td>16</td>\n",
       "      <td>J8489</td>\n",
       "      <td>10</td>\n",
       "      <td>2143-01-07 11:58:00</td>\n",
       "      <td>0</td>\n",
       "      <td>162.633330</td>\n",
       "    </tr>\n",
       "    <tr>\n",
       "      <th>2117</th>\n",
       "      <td>17427545</td>\n",
       "      <td>22473775</td>\n",
       "      <td>8</td>\n",
       "      <td>I2720</td>\n",
       "      <td>10</td>\n",
       "      <td>2126-05-22 14:00:00</td>\n",
       "      <td>0</td>\n",
       "      <td>71.916664</td>\n",
       "    </tr>\n",
       "    <tr>\n",
       "      <th>2118</th>\n",
       "      <td>10302157</td>\n",
       "      <td>22665336</td>\n",
       "      <td>19</td>\n",
       "      <td>I2720</td>\n",
       "      <td>10</td>\n",
       "      <td>2189-06-28 17:26:00</td>\n",
       "      <td>0</td>\n",
       "      <td>46.750000</td>\n",
       "    </tr>\n",
       "    <tr>\n",
       "      <th>2119</th>\n",
       "      <td>13840732</td>\n",
       "      <td>26949782</td>\n",
       "      <td>27</td>\n",
       "      <td>I2720</td>\n",
       "      <td>10</td>\n",
       "      <td>2147-01-18 15:30:00</td>\n",
       "      <td>0</td>\n",
       "      <td>328.650000</td>\n",
       "    </tr>\n",
       "    <tr>\n",
       "      <th>2120</th>\n",
       "      <td>14381451</td>\n",
       "      <td>29550170</td>\n",
       "      <td>20</td>\n",
       "      <td>I2720</td>\n",
       "      <td>10</td>\n",
       "      <td>2149-09-29 14:21:00</td>\n",
       "      <td>0</td>\n",
       "      <td>17.350000</td>\n",
       "    </tr>\n",
       "  </tbody>\n",
       "</table>\n",
       "<p>2121 rows × 8 columns</p>\n",
       "</div>"
      ],
      "text/plain": [
       "      subject_id   hadm_id  seq_num icd_code  icd_version             endtime  \\\n",
       "0       14172652  22126865       11  E8497              9 2171-01-11 08:15:00   \n",
       "1       17169563  21748215       10  E8499              9 2172-10-10 14:57:00   \n",
       "2       11642909  23341616        6  E8497              9 2122-11-05 09:00:00   \n",
       "3       16513166  28957782       22  E8497              9 2185-02-10 18:17:00   \n",
       "4       16998152  26661707       11  E8497              9 2146-09-19 08:02:00   \n",
       "...          ...       ...      ...      ...          ...                 ...   \n",
       "2116    14029699  21629146       16  J8489             10 2143-01-07 11:58:00   \n",
       "2117    17427545  22473775        8  I2720             10 2126-05-22 14:00:00   \n",
       "2118    10302157  22665336       19  I2720             10 2189-06-28 17:26:00   \n",
       "2119    13840732  26949782       27  I2720             10 2147-01-18 15:30:00   \n",
       "2120    14381451  29550170       20  I2720             10 2149-09-29 14:21:00   \n",
       "\n",
       "      re_intub_class  time_on_vent  \n",
       "0                  0     13.250000  \n",
       "1                  0    201.216660  \n",
       "2                  0     79.966670  \n",
       "3                  1    258.800000  \n",
       "4                  0     38.116665  \n",
       "...              ...           ...  \n",
       "2116               0    162.633330  \n",
       "2117               0     71.916664  \n",
       "2118               0     46.750000  \n",
       "2119               0    328.650000  \n",
       "2120               0     17.350000  \n",
       "\n",
       "[2121 rows x 8 columns]"
      ]
     },
     "execution_count": 13,
     "metadata": {},
     "output_type": "execute_result"
    }
   ],
   "source": [
    "concat_df"
   ]
  },
  {
   "cell_type": "code",
   "execution_count": 14,
   "metadata": {},
   "outputs": [],
   "source": [
    "##concat_df.to_sql('pulseox', engine, if_exists='replace',chunksize=my_chunk) ### very, very slow!"
   ]
  },
  {
   "cell_type": "code",
   "execution_count": 15,
   "metadata": {
    "scrolled": true
   },
   "outputs": [
    {
     "data": {
      "text/html": [
       "<div>\n",
       "<style scoped>\n",
       "    .dataframe tbody tr th:only-of-type {\n",
       "        vertical-align: middle;\n",
       "    }\n",
       "\n",
       "    .dataframe tbody tr th {\n",
       "        vertical-align: top;\n",
       "    }\n",
       "\n",
       "    .dataframe thead th {\n",
       "        text-align: right;\n",
       "    }\n",
       "</style>\n",
       "<table border=\"1\" class=\"dataframe\">\n",
       "  <thead>\n",
       "    <tr style=\"text-align: right;\">\n",
       "      <th></th>\n",
       "      <th>subject_id</th>\n",
       "      <th>hadm_id</th>\n",
       "      <th>seq_num</th>\n",
       "      <th>icd_code</th>\n",
       "      <th>icd_version</th>\n",
       "      <th>endtime</th>\n",
       "      <th>re_intub_class</th>\n",
       "      <th>time_on_vent</th>\n",
       "    </tr>\n",
       "  </thead>\n",
       "  <tbody>\n",
       "    <tr>\n",
       "      <th>3</th>\n",
       "      <td>16513166</td>\n",
       "      <td>28957782</td>\n",
       "      <td>22</td>\n",
       "      <td>E8497</td>\n",
       "      <td>9</td>\n",
       "      <td>2185-02-10 18:17:00</td>\n",
       "      <td>1</td>\n",
       "      <td>258.800000</td>\n",
       "    </tr>\n",
       "    <tr>\n",
       "      <th>6</th>\n",
       "      <td>17620129</td>\n",
       "      <td>26712888</td>\n",
       "      <td>15</td>\n",
       "      <td>E8497</td>\n",
       "      <td>9</td>\n",
       "      <td>2168-09-30 06:44:00</td>\n",
       "      <td>1</td>\n",
       "      <td>16.183332</td>\n",
       "    </tr>\n",
       "    <tr>\n",
       "      <th>7</th>\n",
       "      <td>17620129</td>\n",
       "      <td>26712888</td>\n",
       "      <td>11</td>\n",
       "      <td>E8498</td>\n",
       "      <td>9</td>\n",
       "      <td>2168-09-30 06:44:00</td>\n",
       "      <td>1</td>\n",
       "      <td>16.183332</td>\n",
       "    </tr>\n",
       "    <tr>\n",
       "      <th>11</th>\n",
       "      <td>18656560</td>\n",
       "      <td>28807703</td>\n",
       "      <td>16</td>\n",
       "      <td>E8497</td>\n",
       "      <td>9</td>\n",
       "      <td>2156-06-17 09:45:00</td>\n",
       "      <td>1</td>\n",
       "      <td>200.500000</td>\n",
       "    </tr>\n",
       "    <tr>\n",
       "      <th>22</th>\n",
       "      <td>14411859</td>\n",
       "      <td>24976204</td>\n",
       "      <td>26</td>\n",
       "      <td>E8497</td>\n",
       "      <td>9</td>\n",
       "      <td>2163-04-02 13:27:00</td>\n",
       "      <td>1</td>\n",
       "      <td>2254.450000</td>\n",
       "    </tr>\n",
       "    <tr>\n",
       "      <th>...</th>\n",
       "      <td>...</td>\n",
       "      <td>...</td>\n",
       "      <td>...</td>\n",
       "      <td>...</td>\n",
       "      <td>...</td>\n",
       "      <td>...</td>\n",
       "      <td>...</td>\n",
       "      <td>...</td>\n",
       "    </tr>\n",
       "    <tr>\n",
       "      <th>2059</th>\n",
       "      <td>19673450</td>\n",
       "      <td>26742984</td>\n",
       "      <td>9</td>\n",
       "      <td>I2721</td>\n",
       "      <td>10</td>\n",
       "      <td>2145-03-28 09:22:00</td>\n",
       "      <td>1</td>\n",
       "      <td>34.616665</td>\n",
       "    </tr>\n",
       "    <tr>\n",
       "      <th>2067</th>\n",
       "      <td>16123073</td>\n",
       "      <td>27484036</td>\n",
       "      <td>6</td>\n",
       "      <td>E849</td>\n",
       "      <td>10</td>\n",
       "      <td>2159-08-25 12:35:00</td>\n",
       "      <td>1</td>\n",
       "      <td>149.883330</td>\n",
       "    </tr>\n",
       "    <tr>\n",
       "      <th>2085</th>\n",
       "      <td>14340432</td>\n",
       "      <td>22952897</td>\n",
       "      <td>25</td>\n",
       "      <td>I2729</td>\n",
       "      <td>10</td>\n",
       "      <td>2119-06-02 22:21:00</td>\n",
       "      <td>1</td>\n",
       "      <td>48.850000</td>\n",
       "    </tr>\n",
       "    <tr>\n",
       "      <th>2097</th>\n",
       "      <td>12190919</td>\n",
       "      <td>27923841</td>\n",
       "      <td>26</td>\n",
       "      <td>I2720</td>\n",
       "      <td>10</td>\n",
       "      <td>2121-11-13 15:18:00</td>\n",
       "      <td>1</td>\n",
       "      <td>13.750000</td>\n",
       "    </tr>\n",
       "    <tr>\n",
       "      <th>2114</th>\n",
       "      <td>14218414</td>\n",
       "      <td>26784080</td>\n",
       "      <td>18</td>\n",
       "      <td>I2729</td>\n",
       "      <td>10</td>\n",
       "      <td>2165-09-24 08:37:00</td>\n",
       "      <td>1</td>\n",
       "      <td>15.650000</td>\n",
       "    </tr>\n",
       "  </tbody>\n",
       "</table>\n",
       "<p>219 rows × 8 columns</p>\n",
       "</div>"
      ],
      "text/plain": [
       "      subject_id   hadm_id  seq_num icd_code  icd_version             endtime  \\\n",
       "3       16513166  28957782       22  E8497              9 2185-02-10 18:17:00   \n",
       "6       17620129  26712888       15  E8497              9 2168-09-30 06:44:00   \n",
       "7       17620129  26712888       11  E8498              9 2168-09-30 06:44:00   \n",
       "11      18656560  28807703       16  E8497              9 2156-06-17 09:45:00   \n",
       "22      14411859  24976204       26  E8497              9 2163-04-02 13:27:00   \n",
       "...          ...       ...      ...      ...          ...                 ...   \n",
       "2059    19673450  26742984        9  I2721             10 2145-03-28 09:22:00   \n",
       "2067    16123073  27484036        6  E849              10 2159-08-25 12:35:00   \n",
       "2085    14340432  22952897       25  I2729             10 2119-06-02 22:21:00   \n",
       "2097    12190919  27923841       26  I2720             10 2121-11-13 15:18:00   \n",
       "2114    14218414  26784080       18  I2729             10 2165-09-24 08:37:00   \n",
       "\n",
       "      re_intub_class  time_on_vent  \n",
       "3                  1    258.800000  \n",
       "6                  1     16.183332  \n",
       "7                  1     16.183332  \n",
       "11                 1    200.500000  \n",
       "22                 1   2254.450000  \n",
       "...              ...           ...  \n",
       "2059               1     34.616665  \n",
       "2067               1    149.883330  \n",
       "2085               1     48.850000  \n",
       "2097               1     13.750000  \n",
       "2114               1     15.650000  \n",
       "\n",
       "[219 rows x 8 columns]"
      ]
     },
     "execution_count": 15,
     "metadata": {},
     "output_type": "execute_result"
    }
   ],
   "source": [
    "concat_df[concat_df['re_intub_class']==1]"
   ]
  },
  {
   "cell_type": "markdown",
   "metadata": {},
   "source": [
    "#### Feather dataframe for future processing"
   ]
  },
  {
   "cell_type": "code",
   "execution_count": 16,
   "metadata": {},
   "outputs": [],
   "source": [
    "concat_df=concat_df[['hadm_id','seq_num','icd_code']]"
   ]
  },
  {
   "cell_type": "code",
   "execution_count": 17,
   "metadata": {},
   "outputs": [],
   "source": [
    "#concat_df.reset_index(inplace=True)\n",
    "#concat_df.drop('index',axis = 1,inplace=True)"
   ]
  },
  {
   "cell_type": "code",
   "execution_count": 18,
   "metadata": {},
   "outputs": [],
   "source": [
    "concat_df.to_feather(export_path)"
   ]
  },
  {
   "cell_type": "code",
   "execution_count": 19,
   "metadata": {},
   "outputs": [
    {
     "data": {
      "text/html": [
       "<div>\n",
       "<style scoped>\n",
       "    .dataframe tbody tr th:only-of-type {\n",
       "        vertical-align: middle;\n",
       "    }\n",
       "\n",
       "    .dataframe tbody tr th {\n",
       "        vertical-align: top;\n",
       "    }\n",
       "\n",
       "    .dataframe thead th {\n",
       "        text-align: right;\n",
       "    }\n",
       "</style>\n",
       "<table border=\"1\" class=\"dataframe\">\n",
       "  <thead>\n",
       "    <tr style=\"text-align: right;\">\n",
       "      <th></th>\n",
       "      <th>hadm_id</th>\n",
       "      <th>seq_num</th>\n",
       "      <th>icd_code</th>\n",
       "    </tr>\n",
       "  </thead>\n",
       "  <tbody>\n",
       "    <tr>\n",
       "      <th>0</th>\n",
       "      <td>22126865</td>\n",
       "      <td>11</td>\n",
       "      <td>E8497</td>\n",
       "    </tr>\n",
       "    <tr>\n",
       "      <th>1</th>\n",
       "      <td>21748215</td>\n",
       "      <td>10</td>\n",
       "      <td>E8499</td>\n",
       "    </tr>\n",
       "    <tr>\n",
       "      <th>2</th>\n",
       "      <td>23341616</td>\n",
       "      <td>6</td>\n",
       "      <td>E8497</td>\n",
       "    </tr>\n",
       "    <tr>\n",
       "      <th>3</th>\n",
       "      <td>28957782</td>\n",
       "      <td>22</td>\n",
       "      <td>E8497</td>\n",
       "    </tr>\n",
       "    <tr>\n",
       "      <th>4</th>\n",
       "      <td>26661707</td>\n",
       "      <td>11</td>\n",
       "      <td>E8497</td>\n",
       "    </tr>\n",
       "    <tr>\n",
       "      <th>...</th>\n",
       "      <td>...</td>\n",
       "      <td>...</td>\n",
       "      <td>...</td>\n",
       "    </tr>\n",
       "    <tr>\n",
       "      <th>2116</th>\n",
       "      <td>21629146</td>\n",
       "      <td>16</td>\n",
       "      <td>J8489</td>\n",
       "    </tr>\n",
       "    <tr>\n",
       "      <th>2117</th>\n",
       "      <td>22473775</td>\n",
       "      <td>8</td>\n",
       "      <td>I2720</td>\n",
       "    </tr>\n",
       "    <tr>\n",
       "      <th>2118</th>\n",
       "      <td>22665336</td>\n",
       "      <td>19</td>\n",
       "      <td>I2720</td>\n",
       "    </tr>\n",
       "    <tr>\n",
       "      <th>2119</th>\n",
       "      <td>26949782</td>\n",
       "      <td>27</td>\n",
       "      <td>I2720</td>\n",
       "    </tr>\n",
       "    <tr>\n",
       "      <th>2120</th>\n",
       "      <td>29550170</td>\n",
       "      <td>20</td>\n",
       "      <td>I2720</td>\n",
       "    </tr>\n",
       "  </tbody>\n",
       "</table>\n",
       "<p>2121 rows × 3 columns</p>\n",
       "</div>"
      ],
      "text/plain": [
       "       hadm_id  seq_num icd_code\n",
       "0     22126865       11  E8497  \n",
       "1     21748215       10  E8499  \n",
       "2     23341616        6  E8497  \n",
       "3     28957782       22  E8497  \n",
       "4     26661707       11  E8497  \n",
       "...        ...      ...      ...\n",
       "2116  21629146       16  J8489  \n",
       "2117  22473775        8  I2720  \n",
       "2118  22665336       19  I2720  \n",
       "2119  26949782       27  I2720  \n",
       "2120  29550170       20  I2720  \n",
       "\n",
       "[2121 rows x 3 columns]"
      ]
     },
     "execution_count": 19,
     "metadata": {},
     "output_type": "execute_result"
    }
   ],
   "source": [
    "concat_df"
   ]
  },
  {
   "cell_type": "code",
   "execution_count": null,
   "metadata": {},
   "outputs": [],
   "source": []
  }
 ],
 "metadata": {
  "kernelspec": {
   "display_name": "Python 3",
   "language": "python",
   "name": "python3"
  },
  "language_info": {
   "codemirror_mode": {
    "name": "ipython",
    "version": 3
   },
   "file_extension": ".py",
   "mimetype": "text/x-python",
   "name": "python",
   "nbconvert_exporter": "python",
   "pygments_lexer": "ipython3",
   "version": "3.8.5"
  }
 },
 "nbformat": 4,
 "nbformat_minor": 4
}
