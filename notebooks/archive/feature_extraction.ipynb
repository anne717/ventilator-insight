{
 "cells": [
  {
   "cell_type": "markdown",
   "metadata": {},
   "source": [
    "### Script for function to pull vitals data\n",
    "\n",
    "This function loads chart events (specified by user-entered ID) into a dataframe, filters events by ventilataed patients, determines the last reading before extubation, takes the mean of this value for any duplicate readings (happens when multiple sensors used simultanrously) and returns the data as a column in the master dataframe\n",
    "\n",
    "#### impot useful libraries"
   ]
  },
  {
   "cell_type": "code",
   "execution_count": 1,
   "metadata": {},
   "outputs": [],
   "source": [
    "import pandas as pd\n",
    "import numpy as np\n",
    "import seaborn as sns\n",
    "import matplotlib.pyplot as plt\n",
    "import psutil\n",
    "import os"
   ]
  },
  {
   "cell_type": "markdown",
   "metadata": {},
   "source": [
    "#### print virtual memory available"
   ]
  },
  {
   "cell_type": "code",
   "execution_count": 8,
   "metadata": {},
   "outputs": [
    {
     "name": "stdout",
     "output_type": "stream",
     "text": [
      "3545346048\n"
     ]
    }
   ],
   "source": [
    "svmem = psutil.virtual_memory()\n",
    "print (svmem.available) #in bytes "
   ]
  },
  {
   "cell_type": "markdown",
   "metadata": {},
   "source": [
    "#### print size of database we're pulling from"
   ]
  },
  {
   "cell_type": "code",
   "execution_count": 3,
   "metadata": {},
   "outputs": [
    {
     "data": {
      "text/plain": [
       "29184776616"
      ]
     },
     "execution_count": 3,
     "metadata": {},
     "output_type": "execute_result"
    }
   ],
   "source": [
    "os.path.getsize('../data/raw/chartevents.csv') "
   ]
  },
  {
   "cell_type": "markdown",
   "metadata": {},
   "source": [
    "#### figure out chunk size for pandas dataframe reading"
   ]
  },
  {
   "cell_type": "code",
   "execution_count": 14,
   "metadata": {},
   "outputs": [
    {
     "name": "stdout",
     "output_type": "stream",
     "text": [
      "215517\n"
     ]
    }
   ],
   "source": [
    "df_sample = pd.read_csv('../data/raw/chartevents.csv', nrows=10)\n",
    "df_sample_size = df_sample.memory_usage(index=True).sum()\n",
    "my_chunk = (2000000000 / df_sample_size)/10\n",
    "my_chunk = int(my_chunk//1) # we get the integer part\n",
    "print (my_chunk)"
   ]
  },
  {
   "cell_type": "markdown",
   "metadata": {},
   "source": [
    "4) create dataframe structure and set chunksize for iterating data into dataframe"
   ]
  },
  {
   "cell_type": "code",
   "execution_count": 5,
   "metadata": {},
   "outputs": [],
   "source": [
    "iter_csv = pd.read_csv(\n",
    "    '../data/raw/chartevents.csv',\n",
    "    iterator=True,\n",
    "    chunksize=my_chunk,\n",
    "    dtype={'subject_id': int, 'hadm_id': int, 'stay_id': int, \n",
    "           'charttime' : str, 'storetime': str, 'itemid': int,\n",
    "           'value': str, 'valuenum': float, 'valueuom': str, 'warning': int})"
   ]
  },
  {
   "cell_type": "code",
   "execution_count": 15,
   "metadata": {},
   "outputs": [
    {
     "data": {
      "text/plain": [
       "<pandas.io.parsers.TextFileReader at 0x7f26ccea2760>"
      ]
     },
     "execution_count": 15,
     "metadata": {},
     "output_type": "execute_result"
    }
   ],
   "source": [
    "iter_csv"
   ]
  },
  {
   "cell_type": "markdown",
   "metadata": {},
   "source": [
    "5) get chart events data"
   ]
  },
  {
   "cell_type": "code",
   "execution_count": 6,
   "metadata": {},
   "outputs": [],
   "source": [
    "df_result = pd.concat(\n",
    "    [chunk[(chunk['itemid'] == 220052)|(chunk['itemid'] == 225312)|(chunk['itemid'] == 220181)]\n",
    "    for chunk in iter_csv])"
   ]
  },
  {
   "cell_type": "code",
   "execution_count": 7,
   "metadata": {},
   "outputs": [
    {
     "data": {
      "text/html": [
       "<div>\n",
       "<style scoped>\n",
       "    .dataframe tbody tr th:only-of-type {\n",
       "        vertical-align: middle;\n",
       "    }\n",
       "\n",
       "    .dataframe tbody tr th {\n",
       "        vertical-align: top;\n",
       "    }\n",
       "\n",
       "    .dataframe thead th {\n",
       "        text-align: right;\n",
       "    }\n",
       "</style>\n",
       "<table border=\"1\" class=\"dataframe\">\n",
       "  <thead>\n",
       "    <tr style=\"text-align: right;\">\n",
       "      <th></th>\n",
       "      <th>subject_id</th>\n",
       "      <th>hadm_id</th>\n",
       "      <th>stay_id</th>\n",
       "      <th>charttime</th>\n",
       "      <th>storetime</th>\n",
       "      <th>itemid</th>\n",
       "      <th>value</th>\n",
       "      <th>valuenum</th>\n",
       "      <th>valueuom</th>\n",
       "      <th>warning</th>\n",
       "    </tr>\n",
       "  </thead>\n",
       "  <tbody>\n",
       "    <tr>\n",
       "      <th>64</th>\n",
       "      <td>10003700</td>\n",
       "      <td>28623837</td>\n",
       "      <td>35053963</td>\n",
       "      <td>2165-04-24 05:28:00</td>\n",
       "      <td>2165-04-24 05:37:00</td>\n",
       "      <td>220181</td>\n",
       "      <td>110</td>\n",
       "      <td>110.0</td>\n",
       "      <td>mmHg</td>\n",
       "      <td>0</td>\n",
       "    </tr>\n",
       "    <tr>\n",
       "      <th>90</th>\n",
       "      <td>10003700</td>\n",
       "      <td>28623837</td>\n",
       "      <td>35053963</td>\n",
       "      <td>2165-04-24 06:00:00</td>\n",
       "      <td>2165-04-24 06:09:00</td>\n",
       "      <td>220181</td>\n",
       "      <td>88</td>\n",
       "      <td>88.0</td>\n",
       "      <td>mmHg</td>\n",
       "      <td>0</td>\n",
       "    </tr>\n",
       "    <tr>\n",
       "      <th>125</th>\n",
       "      <td>10003700</td>\n",
       "      <td>28623837</td>\n",
       "      <td>35053963</td>\n",
       "      <td>2165-04-24 07:00:00</td>\n",
       "      <td>2165-04-24 07:51:00</td>\n",
       "      <td>220181</td>\n",
       "      <td>109</td>\n",
       "      <td>109.0</td>\n",
       "      <td>mmHg</td>\n",
       "      <td>0</td>\n",
       "    </tr>\n",
       "    <tr>\n",
       "      <th>175</th>\n",
       "      <td>10003700</td>\n",
       "      <td>28623837</td>\n",
       "      <td>35053963</td>\n",
       "      <td>2165-04-24 08:00:00</td>\n",
       "      <td>2165-04-24 08:19:00</td>\n",
       "      <td>220181</td>\n",
       "      <td>82</td>\n",
       "      <td>82.0</td>\n",
       "      <td>mmHg</td>\n",
       "      <td>0</td>\n",
       "    </tr>\n",
       "    <tr>\n",
       "      <th>201</th>\n",
       "      <td>10004235</td>\n",
       "      <td>24181354</td>\n",
       "      <td>30276431</td>\n",
       "      <td>2196-02-24 16:41:00</td>\n",
       "      <td>2196-02-24 17:48:00</td>\n",
       "      <td>220052</td>\n",
       "      <td>82</td>\n",
       "      <td>82.0</td>\n",
       "      <td>mmHg</td>\n",
       "      <td>0</td>\n",
       "    </tr>\n",
       "    <tr>\n",
       "      <th>...</th>\n",
       "      <td>...</td>\n",
       "      <td>...</td>\n",
       "      <td>...</td>\n",
       "      <td>...</td>\n",
       "      <td>...</td>\n",
       "      <td>...</td>\n",
       "      <td>...</td>\n",
       "      <td>...</td>\n",
       "      <td>...</td>\n",
       "      <td>...</td>\n",
       "    </tr>\n",
       "    <tr>\n",
       "      <th>299921044</th>\n",
       "      <td>19999068</td>\n",
       "      <td>21606769</td>\n",
       "      <td>31096823</td>\n",
       "      <td>2161-08-30 17:00:00</td>\n",
       "      <td>2161-08-30 17:31:00</td>\n",
       "      <td>220181</td>\n",
       "      <td>105</td>\n",
       "      <td>105.0</td>\n",
       "      <td>mmHg</td>\n",
       "      <td>0</td>\n",
       "    </tr>\n",
       "    <tr>\n",
       "      <th>299921052</th>\n",
       "      <td>19999068</td>\n",
       "      <td>21606769</td>\n",
       "      <td>31096823</td>\n",
       "      <td>2161-08-30 18:00:00</td>\n",
       "      <td>2161-08-30 18:55:00</td>\n",
       "      <td>220181</td>\n",
       "      <td>89</td>\n",
       "      <td>89.0</td>\n",
       "      <td>mmHg</td>\n",
       "      <td>0</td>\n",
       "    </tr>\n",
       "    <tr>\n",
       "      <th>299921057</th>\n",
       "      <td>19999068</td>\n",
       "      <td>21606769</td>\n",
       "      <td>31096823</td>\n",
       "      <td>2161-08-30 19:00:00</td>\n",
       "      <td>2161-08-30 19:41:00</td>\n",
       "      <td>220181</td>\n",
       "      <td>80</td>\n",
       "      <td>80.0</td>\n",
       "      <td>mmHg</td>\n",
       "      <td>0</td>\n",
       "    </tr>\n",
       "    <tr>\n",
       "      <th>299921068</th>\n",
       "      <td>19999068</td>\n",
       "      <td>21606769</td>\n",
       "      <td>31096823</td>\n",
       "      <td>2161-08-30 20:00:00</td>\n",
       "      <td>2161-08-30 20:05:00</td>\n",
       "      <td>220181</td>\n",
       "      <td>83</td>\n",
       "      <td>83.0</td>\n",
       "      <td>mmHg</td>\n",
       "      <td>0</td>\n",
       "    </tr>\n",
       "    <tr>\n",
       "      <th>299921085</th>\n",
       "      <td>19999068</td>\n",
       "      <td>21606769</td>\n",
       "      <td>31096823</td>\n",
       "      <td>2161-08-30 21:00:00</td>\n",
       "      <td>2161-08-30 21:38:00</td>\n",
       "      <td>220181</td>\n",
       "      <td>95</td>\n",
       "      <td>95.0</td>\n",
       "      <td>mmHg</td>\n",
       "      <td>0</td>\n",
       "    </tr>\n",
       "  </tbody>\n",
       "</table>\n",
       "<p>6994419 rows × 10 columns</p>\n",
       "</div>"
      ],
      "text/plain": [
       "           subject_id   hadm_id   stay_id            charttime  \\\n",
       "64           10003700  28623837  35053963  2165-04-24 05:28:00   \n",
       "90           10003700  28623837  35053963  2165-04-24 06:00:00   \n",
       "125          10003700  28623837  35053963  2165-04-24 07:00:00   \n",
       "175          10003700  28623837  35053963  2165-04-24 08:00:00   \n",
       "201          10004235  24181354  30276431  2196-02-24 16:41:00   \n",
       "...               ...       ...       ...                  ...   \n",
       "299921044    19999068  21606769  31096823  2161-08-30 17:00:00   \n",
       "299921052    19999068  21606769  31096823  2161-08-30 18:00:00   \n",
       "299921057    19999068  21606769  31096823  2161-08-30 19:00:00   \n",
       "299921068    19999068  21606769  31096823  2161-08-30 20:00:00   \n",
       "299921085    19999068  21606769  31096823  2161-08-30 21:00:00   \n",
       "\n",
       "                     storetime  itemid value  valuenum valueuom  warning  \n",
       "64         2165-04-24 05:37:00  220181   110     110.0     mmHg        0  \n",
       "90         2165-04-24 06:09:00  220181    88      88.0     mmHg        0  \n",
       "125        2165-04-24 07:51:00  220181   109     109.0     mmHg        0  \n",
       "175        2165-04-24 08:19:00  220181    82      82.0     mmHg        0  \n",
       "201        2196-02-24 17:48:00  220052    82      82.0     mmHg        0  \n",
       "...                        ...     ...   ...       ...      ...      ...  \n",
       "299921044  2161-08-30 17:31:00  220181   105     105.0     mmHg        0  \n",
       "299921052  2161-08-30 18:55:00  220181    89      89.0     mmHg        0  \n",
       "299921057  2161-08-30 19:41:00  220181    80      80.0     mmHg        0  \n",
       "299921068  2161-08-30 20:05:00  220181    83      83.0     mmHg        0  \n",
       "299921085  2161-08-30 21:38:00  220181    95      95.0     mmHg        0  \n",
       "\n",
       "[6994419 rows x 10 columns]"
      ]
     },
     "execution_count": 7,
     "metadata": {},
     "output_type": "execute_result"
    }
   ],
   "source": [
    "df_result"
   ]
  },
  {
   "cell_type": "code",
   "execution_count": null,
   "metadata": {},
   "outputs": [],
   "source": []
  },
  {
   "cell_type": "code",
   "execution_count": 10,
   "metadata": {},
   "outputs": [],
   "source": [
    "svents = pd.read_csv('../data/processed/sample_vents.csv')\n",
    "ids = svents['hadm_id']\n",
    "df_result = df_result[df_result['hadm_id'].isin(ids)]"
   ]
  },
  {
   "cell_type": "code",
   "execution_count": null,
   "metadata": {},
   "outputs": [],
   "source": [
    "# to convert fahrenheit to celcius: (F-32) x 5/9\n",
    "# df_result['valuenum'] = np.where(df_result['itemid']==223761,(df_result['valuenum']-32)*(5/9),df_result['valuenum'])"
   ]
  },
  {
   "cell_type": "code",
   "execution_count": 11,
   "metadata": {},
   "outputs": [
    {
     "data": {
      "text/html": [
       "<div>\n",
       "<style scoped>\n",
       "    .dataframe tbody tr th:only-of-type {\n",
       "        vertical-align: middle;\n",
       "    }\n",
       "\n",
       "    .dataframe tbody tr th {\n",
       "        vertical-align: top;\n",
       "    }\n",
       "\n",
       "    .dataframe thead th {\n",
       "        text-align: right;\n",
       "    }\n",
       "</style>\n",
       "<table border=\"1\" class=\"dataframe\">\n",
       "  <thead>\n",
       "    <tr style=\"text-align: right;\">\n",
       "      <th></th>\n",
       "      <th>subject_id</th>\n",
       "      <th>hadm_id</th>\n",
       "      <th>stay_id</th>\n",
       "      <th>charttime</th>\n",
       "      <th>storetime</th>\n",
       "      <th>itemid</th>\n",
       "      <th>value</th>\n",
       "      <th>valuenum</th>\n",
       "      <th>valueuom</th>\n",
       "      <th>warning</th>\n",
       "    </tr>\n",
       "  </thead>\n",
       "  <tbody>\n",
       "    <tr>\n",
       "      <th>201</th>\n",
       "      <td>10004235</td>\n",
       "      <td>24181354</td>\n",
       "      <td>30276431</td>\n",
       "      <td>2196-02-24 16:41:00</td>\n",
       "      <td>2196-02-24 17:48:00</td>\n",
       "      <td>220052</td>\n",
       "      <td>82</td>\n",
       "      <td>82.0</td>\n",
       "      <td>mmHg</td>\n",
       "      <td>0</td>\n",
       "    </tr>\n",
       "    <tr>\n",
       "      <th>205</th>\n",
       "      <td>10004235</td>\n",
       "      <td>24181354</td>\n",
       "      <td>30276431</td>\n",
       "      <td>2196-02-24 17:00:00</td>\n",
       "      <td>2196-02-24 17:48:00</td>\n",
       "      <td>220052</td>\n",
       "      <td>83</td>\n",
       "      <td>83.0</td>\n",
       "      <td>mmHg</td>\n",
       "      <td>0</td>\n",
       "    </tr>\n",
       "    <tr>\n",
       "      <th>247</th>\n",
       "      <td>10004235</td>\n",
       "      <td>24181354</td>\n",
       "      <td>30276431</td>\n",
       "      <td>2196-02-24 17:16:00</td>\n",
       "      <td>2196-02-24 17:17:00</td>\n",
       "      <td>220052</td>\n",
       "      <td>93</td>\n",
       "      <td>93.0</td>\n",
       "      <td>mmHg</td>\n",
       "      <td>0</td>\n",
       "    </tr>\n",
       "    <tr>\n",
       "      <th>289</th>\n",
       "      <td>10004235</td>\n",
       "      <td>24181354</td>\n",
       "      <td>30276431</td>\n",
       "      <td>2196-02-24 17:48:00</td>\n",
       "      <td>2196-02-24 17:48:00</td>\n",
       "      <td>220052</td>\n",
       "      <td>88</td>\n",
       "      <td>88.0</td>\n",
       "      <td>mmHg</td>\n",
       "      <td>0</td>\n",
       "    </tr>\n",
       "    <tr>\n",
       "      <th>300</th>\n",
       "      <td>10004235</td>\n",
       "      <td>24181354</td>\n",
       "      <td>30276431</td>\n",
       "      <td>2196-02-24 18:00:00</td>\n",
       "      <td>2196-02-24 18:14:00</td>\n",
       "      <td>220052</td>\n",
       "      <td>79</td>\n",
       "      <td>79.0</td>\n",
       "      <td>mmHg</td>\n",
       "      <td>0</td>\n",
       "    </tr>\n",
       "    <tr>\n",
       "      <th>...</th>\n",
       "      <td>...</td>\n",
       "      <td>...</td>\n",
       "      <td>...</td>\n",
       "      <td>...</td>\n",
       "      <td>...</td>\n",
       "      <td>...</td>\n",
       "      <td>...</td>\n",
       "      <td>...</td>\n",
       "      <td>...</td>\n",
       "      <td>...</td>\n",
       "    </tr>\n",
       "    <tr>\n",
       "      <th>299921044</th>\n",
       "      <td>19999068</td>\n",
       "      <td>21606769</td>\n",
       "      <td>31096823</td>\n",
       "      <td>2161-08-30 17:00:00</td>\n",
       "      <td>2161-08-30 17:31:00</td>\n",
       "      <td>220181</td>\n",
       "      <td>105</td>\n",
       "      <td>105.0</td>\n",
       "      <td>mmHg</td>\n",
       "      <td>0</td>\n",
       "    </tr>\n",
       "    <tr>\n",
       "      <th>299921052</th>\n",
       "      <td>19999068</td>\n",
       "      <td>21606769</td>\n",
       "      <td>31096823</td>\n",
       "      <td>2161-08-30 18:00:00</td>\n",
       "      <td>2161-08-30 18:55:00</td>\n",
       "      <td>220181</td>\n",
       "      <td>89</td>\n",
       "      <td>89.0</td>\n",
       "      <td>mmHg</td>\n",
       "      <td>0</td>\n",
       "    </tr>\n",
       "    <tr>\n",
       "      <th>299921057</th>\n",
       "      <td>19999068</td>\n",
       "      <td>21606769</td>\n",
       "      <td>31096823</td>\n",
       "      <td>2161-08-30 19:00:00</td>\n",
       "      <td>2161-08-30 19:41:00</td>\n",
       "      <td>220181</td>\n",
       "      <td>80</td>\n",
       "      <td>80.0</td>\n",
       "      <td>mmHg</td>\n",
       "      <td>0</td>\n",
       "    </tr>\n",
       "    <tr>\n",
       "      <th>299921068</th>\n",
       "      <td>19999068</td>\n",
       "      <td>21606769</td>\n",
       "      <td>31096823</td>\n",
       "      <td>2161-08-30 20:00:00</td>\n",
       "      <td>2161-08-30 20:05:00</td>\n",
       "      <td>220181</td>\n",
       "      <td>83</td>\n",
       "      <td>83.0</td>\n",
       "      <td>mmHg</td>\n",
       "      <td>0</td>\n",
       "    </tr>\n",
       "    <tr>\n",
       "      <th>299921085</th>\n",
       "      <td>19999068</td>\n",
       "      <td>21606769</td>\n",
       "      <td>31096823</td>\n",
       "      <td>2161-08-30 21:00:00</td>\n",
       "      <td>2161-08-30 21:38:00</td>\n",
       "      <td>220181</td>\n",
       "      <td>95</td>\n",
       "      <td>95.0</td>\n",
       "      <td>mmHg</td>\n",
       "      <td>0</td>\n",
       "    </tr>\n",
       "  </tbody>\n",
       "</table>\n",
       "<p>2929429 rows × 10 columns</p>\n",
       "</div>"
      ],
      "text/plain": [
       "           subject_id   hadm_id   stay_id            charttime  \\\n",
       "201          10004235  24181354  30276431  2196-02-24 16:41:00   \n",
       "205          10004235  24181354  30276431  2196-02-24 17:00:00   \n",
       "247          10004235  24181354  30276431  2196-02-24 17:16:00   \n",
       "289          10004235  24181354  30276431  2196-02-24 17:48:00   \n",
       "300          10004235  24181354  30276431  2196-02-24 18:00:00   \n",
       "...               ...       ...       ...                  ...   \n",
       "299921044    19999068  21606769  31096823  2161-08-30 17:00:00   \n",
       "299921052    19999068  21606769  31096823  2161-08-30 18:00:00   \n",
       "299921057    19999068  21606769  31096823  2161-08-30 19:00:00   \n",
       "299921068    19999068  21606769  31096823  2161-08-30 20:00:00   \n",
       "299921085    19999068  21606769  31096823  2161-08-30 21:00:00   \n",
       "\n",
       "                     storetime  itemid value  valuenum valueuom  warning  \n",
       "201        2196-02-24 17:48:00  220052    82      82.0     mmHg        0  \n",
       "205        2196-02-24 17:48:00  220052    83      83.0     mmHg        0  \n",
       "247        2196-02-24 17:17:00  220052    93      93.0     mmHg        0  \n",
       "289        2196-02-24 17:48:00  220052    88      88.0     mmHg        0  \n",
       "300        2196-02-24 18:14:00  220052    79      79.0     mmHg        0  \n",
       "...                        ...     ...   ...       ...      ...      ...  \n",
       "299921044  2161-08-30 17:31:00  220181   105     105.0     mmHg        0  \n",
       "299921052  2161-08-30 18:55:00  220181    89      89.0     mmHg        0  \n",
       "299921057  2161-08-30 19:41:00  220181    80      80.0     mmHg        0  \n",
       "299921068  2161-08-30 20:05:00  220181    83      83.0     mmHg        0  \n",
       "299921085  2161-08-30 21:38:00  220181    95      95.0     mmHg        0  \n",
       "\n",
       "[2929429 rows x 10 columns]"
      ]
     },
     "execution_count": 11,
     "metadata": {},
     "output_type": "execute_result"
    }
   ],
   "source": [
    "df_result"
   ]
  },
  {
   "cell_type": "code",
   "execution_count": null,
   "metadata": {},
   "outputs": [],
   "source": []
  },
  {
   "cell_type": "code",
   "execution_count": null,
   "metadata": {},
   "outputs": [],
   "source": [
    "merged_inner = pd.merge(left=df_result, right=svents, left_on='hadm_id', right_on='hadm_id')"
   ]
  },
  {
   "cell_type": "code",
   "execution_count": null,
   "metadata": {},
   "outputs": [],
   "source": [
    "#merged_inner = merged_inner[merged_inner['itemid']==224685]\n",
    "merged_inner"
   ]
  },
  {
   "cell_type": "code",
   "execution_count": null,
   "metadata": {},
   "outputs": [],
   "source": [
    "merged_inner['endtime'] = pd.to_datetime(merged_inner['endtime'])\n",
    "merged_inner['charttime'] = pd.to_datetime(merged_inner['charttime'])\n",
    "merged_inner['time_diff']= merged_inner['endtime']-merged_inner['charttime']"
   ]
  },
  {
   "cell_type": "code",
   "execution_count": null,
   "metadata": {},
   "outputs": [],
   "source": [
    "merged_inner['timediffhour'] = merged_inner['time_diff'] / np.timedelta64(1, 'h') # convert time to hours\n",
    "merged_inner_pre = merged_inner[merged_inner['timediffhour']>0]"
   ]
  },
  {
   "cell_type": "code",
   "execution_count": null,
   "metadata": {},
   "outputs": [],
   "source": [
    "merged_inner_pre['min']=merged_inner_pre.groupby('hadm_id')['timediffhour'].transform('min') # find the last reading \n",
    "            # time before extubation occured and place in a new channel ('min')"
   ]
  },
  {
   "cell_type": "code",
   "execution_count": null,
   "metadata": {},
   "outputs": [],
   "source": [
    "merged_inner_pre.tail(60)"
   ]
  },
  {
   "cell_type": "code",
   "execution_count": null,
   "metadata": {},
   "outputs": [],
   "source": [
    "last_value_pre = merged_inner_pre[merged_inner_pre['timediffhour'] == merged_inner_pre['min']] \n",
    "            # select only rows where 'timediffhour' is the same as the minimum time ('min')"
   ]
  },
  {
   "cell_type": "code",
   "execution_count": null,
   "metadata": {},
   "outputs": [],
   "source": []
  },
  {
   "cell_type": "code",
   "execution_count": null,
   "metadata": {},
   "outputs": [],
   "source": [
    "avg_dupValues = last_value_pre.groupby('hadm_id')['valuenum'].mean() # where duplicate values exist,take the mean\n",
    "meanBP = avg_dupValues.reset_index()"
   ]
  },
  {
   "cell_type": "code",
   "execution_count": null,
   "metadata": {},
   "outputs": [],
   "source": []
  },
  {
   "cell_type": "code",
   "execution_count": null,
   "metadata": {},
   "outputs": [],
   "source": [
    "meanBP.columns = (['hadm_id','tidalVol'])"
   ]
  },
  {
   "cell_type": "code",
   "execution_count": null,
   "metadata": {},
   "outputs": [],
   "source": [
    "meanBP.isnull().sum()"
   ]
  },
  {
   "cell_type": "code",
   "execution_count": null,
   "metadata": {},
   "outputs": [],
   "source": [
    "#num_ventilations = last_value_pre['hadm_id'].value_counts()\n",
    "#svdf = last_value_pre[last_value_pre['hadm_id'].isin(num_ventilations.index[num_ventilations ==2])]\n",
    "#sns.countplot(svdf['valuenum'])"
   ]
  },
  {
   "cell_type": "code",
   "execution_count": null,
   "metadata": {},
   "outputs": [],
   "source": []
  },
  {
   "cell_type": "code",
   "execution_count": null,
   "metadata": {},
   "outputs": [],
   "source": [
    "#new_df"
   ]
  },
  {
   "cell_type": "code",
   "execution_count": null,
   "metadata": {},
   "outputs": [],
   "source": [
    "#new_df.to_csv('feature_table.csv',index= False)"
   ]
  },
  {
   "cell_type": "code",
   "execution_count": null,
   "metadata": {},
   "outputs": [],
   "source": []
  },
  {
   "cell_type": "markdown",
   "metadata": {},
   "source": [
    "### Getting variability over last 6 hours"
   ]
  },
  {
   "cell_type": "code",
   "execution_count": null,
   "metadata": {},
   "outputs": [],
   "source": [
    "merged_inner_var = merged_inner[(merged_inner['timediffhour']>0)&(merged_inner['timediffhour']<6)]\n",
    "\n",
    "varBP = merged_inner_var.groupby('hadm_id')['valuenum'].std()\n",
    "varBP = varBP.reset_index()\n",
    "varBP.columns = (['hadm_id','stdTidalVol'])"
   ]
  },
  {
   "cell_type": "code",
   "execution_count": null,
   "metadata": {},
   "outputs": [],
   "source": [
    "#plt.hist(merged_inner_var['timediffhour'])"
   ]
  },
  {
   "cell_type": "code",
   "execution_count": null,
   "metadata": {
    "scrolled": false
   },
   "outputs": [],
   "source": []
  },
  {
   "cell_type": "code",
   "execution_count": null,
   "metadata": {},
   "outputs": [],
   "source": []
  },
  {
   "cell_type": "markdown",
   "metadata": {},
   "source": [
    "new_df = pd.merge(left = svents, right=meanBP, how = 'left', left_on='hadm_id', right_on='hadm_id')\n",
    "new_df"
   ]
  },
  {
   "cell_type": "markdown",
   "metadata": {},
   "source": [
    "new_df = pd.merge(left = new_df, right=varBP, how = 'left', left_on='hadm_id', right_on='hadm_id')\n",
    "new_df"
   ]
  },
  {
   "cell_type": "markdown",
   "metadata": {},
   "source": [
    "new_df.drop(['temp','stdTemp'],axis=1,inplace=True)"
   ]
  },
  {
   "cell_type": "markdown",
   "metadata": {},
   "source": [
    "new_df.to_csv('feature_table.csv',index= False)"
   ]
  }
 ],
 "metadata": {
  "kernelspec": {
   "display_name": "Python 3",
   "language": "python",
   "name": "python3"
  },
  "language_info": {
   "codemirror_mode": {
    "name": "ipython",
    "version": 3
   },
   "file_extension": ".py",
   "mimetype": "text/x-python",
   "name": "python",
   "nbconvert_exporter": "python",
   "pygments_lexer": "ipython3",
   "version": "3.8.5"
  }
 },
 "nbformat": 4,
 "nbformat_minor": 4
}
